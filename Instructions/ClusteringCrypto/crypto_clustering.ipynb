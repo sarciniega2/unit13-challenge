{
 "cells": [
  {
   "cell_type": "markdown",
   "metadata": {},
   "source": [
    "# Clustering Crypto"
   ]
  },
  {
   "cell_type": "code",
   "execution_count": 56,
   "metadata": {},
   "outputs": [],
   "source": [
    "# Initial imports\n",
    "import requests\n",
    "import pandas as pd\n",
    "from pathlib import Path\n",
    "import matplotlib.pyplot as plt\n",
    "import hvplot.pandas\n",
    "import plotly.express as px\n",
    "from sklearn.preprocessing import StandardScaler, MinMaxScaler\n",
    "from sklearn.decomposition import PCA\n",
    "from sklearn.cluster import KMeans"
   ]
  },
  {
   "cell_type": "markdown",
   "metadata": {},
   "source": [
    "### Fetching Cryptocurrency Data"
   ]
  },
  {
   "cell_type": "code",
   "execution_count": 57,
   "metadata": {},
   "outputs": [],
   "source": [
    "# Use the following endpoint to fetch json data\n",
    "url = \"https://min-api.cryptocompare.com/data/all/coinlist\""
   ]
  },
  {
   "cell_type": "code",
   "execution_count": 58,
   "metadata": {},
   "outputs": [],
   "source": [
    "# Create a DataFrame \n",
    "# HINT: You will need to use the 'Data' key from the json response, then transpose the DataFrame."
   ]
  },
  {
   "cell_type": "code",
   "execution_count": 59,
   "metadata": {},
   "outputs": [
    {
     "output_type": "execute_result",
     "data": {
      "text/plain": [
       "         CoinName Algorithm  IsTrading ProofType  TotalCoinsMined  \\\n",
       "Symbol                                                              \n",
       "42        42 Coin    Scrypt       True   PoW/PoS     4.199995e+01   \n",
       "365       365Coin       X11       True   PoW/PoS              NaN   \n",
       "404       404Coin    Scrypt       True   PoW/PoS     1.055185e+09   \n",
       "611     SixEleven   SHA-256       True       PoW              NaN   \n",
       "808           808   SHA-256       True   PoW/PoS     0.000000e+00   \n",
       "1337    EliteCoin       X13       True   PoW/PoS     2.927942e+10   \n",
       "2015    2015 coin       X11       True   PoW/PoS              NaN   \n",
       "BTC       Bitcoin   SHA-256       True       PoW     1.792718e+07   \n",
       "ETH      Ethereum    Ethash       True       PoW     1.076842e+08   \n",
       "LTC      Litecoin    Scrypt       True       PoW     6.303924e+07   \n",
       "\n",
       "       TotalCoinSupply  \n",
       "Symbol                  \n",
       "42                  42  \n",
       "365         2300000000  \n",
       "404          532000000  \n",
       "611             611000  \n",
       "808                  0  \n",
       "1337      314159265359  \n",
       "2015                 0  \n",
       "BTC           21000000  \n",
       "ETH                  0  \n",
       "LTC           84000000  "
      ],
      "text/html": "<div>\n<style scoped>\n    .dataframe tbody tr th:only-of-type {\n        vertical-align: middle;\n    }\n\n    .dataframe tbody tr th {\n        vertical-align: top;\n    }\n\n    .dataframe thead th {\n        text-align: right;\n    }\n</style>\n<table border=\"1\" class=\"dataframe\">\n  <thead>\n    <tr style=\"text-align: right;\">\n      <th></th>\n      <th>CoinName</th>\n      <th>Algorithm</th>\n      <th>IsTrading</th>\n      <th>ProofType</th>\n      <th>TotalCoinsMined</th>\n      <th>TotalCoinSupply</th>\n    </tr>\n    <tr>\n      <th>Symbol</th>\n      <th></th>\n      <th></th>\n      <th></th>\n      <th></th>\n      <th></th>\n      <th></th>\n    </tr>\n  </thead>\n  <tbody>\n    <tr>\n      <th>42</th>\n      <td>42 Coin</td>\n      <td>Scrypt</td>\n      <td>True</td>\n      <td>PoW/PoS</td>\n      <td>4.199995e+01</td>\n      <td>42</td>\n    </tr>\n    <tr>\n      <th>365</th>\n      <td>365Coin</td>\n      <td>X11</td>\n      <td>True</td>\n      <td>PoW/PoS</td>\n      <td>NaN</td>\n      <td>2300000000</td>\n    </tr>\n    <tr>\n      <th>404</th>\n      <td>404Coin</td>\n      <td>Scrypt</td>\n      <td>True</td>\n      <td>PoW/PoS</td>\n      <td>1.055185e+09</td>\n      <td>532000000</td>\n    </tr>\n    <tr>\n      <th>611</th>\n      <td>SixEleven</td>\n      <td>SHA-256</td>\n      <td>True</td>\n      <td>PoW</td>\n      <td>NaN</td>\n      <td>611000</td>\n    </tr>\n    <tr>\n      <th>808</th>\n      <td>808</td>\n      <td>SHA-256</td>\n      <td>True</td>\n      <td>PoW/PoS</td>\n      <td>0.000000e+00</td>\n      <td>0</td>\n    </tr>\n    <tr>\n      <th>1337</th>\n      <td>EliteCoin</td>\n      <td>X13</td>\n      <td>True</td>\n      <td>PoW/PoS</td>\n      <td>2.927942e+10</td>\n      <td>314159265359</td>\n    </tr>\n    <tr>\n      <th>2015</th>\n      <td>2015 coin</td>\n      <td>X11</td>\n      <td>True</td>\n      <td>PoW/PoS</td>\n      <td>NaN</td>\n      <td>0</td>\n    </tr>\n    <tr>\n      <th>BTC</th>\n      <td>Bitcoin</td>\n      <td>SHA-256</td>\n      <td>True</td>\n      <td>PoW</td>\n      <td>1.792718e+07</td>\n      <td>21000000</td>\n    </tr>\n    <tr>\n      <th>ETH</th>\n      <td>Ethereum</td>\n      <td>Ethash</td>\n      <td>True</td>\n      <td>PoW</td>\n      <td>1.076842e+08</td>\n      <td>0</td>\n    </tr>\n    <tr>\n      <th>LTC</th>\n      <td>Litecoin</td>\n      <td>Scrypt</td>\n      <td>True</td>\n      <td>PoW</td>\n      <td>6.303924e+07</td>\n      <td>84000000</td>\n    </tr>\n  </tbody>\n</table>\n</div>"
     },
     "metadata": {},
     "execution_count": 59
    }
   ],
   "source": [
    "# Alternatively, use the provided csv file:\n",
    "# file_path = Path(\"Resources/crypto_data.csv\")\n",
    "file_path = Path(\"Resources/crypto_data.csv\")\n",
    "crypto_df = pd.read_csv(file_path, index_col=\"Symbol\")\n",
    "crypto_df.head(10)\n",
    "# Create a DataFrame"
   ]
  },
  {
   "cell_type": "markdown",
   "metadata": {},
   "source": [
    "### Data Preprocessing"
   ]
  },
  {
   "cell_type": "code",
   "execution_count": 60,
   "metadata": {},
   "outputs": [
    {
     "output_type": "execute_result",
     "data": {
      "text/plain": [
       "         CoinName Algorithm  IsTrading ProofType  TotalCoinsMined  \\\n",
       "Symbol                                                              \n",
       "42        42 Coin    Scrypt       True   PoW/PoS     4.199995e+01   \n",
       "365       365Coin       X11       True   PoW/PoS              NaN   \n",
       "404       404Coin    Scrypt       True   PoW/PoS     1.055185e+09   \n",
       "611     SixEleven   SHA-256       True       PoW              NaN   \n",
       "808           808   SHA-256       True   PoW/PoS     0.000000e+00   \n",
       "1337    EliteCoin       X13       True   PoW/PoS     2.927942e+10   \n",
       "2015    2015 coin       X11       True   PoW/PoS              NaN   \n",
       "BTC       Bitcoin   SHA-256       True       PoW     1.792718e+07   \n",
       "ETH      Ethereum    Ethash       True       PoW     1.076842e+08   \n",
       "LTC      Litecoin    Scrypt       True       PoW     6.303924e+07   \n",
       "\n",
       "       TotalCoinSupply  \n",
       "Symbol                  \n",
       "42                  42  \n",
       "365         2300000000  \n",
       "404          532000000  \n",
       "611             611000  \n",
       "808                  0  \n",
       "1337      314159265359  \n",
       "2015                 0  \n",
       "BTC           21000000  \n",
       "ETH                  0  \n",
       "LTC           84000000  "
      ],
      "text/html": "<div>\n<style scoped>\n    .dataframe tbody tr th:only-of-type {\n        vertical-align: middle;\n    }\n\n    .dataframe tbody tr th {\n        vertical-align: top;\n    }\n\n    .dataframe thead th {\n        text-align: right;\n    }\n</style>\n<table border=\"1\" class=\"dataframe\">\n  <thead>\n    <tr style=\"text-align: right;\">\n      <th></th>\n      <th>CoinName</th>\n      <th>Algorithm</th>\n      <th>IsTrading</th>\n      <th>ProofType</th>\n      <th>TotalCoinsMined</th>\n      <th>TotalCoinSupply</th>\n    </tr>\n    <tr>\n      <th>Symbol</th>\n      <th></th>\n      <th></th>\n      <th></th>\n      <th></th>\n      <th></th>\n      <th></th>\n    </tr>\n  </thead>\n  <tbody>\n    <tr>\n      <th>42</th>\n      <td>42 Coin</td>\n      <td>Scrypt</td>\n      <td>True</td>\n      <td>PoW/PoS</td>\n      <td>4.199995e+01</td>\n      <td>42</td>\n    </tr>\n    <tr>\n      <th>365</th>\n      <td>365Coin</td>\n      <td>X11</td>\n      <td>True</td>\n      <td>PoW/PoS</td>\n      <td>NaN</td>\n      <td>2300000000</td>\n    </tr>\n    <tr>\n      <th>404</th>\n      <td>404Coin</td>\n      <td>Scrypt</td>\n      <td>True</td>\n      <td>PoW/PoS</td>\n      <td>1.055185e+09</td>\n      <td>532000000</td>\n    </tr>\n    <tr>\n      <th>611</th>\n      <td>SixEleven</td>\n      <td>SHA-256</td>\n      <td>True</td>\n      <td>PoW</td>\n      <td>NaN</td>\n      <td>611000</td>\n    </tr>\n    <tr>\n      <th>808</th>\n      <td>808</td>\n      <td>SHA-256</td>\n      <td>True</td>\n      <td>PoW/PoS</td>\n      <td>0.000000e+00</td>\n      <td>0</td>\n    </tr>\n    <tr>\n      <th>1337</th>\n      <td>EliteCoin</td>\n      <td>X13</td>\n      <td>True</td>\n      <td>PoW/PoS</td>\n      <td>2.927942e+10</td>\n      <td>314159265359</td>\n    </tr>\n    <tr>\n      <th>2015</th>\n      <td>2015 coin</td>\n      <td>X11</td>\n      <td>True</td>\n      <td>PoW/PoS</td>\n      <td>NaN</td>\n      <td>0</td>\n    </tr>\n    <tr>\n      <th>BTC</th>\n      <td>Bitcoin</td>\n      <td>SHA-256</td>\n      <td>True</td>\n      <td>PoW</td>\n      <td>1.792718e+07</td>\n      <td>21000000</td>\n    </tr>\n    <tr>\n      <th>ETH</th>\n      <td>Ethereum</td>\n      <td>Ethash</td>\n      <td>True</td>\n      <td>PoW</td>\n      <td>1.076842e+08</td>\n      <td>0</td>\n    </tr>\n    <tr>\n      <th>LTC</th>\n      <td>Litecoin</td>\n      <td>Scrypt</td>\n      <td>True</td>\n      <td>PoW</td>\n      <td>6.303924e+07</td>\n      <td>84000000</td>\n    </tr>\n  </tbody>\n</table>\n</div>"
     },
     "metadata": {},
     "execution_count": 60
    }
   ],
   "source": [
    "# Keep only necessary columns:\n",
    "# 'CoinName','Algorithm','IsTrading','ProofType','TotalCoinsMined','TotalCoinSupply'\n",
    "#crypto_df = crypto_df[[\" \", \"CoinName\", \"Algorithm\", \"IsTrading\", \"ProofType\", \"TotalCoinsMined\", \"TotalCoinSupply\"]]\n",
    "\n",
    "crypto_df.head(10)"
   ]
  },
  {
   "cell_type": "code",
   "execution_count": 61,
   "metadata": {},
   "outputs": [
    {
     "output_type": "execute_result",
     "data": {
      "text/plain": [
       "           CoinName    Algorithm  IsTrading ProofType  TotalCoinsMined  \\\n",
       "Symbol                                                                   \n",
       "42          42 Coin       Scrypt       True   PoW/PoS     4.199995e+01   \n",
       "365         365Coin          X11       True   PoW/PoS              NaN   \n",
       "404         404Coin       Scrypt       True   PoW/PoS     1.055185e+09   \n",
       "611       SixEleven      SHA-256       True       PoW              NaN   \n",
       "808             808      SHA-256       True   PoW/PoS     0.000000e+00   \n",
       "...             ...          ...        ...       ...              ...   \n",
       "SERO     Super Zero       Ethash       True       PoW              NaN   \n",
       "UOS             UOS      SHA-256       True      DPoI              NaN   \n",
       "BDX          Beldex  CryptoNight       True       PoW     9.802226e+08   \n",
       "ZEN         Horizen     Equihash       True       PoW     7.296538e+06   \n",
       "XBC     BitcoinPlus       Scrypt       True       PoS     1.283270e+05   \n",
       "\n",
       "       TotalCoinSupply  \n",
       "Symbol                  \n",
       "42                  42  \n",
       "365         2300000000  \n",
       "404          532000000  \n",
       "611             611000  \n",
       "808                  0  \n",
       "...                ...  \n",
       "SERO        1000000000  \n",
       "UOS         1000000000  \n",
       "BDX         1400222610  \n",
       "ZEN           21000000  \n",
       "XBC            1000000  \n",
       "\n",
       "[1144 rows x 6 columns]"
      ],
      "text/html": "<div>\n<style scoped>\n    .dataframe tbody tr th:only-of-type {\n        vertical-align: middle;\n    }\n\n    .dataframe tbody tr th {\n        vertical-align: top;\n    }\n\n    .dataframe thead th {\n        text-align: right;\n    }\n</style>\n<table border=\"1\" class=\"dataframe\">\n  <thead>\n    <tr style=\"text-align: right;\">\n      <th></th>\n      <th>CoinName</th>\n      <th>Algorithm</th>\n      <th>IsTrading</th>\n      <th>ProofType</th>\n      <th>TotalCoinsMined</th>\n      <th>TotalCoinSupply</th>\n    </tr>\n    <tr>\n      <th>Symbol</th>\n      <th></th>\n      <th></th>\n      <th></th>\n      <th></th>\n      <th></th>\n      <th></th>\n    </tr>\n  </thead>\n  <tbody>\n    <tr>\n      <th>42</th>\n      <td>42 Coin</td>\n      <td>Scrypt</td>\n      <td>True</td>\n      <td>PoW/PoS</td>\n      <td>4.199995e+01</td>\n      <td>42</td>\n    </tr>\n    <tr>\n      <th>365</th>\n      <td>365Coin</td>\n      <td>X11</td>\n      <td>True</td>\n      <td>PoW/PoS</td>\n      <td>NaN</td>\n      <td>2300000000</td>\n    </tr>\n    <tr>\n      <th>404</th>\n      <td>404Coin</td>\n      <td>Scrypt</td>\n      <td>True</td>\n      <td>PoW/PoS</td>\n      <td>1.055185e+09</td>\n      <td>532000000</td>\n    </tr>\n    <tr>\n      <th>611</th>\n      <td>SixEleven</td>\n      <td>SHA-256</td>\n      <td>True</td>\n      <td>PoW</td>\n      <td>NaN</td>\n      <td>611000</td>\n    </tr>\n    <tr>\n      <th>808</th>\n      <td>808</td>\n      <td>SHA-256</td>\n      <td>True</td>\n      <td>PoW/PoS</td>\n      <td>0.000000e+00</td>\n      <td>0</td>\n    </tr>\n    <tr>\n      <th>...</th>\n      <td>...</td>\n      <td>...</td>\n      <td>...</td>\n      <td>...</td>\n      <td>...</td>\n      <td>...</td>\n    </tr>\n    <tr>\n      <th>SERO</th>\n      <td>Super Zero</td>\n      <td>Ethash</td>\n      <td>True</td>\n      <td>PoW</td>\n      <td>NaN</td>\n      <td>1000000000</td>\n    </tr>\n    <tr>\n      <th>UOS</th>\n      <td>UOS</td>\n      <td>SHA-256</td>\n      <td>True</td>\n      <td>DPoI</td>\n      <td>NaN</td>\n      <td>1000000000</td>\n    </tr>\n    <tr>\n      <th>BDX</th>\n      <td>Beldex</td>\n      <td>CryptoNight</td>\n      <td>True</td>\n      <td>PoW</td>\n      <td>9.802226e+08</td>\n      <td>1400222610</td>\n    </tr>\n    <tr>\n      <th>ZEN</th>\n      <td>Horizen</td>\n      <td>Equihash</td>\n      <td>True</td>\n      <td>PoW</td>\n      <td>7.296538e+06</td>\n      <td>21000000</td>\n    </tr>\n    <tr>\n      <th>XBC</th>\n      <td>BitcoinPlus</td>\n      <td>Scrypt</td>\n      <td>True</td>\n      <td>PoS</td>\n      <td>1.283270e+05</td>\n      <td>1000000</td>\n    </tr>\n  </tbody>\n</table>\n<p>1144 rows × 6 columns</p>\n</div>"
     },
     "metadata": {},
     "execution_count": 61
    }
   ],
   "source": [
    "# Keep only cryptocurrencies that are trading\n",
    "crypto_df = crypto_df[crypto_df[\"IsTrading\"]== True]\n",
    "crypto_df"
   ]
  },
  {
   "cell_type": "code",
   "execution_count": 62,
   "metadata": {},
   "outputs": [
    {
     "output_type": "execute_result",
     "data": {
      "text/plain": [
       "           CoinName    Algorithm  IsTrading ProofType  TotalCoinsMined  \\\n",
       "Symbol                                                                   \n",
       "42          42 Coin       Scrypt       True   PoW/PoS     4.199995e+01   \n",
       "365         365Coin          X11       True   PoW/PoS              NaN   \n",
       "404         404Coin       Scrypt       True   PoW/PoS     1.055185e+09   \n",
       "611       SixEleven      SHA-256       True       PoW              NaN   \n",
       "808             808      SHA-256       True   PoW/PoS     0.000000e+00   \n",
       "...             ...          ...        ...       ...              ...   \n",
       "SERO     Super Zero       Ethash       True       PoW              NaN   \n",
       "UOS             UOS      SHA-256       True      DPoI              NaN   \n",
       "BDX          Beldex  CryptoNight       True       PoW     9.802226e+08   \n",
       "ZEN         Horizen     Equihash       True       PoW     7.296538e+06   \n",
       "XBC     BitcoinPlus       Scrypt       True       PoS     1.283270e+05   \n",
       "\n",
       "       TotalCoinSupply  \n",
       "Symbol                  \n",
       "42                  42  \n",
       "365         2300000000  \n",
       "404          532000000  \n",
       "611             611000  \n",
       "808                  0  \n",
       "...                ...  \n",
       "SERO        1000000000  \n",
       "UOS         1000000000  \n",
       "BDX         1400222610  \n",
       "ZEN           21000000  \n",
       "XBC            1000000  \n",
       "\n",
       "[1144 rows x 6 columns]"
      ],
      "text/html": "<div>\n<style scoped>\n    .dataframe tbody tr th:only-of-type {\n        vertical-align: middle;\n    }\n\n    .dataframe tbody tr th {\n        vertical-align: top;\n    }\n\n    .dataframe thead th {\n        text-align: right;\n    }\n</style>\n<table border=\"1\" class=\"dataframe\">\n  <thead>\n    <tr style=\"text-align: right;\">\n      <th></th>\n      <th>CoinName</th>\n      <th>Algorithm</th>\n      <th>IsTrading</th>\n      <th>ProofType</th>\n      <th>TotalCoinsMined</th>\n      <th>TotalCoinSupply</th>\n    </tr>\n    <tr>\n      <th>Symbol</th>\n      <th></th>\n      <th></th>\n      <th></th>\n      <th></th>\n      <th></th>\n      <th></th>\n    </tr>\n  </thead>\n  <tbody>\n    <tr>\n      <th>42</th>\n      <td>42 Coin</td>\n      <td>Scrypt</td>\n      <td>True</td>\n      <td>PoW/PoS</td>\n      <td>4.199995e+01</td>\n      <td>42</td>\n    </tr>\n    <tr>\n      <th>365</th>\n      <td>365Coin</td>\n      <td>X11</td>\n      <td>True</td>\n      <td>PoW/PoS</td>\n      <td>NaN</td>\n      <td>2300000000</td>\n    </tr>\n    <tr>\n      <th>404</th>\n      <td>404Coin</td>\n      <td>Scrypt</td>\n      <td>True</td>\n      <td>PoW/PoS</td>\n      <td>1.055185e+09</td>\n      <td>532000000</td>\n    </tr>\n    <tr>\n      <th>611</th>\n      <td>SixEleven</td>\n      <td>SHA-256</td>\n      <td>True</td>\n      <td>PoW</td>\n      <td>NaN</td>\n      <td>611000</td>\n    </tr>\n    <tr>\n      <th>808</th>\n      <td>808</td>\n      <td>SHA-256</td>\n      <td>True</td>\n      <td>PoW/PoS</td>\n      <td>0.000000e+00</td>\n      <td>0</td>\n    </tr>\n    <tr>\n      <th>...</th>\n      <td>...</td>\n      <td>...</td>\n      <td>...</td>\n      <td>...</td>\n      <td>...</td>\n      <td>...</td>\n    </tr>\n    <tr>\n      <th>SERO</th>\n      <td>Super Zero</td>\n      <td>Ethash</td>\n      <td>True</td>\n      <td>PoW</td>\n      <td>NaN</td>\n      <td>1000000000</td>\n    </tr>\n    <tr>\n      <th>UOS</th>\n      <td>UOS</td>\n      <td>SHA-256</td>\n      <td>True</td>\n      <td>DPoI</td>\n      <td>NaN</td>\n      <td>1000000000</td>\n    </tr>\n    <tr>\n      <th>BDX</th>\n      <td>Beldex</td>\n      <td>CryptoNight</td>\n      <td>True</td>\n      <td>PoW</td>\n      <td>9.802226e+08</td>\n      <td>1400222610</td>\n    </tr>\n    <tr>\n      <th>ZEN</th>\n      <td>Horizen</td>\n      <td>Equihash</td>\n      <td>True</td>\n      <td>PoW</td>\n      <td>7.296538e+06</td>\n      <td>21000000</td>\n    </tr>\n    <tr>\n      <th>XBC</th>\n      <td>BitcoinPlus</td>\n      <td>Scrypt</td>\n      <td>True</td>\n      <td>PoS</td>\n      <td>1.283270e+05</td>\n      <td>1000000</td>\n    </tr>\n  </tbody>\n</table>\n<p>1144 rows × 6 columns</p>\n</div>"
     },
     "metadata": {},
     "execution_count": 62
    }
   ],
   "source": [
    "# Keep only cryptocurrencies with a working algorithm\n",
    "#crypto_df.drop([crypto_df[\"Algorithm\"]== \"NA\"])\n",
    "crypto_df"
   ]
  },
  {
   "cell_type": "code",
   "execution_count": 63,
   "metadata": {},
   "outputs": [
    {
     "output_type": "execute_result",
     "data": {
      "text/plain": [
       "           CoinName    Algorithm ProofType  TotalCoinsMined TotalCoinSupply\n",
       "Symbol                                                                     \n",
       "42          42 Coin       Scrypt   PoW/PoS     4.199995e+01              42\n",
       "365         365Coin          X11   PoW/PoS              NaN      2300000000\n",
       "404         404Coin       Scrypt   PoW/PoS     1.055185e+09       532000000\n",
       "611       SixEleven      SHA-256       PoW              NaN          611000\n",
       "808             808      SHA-256   PoW/PoS     0.000000e+00               0\n",
       "...             ...          ...       ...              ...             ...\n",
       "SERO     Super Zero       Ethash       PoW              NaN      1000000000\n",
       "UOS             UOS      SHA-256      DPoI              NaN      1000000000\n",
       "BDX          Beldex  CryptoNight       PoW     9.802226e+08      1400222610\n",
       "ZEN         Horizen     Equihash       PoW     7.296538e+06        21000000\n",
       "XBC     BitcoinPlus       Scrypt       PoS     1.283270e+05         1000000\n",
       "\n",
       "[1144 rows x 5 columns]"
      ],
      "text/html": "<div>\n<style scoped>\n    .dataframe tbody tr th:only-of-type {\n        vertical-align: middle;\n    }\n\n    .dataframe tbody tr th {\n        vertical-align: top;\n    }\n\n    .dataframe thead th {\n        text-align: right;\n    }\n</style>\n<table border=\"1\" class=\"dataframe\">\n  <thead>\n    <tr style=\"text-align: right;\">\n      <th></th>\n      <th>CoinName</th>\n      <th>Algorithm</th>\n      <th>ProofType</th>\n      <th>TotalCoinsMined</th>\n      <th>TotalCoinSupply</th>\n    </tr>\n    <tr>\n      <th>Symbol</th>\n      <th></th>\n      <th></th>\n      <th></th>\n      <th></th>\n      <th></th>\n    </tr>\n  </thead>\n  <tbody>\n    <tr>\n      <th>42</th>\n      <td>42 Coin</td>\n      <td>Scrypt</td>\n      <td>PoW/PoS</td>\n      <td>4.199995e+01</td>\n      <td>42</td>\n    </tr>\n    <tr>\n      <th>365</th>\n      <td>365Coin</td>\n      <td>X11</td>\n      <td>PoW/PoS</td>\n      <td>NaN</td>\n      <td>2300000000</td>\n    </tr>\n    <tr>\n      <th>404</th>\n      <td>404Coin</td>\n      <td>Scrypt</td>\n      <td>PoW/PoS</td>\n      <td>1.055185e+09</td>\n      <td>532000000</td>\n    </tr>\n    <tr>\n      <th>611</th>\n      <td>SixEleven</td>\n      <td>SHA-256</td>\n      <td>PoW</td>\n      <td>NaN</td>\n      <td>611000</td>\n    </tr>\n    <tr>\n      <th>808</th>\n      <td>808</td>\n      <td>SHA-256</td>\n      <td>PoW/PoS</td>\n      <td>0.000000e+00</td>\n      <td>0</td>\n    </tr>\n    <tr>\n      <th>...</th>\n      <td>...</td>\n      <td>...</td>\n      <td>...</td>\n      <td>...</td>\n      <td>...</td>\n    </tr>\n    <tr>\n      <th>SERO</th>\n      <td>Super Zero</td>\n      <td>Ethash</td>\n      <td>PoW</td>\n      <td>NaN</td>\n      <td>1000000000</td>\n    </tr>\n    <tr>\n      <th>UOS</th>\n      <td>UOS</td>\n      <td>SHA-256</td>\n      <td>DPoI</td>\n      <td>NaN</td>\n      <td>1000000000</td>\n    </tr>\n    <tr>\n      <th>BDX</th>\n      <td>Beldex</td>\n      <td>CryptoNight</td>\n      <td>PoW</td>\n      <td>9.802226e+08</td>\n      <td>1400222610</td>\n    </tr>\n    <tr>\n      <th>ZEN</th>\n      <td>Horizen</td>\n      <td>Equihash</td>\n      <td>PoW</td>\n      <td>7.296538e+06</td>\n      <td>21000000</td>\n    </tr>\n    <tr>\n      <th>XBC</th>\n      <td>BitcoinPlus</td>\n      <td>Scrypt</td>\n      <td>PoS</td>\n      <td>1.283270e+05</td>\n      <td>1000000</td>\n    </tr>\n  </tbody>\n</table>\n<p>1144 rows × 5 columns</p>\n</div>"
     },
     "metadata": {},
     "execution_count": 63
    }
   ],
   "source": [
    "# Remove the \"IsTrading\" column\n",
    "crypto_df = crypto_df.drop([\"IsTrading\"], axis=1)\n",
    "crypto_df"
   ]
  },
  {
   "cell_type": "code",
   "execution_count": 64,
   "metadata": {},
   "outputs": [
    {
     "output_type": "execute_result",
     "data": {
      "text/plain": [
       "           CoinName    Algorithm ProofType  TotalCoinsMined TotalCoinSupply\n",
       "Symbol                                                                     \n",
       "42          42 Coin       Scrypt   PoW/PoS     4.199995e+01              42\n",
       "404         404Coin       Scrypt   PoW/PoS     1.055185e+09       532000000\n",
       "808             808      SHA-256   PoW/PoS     0.000000e+00               0\n",
       "1337      EliteCoin          X13   PoW/PoS     2.927942e+10    314159265359\n",
       "BTC         Bitcoin      SHA-256       PoW     1.792718e+07        21000000\n",
       "...             ...          ...       ...              ...             ...\n",
       "ZEPH         ZEPHYR      SHA-256      DPoS     2.000000e+09      2000000000\n",
       "GAP         Gapcoin       Scrypt   PoW/PoS     1.493105e+07       250000000\n",
       "BDX          Beldex  CryptoNight       PoW     9.802226e+08      1400222610\n",
       "ZEN         Horizen     Equihash       PoW     7.296538e+06        21000000\n",
       "XBC     BitcoinPlus       Scrypt       PoS     1.283270e+05         1000000\n",
       "\n",
       "[685 rows x 5 columns]"
      ],
      "text/html": "<div>\n<style scoped>\n    .dataframe tbody tr th:only-of-type {\n        vertical-align: middle;\n    }\n\n    .dataframe tbody tr th {\n        vertical-align: top;\n    }\n\n    .dataframe thead th {\n        text-align: right;\n    }\n</style>\n<table border=\"1\" class=\"dataframe\">\n  <thead>\n    <tr style=\"text-align: right;\">\n      <th></th>\n      <th>CoinName</th>\n      <th>Algorithm</th>\n      <th>ProofType</th>\n      <th>TotalCoinsMined</th>\n      <th>TotalCoinSupply</th>\n    </tr>\n    <tr>\n      <th>Symbol</th>\n      <th></th>\n      <th></th>\n      <th></th>\n      <th></th>\n      <th></th>\n    </tr>\n  </thead>\n  <tbody>\n    <tr>\n      <th>42</th>\n      <td>42 Coin</td>\n      <td>Scrypt</td>\n      <td>PoW/PoS</td>\n      <td>4.199995e+01</td>\n      <td>42</td>\n    </tr>\n    <tr>\n      <th>404</th>\n      <td>404Coin</td>\n      <td>Scrypt</td>\n      <td>PoW/PoS</td>\n      <td>1.055185e+09</td>\n      <td>532000000</td>\n    </tr>\n    <tr>\n      <th>808</th>\n      <td>808</td>\n      <td>SHA-256</td>\n      <td>PoW/PoS</td>\n      <td>0.000000e+00</td>\n      <td>0</td>\n    </tr>\n    <tr>\n      <th>1337</th>\n      <td>EliteCoin</td>\n      <td>X13</td>\n      <td>PoW/PoS</td>\n      <td>2.927942e+10</td>\n      <td>314159265359</td>\n    </tr>\n    <tr>\n      <th>BTC</th>\n      <td>Bitcoin</td>\n      <td>SHA-256</td>\n      <td>PoW</td>\n      <td>1.792718e+07</td>\n      <td>21000000</td>\n    </tr>\n    <tr>\n      <th>...</th>\n      <td>...</td>\n      <td>...</td>\n      <td>...</td>\n      <td>...</td>\n      <td>...</td>\n    </tr>\n    <tr>\n      <th>ZEPH</th>\n      <td>ZEPHYR</td>\n      <td>SHA-256</td>\n      <td>DPoS</td>\n      <td>2.000000e+09</td>\n      <td>2000000000</td>\n    </tr>\n    <tr>\n      <th>GAP</th>\n      <td>Gapcoin</td>\n      <td>Scrypt</td>\n      <td>PoW/PoS</td>\n      <td>1.493105e+07</td>\n      <td>250000000</td>\n    </tr>\n    <tr>\n      <th>BDX</th>\n      <td>Beldex</td>\n      <td>CryptoNight</td>\n      <td>PoW</td>\n      <td>9.802226e+08</td>\n      <td>1400222610</td>\n    </tr>\n    <tr>\n      <th>ZEN</th>\n      <td>Horizen</td>\n      <td>Equihash</td>\n      <td>PoW</td>\n      <td>7.296538e+06</td>\n      <td>21000000</td>\n    </tr>\n    <tr>\n      <th>XBC</th>\n      <td>BitcoinPlus</td>\n      <td>Scrypt</td>\n      <td>PoS</td>\n      <td>1.283270e+05</td>\n      <td>1000000</td>\n    </tr>\n  </tbody>\n</table>\n<p>685 rows × 5 columns</p>\n</div>"
     },
     "metadata": {},
     "execution_count": 64
    }
   ],
   "source": [
    "# Remove rows with at least 1 null value\n",
    "crypto_df = crypto_df.dropna()\n",
    "crypto_df"
   ]
  },
  {
   "cell_type": "code",
   "execution_count": 65,
   "metadata": {},
   "outputs": [
    {
     "output_type": "execute_result",
     "data": {
      "text/plain": [
       "                CoinName       Algorithm ProofType  TotalCoinsMined  \\\n",
       "Symbol                                                                \n",
       "42               42 Coin          Scrypt   PoW/PoS     4.199995e+01   \n",
       "404              404Coin          Scrypt   PoW/PoS     1.055185e+09   \n",
       "1337           EliteCoin             X13   PoW/PoS     2.927942e+10   \n",
       "BTC              Bitcoin         SHA-256       PoW     1.792718e+07   \n",
       "ETH             Ethereum          Ethash       PoW     1.076842e+08   \n",
       "LTC             Litecoin          Scrypt       PoW     6.303924e+07   \n",
       "DASH                Dash             X11   PoW/PoS     9.031294e+06   \n",
       "XMR               Monero  CryptoNight-V7       PoW     1.720114e+07   \n",
       "ETC     Ethereum Classic          Ethash       PoW     1.133597e+08   \n",
       "ZEC                ZCash        Equihash       PoW     7.383056e+06   \n",
       "\n",
       "       TotalCoinSupply  \n",
       "Symbol                  \n",
       "42                  42  \n",
       "404          532000000  \n",
       "1337      314159265359  \n",
       "BTC           21000000  \n",
       "ETH                  0  \n",
       "LTC           84000000  \n",
       "DASH          22000000  \n",
       "XMR                  0  \n",
       "ETC          210000000  \n",
       "ZEC           21000000  "
      ],
      "text/html": "<div>\n<style scoped>\n    .dataframe tbody tr th:only-of-type {\n        vertical-align: middle;\n    }\n\n    .dataframe tbody tr th {\n        vertical-align: top;\n    }\n\n    .dataframe thead th {\n        text-align: right;\n    }\n</style>\n<table border=\"1\" class=\"dataframe\">\n  <thead>\n    <tr style=\"text-align: right;\">\n      <th></th>\n      <th>CoinName</th>\n      <th>Algorithm</th>\n      <th>ProofType</th>\n      <th>TotalCoinsMined</th>\n      <th>TotalCoinSupply</th>\n    </tr>\n    <tr>\n      <th>Symbol</th>\n      <th></th>\n      <th></th>\n      <th></th>\n      <th></th>\n      <th></th>\n    </tr>\n  </thead>\n  <tbody>\n    <tr>\n      <th>42</th>\n      <td>42 Coin</td>\n      <td>Scrypt</td>\n      <td>PoW/PoS</td>\n      <td>4.199995e+01</td>\n      <td>42</td>\n    </tr>\n    <tr>\n      <th>404</th>\n      <td>404Coin</td>\n      <td>Scrypt</td>\n      <td>PoW/PoS</td>\n      <td>1.055185e+09</td>\n      <td>532000000</td>\n    </tr>\n    <tr>\n      <th>1337</th>\n      <td>EliteCoin</td>\n      <td>X13</td>\n      <td>PoW/PoS</td>\n      <td>2.927942e+10</td>\n      <td>314159265359</td>\n    </tr>\n    <tr>\n      <th>BTC</th>\n      <td>Bitcoin</td>\n      <td>SHA-256</td>\n      <td>PoW</td>\n      <td>1.792718e+07</td>\n      <td>21000000</td>\n    </tr>\n    <tr>\n      <th>ETH</th>\n      <td>Ethereum</td>\n      <td>Ethash</td>\n      <td>PoW</td>\n      <td>1.076842e+08</td>\n      <td>0</td>\n    </tr>\n    <tr>\n      <th>LTC</th>\n      <td>Litecoin</td>\n      <td>Scrypt</td>\n      <td>PoW</td>\n      <td>6.303924e+07</td>\n      <td>84000000</td>\n    </tr>\n    <tr>\n      <th>DASH</th>\n      <td>Dash</td>\n      <td>X11</td>\n      <td>PoW/PoS</td>\n      <td>9.031294e+06</td>\n      <td>22000000</td>\n    </tr>\n    <tr>\n      <th>XMR</th>\n      <td>Monero</td>\n      <td>CryptoNight-V7</td>\n      <td>PoW</td>\n      <td>1.720114e+07</td>\n      <td>0</td>\n    </tr>\n    <tr>\n      <th>ETC</th>\n      <td>Ethereum Classic</td>\n      <td>Ethash</td>\n      <td>PoW</td>\n      <td>1.133597e+08</td>\n      <td>210000000</td>\n    </tr>\n    <tr>\n      <th>ZEC</th>\n      <td>ZCash</td>\n      <td>Equihash</td>\n      <td>PoW</td>\n      <td>7.383056e+06</td>\n      <td>21000000</td>\n    </tr>\n  </tbody>\n</table>\n</div>"
     },
     "metadata": {},
     "execution_count": 65
    }
   ],
   "source": [
    "# Remove rows with cryptocurrencies having no coins mined\n",
    "crypto_df = crypto_df[crypto_df[\"TotalCoinsMined\"] > 0]\n",
    "crypto_df.head(10)"
   ]
  },
  {
   "cell_type": "code",
   "execution_count": 66,
   "metadata": {},
   "outputs": [],
   "source": [
    "# Drop rows where there are 'N/A' text values\n",
    "#crypto_df.drop([crypto_df[\"Algorithm\"]== \"NA\"])"
   ]
  },
  {
   "cell_type": "code",
   "execution_count": 67,
   "metadata": {},
   "outputs": [
    {
     "output_type": "execute_result",
     "data": {
      "text/plain": [
       "           CoinName\n",
       "Symbol             \n",
       "42          42 Coin\n",
       "404         404Coin\n",
       "1337      EliteCoin\n",
       "BTC         Bitcoin\n",
       "ETH        Ethereum\n",
       "...             ...\n",
       "ZEPH         ZEPHYR\n",
       "GAP         Gapcoin\n",
       "BDX          Beldex\n",
       "ZEN         Horizen\n",
       "XBC     BitcoinPlus\n",
       "\n",
       "[532 rows x 1 columns]"
      ],
      "text/html": "<div>\n<style scoped>\n    .dataframe tbody tr th:only-of-type {\n        vertical-align: middle;\n    }\n\n    .dataframe tbody tr th {\n        vertical-align: top;\n    }\n\n    .dataframe thead th {\n        text-align: right;\n    }\n</style>\n<table border=\"1\" class=\"dataframe\">\n  <thead>\n    <tr style=\"text-align: right;\">\n      <th></th>\n      <th>CoinName</th>\n    </tr>\n    <tr>\n      <th>Symbol</th>\n      <th></th>\n    </tr>\n  </thead>\n  <tbody>\n    <tr>\n      <th>42</th>\n      <td>42 Coin</td>\n    </tr>\n    <tr>\n      <th>404</th>\n      <td>404Coin</td>\n    </tr>\n    <tr>\n      <th>1337</th>\n      <td>EliteCoin</td>\n    </tr>\n    <tr>\n      <th>BTC</th>\n      <td>Bitcoin</td>\n    </tr>\n    <tr>\n      <th>ETH</th>\n      <td>Ethereum</td>\n    </tr>\n    <tr>\n      <th>...</th>\n      <td>...</td>\n    </tr>\n    <tr>\n      <th>ZEPH</th>\n      <td>ZEPHYR</td>\n    </tr>\n    <tr>\n      <th>GAP</th>\n      <td>Gapcoin</td>\n    </tr>\n    <tr>\n      <th>BDX</th>\n      <td>Beldex</td>\n    </tr>\n    <tr>\n      <th>ZEN</th>\n      <td>Horizen</td>\n    </tr>\n    <tr>\n      <th>XBC</th>\n      <td>BitcoinPlus</td>\n    </tr>\n  </tbody>\n</table>\n<p>532 rows × 1 columns</p>\n</div>"
     },
     "metadata": {},
     "execution_count": 67
    }
   ],
   "source": [
    "# Store the 'CoinName'column in its own DataFrame prior to dropping it from crypto_df\n",
    "coin_name = crypto_df[\"CoinName\"].to_frame()\n",
    "coin_name"
   ]
  },
  {
   "cell_type": "code",
   "execution_count": 68,
   "metadata": {},
   "outputs": [
    {
     "output_type": "execute_result",
     "data": {
      "text/plain": [
       "          Algorithm ProofType  TotalCoinsMined TotalCoinSupply\n",
       "Symbol                                                        \n",
       "42           Scrypt   PoW/PoS     4.199995e+01              42\n",
       "404          Scrypt   PoW/PoS     1.055185e+09       532000000\n",
       "1337            X13   PoW/PoS     2.927942e+10    314159265359\n",
       "BTC         SHA-256       PoW     1.792718e+07        21000000\n",
       "ETH          Ethash       PoW     1.076842e+08               0\n",
       "...             ...       ...              ...             ...\n",
       "ZEPH        SHA-256      DPoS     2.000000e+09      2000000000\n",
       "GAP          Scrypt   PoW/PoS     1.493105e+07       250000000\n",
       "BDX     CryptoNight       PoW     9.802226e+08      1400222610\n",
       "ZEN        Equihash       PoW     7.296538e+06        21000000\n",
       "XBC          Scrypt       PoS     1.283270e+05         1000000\n",
       "\n",
       "[532 rows x 4 columns]"
      ],
      "text/html": "<div>\n<style scoped>\n    .dataframe tbody tr th:only-of-type {\n        vertical-align: middle;\n    }\n\n    .dataframe tbody tr th {\n        vertical-align: top;\n    }\n\n    .dataframe thead th {\n        text-align: right;\n    }\n</style>\n<table border=\"1\" class=\"dataframe\">\n  <thead>\n    <tr style=\"text-align: right;\">\n      <th></th>\n      <th>Algorithm</th>\n      <th>ProofType</th>\n      <th>TotalCoinsMined</th>\n      <th>TotalCoinSupply</th>\n    </tr>\n    <tr>\n      <th>Symbol</th>\n      <th></th>\n      <th></th>\n      <th></th>\n      <th></th>\n    </tr>\n  </thead>\n  <tbody>\n    <tr>\n      <th>42</th>\n      <td>Scrypt</td>\n      <td>PoW/PoS</td>\n      <td>4.199995e+01</td>\n      <td>42</td>\n    </tr>\n    <tr>\n      <th>404</th>\n      <td>Scrypt</td>\n      <td>PoW/PoS</td>\n      <td>1.055185e+09</td>\n      <td>532000000</td>\n    </tr>\n    <tr>\n      <th>1337</th>\n      <td>X13</td>\n      <td>PoW/PoS</td>\n      <td>2.927942e+10</td>\n      <td>314159265359</td>\n    </tr>\n    <tr>\n      <th>BTC</th>\n      <td>SHA-256</td>\n      <td>PoW</td>\n      <td>1.792718e+07</td>\n      <td>21000000</td>\n    </tr>\n    <tr>\n      <th>ETH</th>\n      <td>Ethash</td>\n      <td>PoW</td>\n      <td>1.076842e+08</td>\n      <td>0</td>\n    </tr>\n    <tr>\n      <th>...</th>\n      <td>...</td>\n      <td>...</td>\n      <td>...</td>\n      <td>...</td>\n    </tr>\n    <tr>\n      <th>ZEPH</th>\n      <td>SHA-256</td>\n      <td>DPoS</td>\n      <td>2.000000e+09</td>\n      <td>2000000000</td>\n    </tr>\n    <tr>\n      <th>GAP</th>\n      <td>Scrypt</td>\n      <td>PoW/PoS</td>\n      <td>1.493105e+07</td>\n      <td>250000000</td>\n    </tr>\n    <tr>\n      <th>BDX</th>\n      <td>CryptoNight</td>\n      <td>PoW</td>\n      <td>9.802226e+08</td>\n      <td>1400222610</td>\n    </tr>\n    <tr>\n      <th>ZEN</th>\n      <td>Equihash</td>\n      <td>PoW</td>\n      <td>7.296538e+06</td>\n      <td>21000000</td>\n    </tr>\n    <tr>\n      <th>XBC</th>\n      <td>Scrypt</td>\n      <td>PoS</td>\n      <td>1.283270e+05</td>\n      <td>1000000</td>\n    </tr>\n  </tbody>\n</table>\n<p>532 rows × 4 columns</p>\n</div>"
     },
     "metadata": {},
     "execution_count": 68
    }
   ],
   "source": [
    "# Drop the 'CoinName' column since it's not going to be used on the clustering algorithm\n",
    "crypto_df = crypto_df.drop([\"CoinName\"], axis=1)\n",
    "crypto_df"
   ]
  },
  {
   "cell_type": "code",
   "execution_count": 69,
   "metadata": {},
   "outputs": [
    {
     "output_type": "execute_result",
     "data": {
      "text/plain": [
       "        TotalCoinsMined TotalCoinSupply  Algorithm_1GB AES Pattern Search  \\\n",
       "Symbol                                                                      \n",
       "42         4.199995e+01              42                                 0   \n",
       "404        1.055185e+09       532000000                                 0   \n",
       "1337       2.927942e+10    314159265359                                 0   \n",
       "BTC        1.792718e+07        21000000                                 0   \n",
       "ETH        1.076842e+08               0                                 0   \n",
       "...                 ...             ...                               ...   \n",
       "ZEPH       2.000000e+09      2000000000                                 0   \n",
       "GAP        1.493105e+07       250000000                                 0   \n",
       "BDX        9.802226e+08      1400222610                                 0   \n",
       "ZEN        7.296538e+06        21000000                                 0   \n",
       "XBC        1.283270e+05         1000000                                 0   \n",
       "\n",
       "        Algorithm_536  Algorithm_Argon2d  Algorithm_BLAKE256  Algorithm_Blake  \\\n",
       "Symbol                                                                          \n",
       "42                  0                  0                   0                0   \n",
       "404                 0                  0                   0                0   \n",
       "1337                0                  0                   0                0   \n",
       "BTC                 0                  0                   0                0   \n",
       "ETH                 0                  0                   0                0   \n",
       "...               ...                ...                 ...              ...   \n",
       "ZEPH                0                  0                   0                0   \n",
       "GAP                 0                  0                   0                0   \n",
       "BDX                 0                  0                   0                0   \n",
       "ZEN                 0                  0                   0                0   \n",
       "XBC                 0                  0                   0                0   \n",
       "\n",
       "        Algorithm_Blake2S  Algorithm_Blake2b  Algorithm_C11  ...  \\\n",
       "Symbol                                                       ...   \n",
       "42                      0                  0              0  ...   \n",
       "404                     0                  0              0  ...   \n",
       "1337                    0                  0              0  ...   \n",
       "BTC                     0                  0              0  ...   \n",
       "ETH                     0                  0              0  ...   \n",
       "...                   ...                ...            ...  ...   \n",
       "ZEPH                    0                  0              0  ...   \n",
       "GAP                     0                  0              0  ...   \n",
       "BDX                     0                  0              0  ...   \n",
       "ZEN                     0                  0              0  ...   \n",
       "XBC                     0                  0              0  ...   \n",
       "\n",
       "        ProofType_PoW/PoS  ProofType_PoW/PoS   ProofType_PoW/PoW  \\\n",
       "Symbol                                                             \n",
       "42                      1                   0                  0   \n",
       "404                     1                   0                  0   \n",
       "1337                    1                   0                  0   \n",
       "BTC                     0                   0                  0   \n",
       "ETH                     0                   0                  0   \n",
       "...                   ...                 ...                ...   \n",
       "ZEPH                    0                   0                  0   \n",
       "GAP                     1                   0                  0   \n",
       "BDX                     0                   0                  0   \n",
       "ZEN                     0                   0                  0   \n",
       "XBC                     0                   0                  0   \n",
       "\n",
       "        ProofType_PoW/nPoS  ProofType_Pos  ProofType_Proof of Authority  \\\n",
       "Symbol                                                                    \n",
       "42                       0              0                             0   \n",
       "404                      0              0                             0   \n",
       "1337                     0              0                             0   \n",
       "BTC                      0              0                             0   \n",
       "ETH                      0              0                             0   \n",
       "...                    ...            ...                           ...   \n",
       "ZEPH                     0              0                             0   \n",
       "GAP                      0              0                             0   \n",
       "BDX                      0              0                             0   \n",
       "ZEN                      0              0                             0   \n",
       "XBC                      0              0                             0   \n",
       "\n",
       "        ProofType_Proof of Trust  ProofType_TPoS  \\\n",
       "Symbol                                             \n",
       "42                             0               0   \n",
       "404                            0               0   \n",
       "1337                           0               0   \n",
       "BTC                            0               0   \n",
       "ETH                            0               0   \n",
       "...                          ...             ...   \n",
       "ZEPH                           0               0   \n",
       "GAP                            0               0   \n",
       "BDX                            0               0   \n",
       "ZEN                            0               0   \n",
       "XBC                            0               0   \n",
       "\n",
       "        ProofType_Zero-Knowledge Proof  ProofType_dPoW/PoW  \n",
       "Symbol                                                      \n",
       "42                                   0                   0  \n",
       "404                                  0                   0  \n",
       "1337                                 0                   0  \n",
       "BTC                                  0                   0  \n",
       "ETH                                  0                   0  \n",
       "...                                ...                 ...  \n",
       "ZEPH                                 0                   0  \n",
       "GAP                                  0                   0  \n",
       "BDX                                  0                   0  \n",
       "ZEN                                  0                   0  \n",
       "XBC                                  0                   0  \n",
       "\n",
       "[532 rows x 98 columns]"
      ],
      "text/html": "<div>\n<style scoped>\n    .dataframe tbody tr th:only-of-type {\n        vertical-align: middle;\n    }\n\n    .dataframe tbody tr th {\n        vertical-align: top;\n    }\n\n    .dataframe thead th {\n        text-align: right;\n    }\n</style>\n<table border=\"1\" class=\"dataframe\">\n  <thead>\n    <tr style=\"text-align: right;\">\n      <th></th>\n      <th>TotalCoinsMined</th>\n      <th>TotalCoinSupply</th>\n      <th>Algorithm_1GB AES Pattern Search</th>\n      <th>Algorithm_536</th>\n      <th>Algorithm_Argon2d</th>\n      <th>Algorithm_BLAKE256</th>\n      <th>Algorithm_Blake</th>\n      <th>Algorithm_Blake2S</th>\n      <th>Algorithm_Blake2b</th>\n      <th>Algorithm_C11</th>\n      <th>...</th>\n      <th>ProofType_PoW/PoS</th>\n      <th>ProofType_PoW/PoS</th>\n      <th>ProofType_PoW/PoW</th>\n      <th>ProofType_PoW/nPoS</th>\n      <th>ProofType_Pos</th>\n      <th>ProofType_Proof of Authority</th>\n      <th>ProofType_Proof of Trust</th>\n      <th>ProofType_TPoS</th>\n      <th>ProofType_Zero-Knowledge Proof</th>\n      <th>ProofType_dPoW/PoW</th>\n    </tr>\n    <tr>\n      <th>Symbol</th>\n      <th></th>\n      <th></th>\n      <th></th>\n      <th></th>\n      <th></th>\n      <th></th>\n      <th></th>\n      <th></th>\n      <th></th>\n      <th></th>\n      <th></th>\n      <th></th>\n      <th></th>\n      <th></th>\n      <th></th>\n      <th></th>\n      <th></th>\n      <th></th>\n      <th></th>\n      <th></th>\n      <th></th>\n    </tr>\n  </thead>\n  <tbody>\n    <tr>\n      <th>42</th>\n      <td>4.199995e+01</td>\n      <td>42</td>\n      <td>0</td>\n      <td>0</td>\n      <td>0</td>\n      <td>0</td>\n      <td>0</td>\n      <td>0</td>\n      <td>0</td>\n      <td>0</td>\n      <td>...</td>\n      <td>1</td>\n      <td>0</td>\n      <td>0</td>\n      <td>0</td>\n      <td>0</td>\n      <td>0</td>\n      <td>0</td>\n      <td>0</td>\n      <td>0</td>\n      <td>0</td>\n    </tr>\n    <tr>\n      <th>404</th>\n      <td>1.055185e+09</td>\n      <td>532000000</td>\n      <td>0</td>\n      <td>0</td>\n      <td>0</td>\n      <td>0</td>\n      <td>0</td>\n      <td>0</td>\n      <td>0</td>\n      <td>0</td>\n      <td>...</td>\n      <td>1</td>\n      <td>0</td>\n      <td>0</td>\n      <td>0</td>\n      <td>0</td>\n      <td>0</td>\n      <td>0</td>\n      <td>0</td>\n      <td>0</td>\n      <td>0</td>\n    </tr>\n    <tr>\n      <th>1337</th>\n      <td>2.927942e+10</td>\n      <td>314159265359</td>\n      <td>0</td>\n      <td>0</td>\n      <td>0</td>\n      <td>0</td>\n      <td>0</td>\n      <td>0</td>\n      <td>0</td>\n      <td>0</td>\n      <td>...</td>\n      <td>1</td>\n      <td>0</td>\n      <td>0</td>\n      <td>0</td>\n      <td>0</td>\n      <td>0</td>\n      <td>0</td>\n      <td>0</td>\n      <td>0</td>\n      <td>0</td>\n    </tr>\n    <tr>\n      <th>BTC</th>\n      <td>1.792718e+07</td>\n      <td>21000000</td>\n      <td>0</td>\n      <td>0</td>\n      <td>0</td>\n      <td>0</td>\n      <td>0</td>\n      <td>0</td>\n      <td>0</td>\n      <td>0</td>\n      <td>...</td>\n      <td>0</td>\n      <td>0</td>\n      <td>0</td>\n      <td>0</td>\n      <td>0</td>\n      <td>0</td>\n      <td>0</td>\n      <td>0</td>\n      <td>0</td>\n      <td>0</td>\n    </tr>\n    <tr>\n      <th>ETH</th>\n      <td>1.076842e+08</td>\n      <td>0</td>\n      <td>0</td>\n      <td>0</td>\n      <td>0</td>\n      <td>0</td>\n      <td>0</td>\n      <td>0</td>\n      <td>0</td>\n      <td>0</td>\n      <td>...</td>\n      <td>0</td>\n      <td>0</td>\n      <td>0</td>\n      <td>0</td>\n      <td>0</td>\n      <td>0</td>\n      <td>0</td>\n      <td>0</td>\n      <td>0</td>\n      <td>0</td>\n    </tr>\n    <tr>\n      <th>...</th>\n      <td>...</td>\n      <td>...</td>\n      <td>...</td>\n      <td>...</td>\n      <td>...</td>\n      <td>...</td>\n      <td>...</td>\n      <td>...</td>\n      <td>...</td>\n      <td>...</td>\n      <td>...</td>\n      <td>...</td>\n      <td>...</td>\n      <td>...</td>\n      <td>...</td>\n      <td>...</td>\n      <td>...</td>\n      <td>...</td>\n      <td>...</td>\n      <td>...</td>\n      <td>...</td>\n    </tr>\n    <tr>\n      <th>ZEPH</th>\n      <td>2.000000e+09</td>\n      <td>2000000000</td>\n      <td>0</td>\n      <td>0</td>\n      <td>0</td>\n      <td>0</td>\n      <td>0</td>\n      <td>0</td>\n      <td>0</td>\n      <td>0</td>\n      <td>...</td>\n      <td>0</td>\n      <td>0</td>\n      <td>0</td>\n      <td>0</td>\n      <td>0</td>\n      <td>0</td>\n      <td>0</td>\n      <td>0</td>\n      <td>0</td>\n      <td>0</td>\n    </tr>\n    <tr>\n      <th>GAP</th>\n      <td>1.493105e+07</td>\n      <td>250000000</td>\n      <td>0</td>\n      <td>0</td>\n      <td>0</td>\n      <td>0</td>\n      <td>0</td>\n      <td>0</td>\n      <td>0</td>\n      <td>0</td>\n      <td>...</td>\n      <td>1</td>\n      <td>0</td>\n      <td>0</td>\n      <td>0</td>\n      <td>0</td>\n      <td>0</td>\n      <td>0</td>\n      <td>0</td>\n      <td>0</td>\n      <td>0</td>\n    </tr>\n    <tr>\n      <th>BDX</th>\n      <td>9.802226e+08</td>\n      <td>1400222610</td>\n      <td>0</td>\n      <td>0</td>\n      <td>0</td>\n      <td>0</td>\n      <td>0</td>\n      <td>0</td>\n      <td>0</td>\n      <td>0</td>\n      <td>...</td>\n      <td>0</td>\n      <td>0</td>\n      <td>0</td>\n      <td>0</td>\n      <td>0</td>\n      <td>0</td>\n      <td>0</td>\n      <td>0</td>\n      <td>0</td>\n      <td>0</td>\n    </tr>\n    <tr>\n      <th>ZEN</th>\n      <td>7.296538e+06</td>\n      <td>21000000</td>\n      <td>0</td>\n      <td>0</td>\n      <td>0</td>\n      <td>0</td>\n      <td>0</td>\n      <td>0</td>\n      <td>0</td>\n      <td>0</td>\n      <td>...</td>\n      <td>0</td>\n      <td>0</td>\n      <td>0</td>\n      <td>0</td>\n      <td>0</td>\n      <td>0</td>\n      <td>0</td>\n      <td>0</td>\n      <td>0</td>\n      <td>0</td>\n    </tr>\n    <tr>\n      <th>XBC</th>\n      <td>1.283270e+05</td>\n      <td>1000000</td>\n      <td>0</td>\n      <td>0</td>\n      <td>0</td>\n      <td>0</td>\n      <td>0</td>\n      <td>0</td>\n      <td>0</td>\n      <td>0</td>\n      <td>...</td>\n      <td>0</td>\n      <td>0</td>\n      <td>0</td>\n      <td>0</td>\n      <td>0</td>\n      <td>0</td>\n      <td>0</td>\n      <td>0</td>\n      <td>0</td>\n      <td>0</td>\n    </tr>\n  </tbody>\n</table>\n<p>532 rows × 98 columns</p>\n</div>"
     },
     "metadata": {},
     "execution_count": 69
    }
   ],
   "source": [
    "# Create dummy variables for text features\n",
    "X = pd.get_dummies(crypto_df, columns=[\"Algorithm\", \"ProofType\"])\n",
    "X"
   ]
  },
  {
   "cell_type": "code",
   "execution_count": 70,
   "metadata": {},
   "outputs": [],
   "source": [
    "# Standardize data\n",
    "X_scaled = StandardScaler().fit_transform(X)"
   ]
  },
  {
   "cell_type": "markdown",
   "metadata": {},
   "source": [
    "### Reducing Dimensions Using PCA"
   ]
  },
  {
   "cell_type": "code",
   "execution_count": 71,
   "metadata": {},
   "outputs": [],
   "source": [
    "# Use PCA to reduce dimensions to 3 principal components\n",
    "pca = PCA(n_components=3)\n",
    "crypto_pca = pca.fit_transform(X_scaled)\n",
    "#refer back to 06_Stu_PCA.ipynb (AWS Section)"
   ]
  },
  {
   "cell_type": "code",
   "execution_count": 72,
   "metadata": {},
   "outputs": [
    {
     "output_type": "execute_result",
     "data": {
      "text/plain": [
       "            PC 1      PC 2      PC 3\n",
       "Symbol                              \n",
       "42     -0.322129  0.996384 -0.530272\n",
       "404    -0.305482  0.996402 -0.530599\n",
       "1337    2.291775  1.623522 -0.601123\n",
       "BTC    -0.166788 -1.271672  0.182930\n",
       "ETH    -0.155680 -1.991770  0.362918"
      ],
      "text/html": "<div>\n<style scoped>\n    .dataframe tbody tr th:only-of-type {\n        vertical-align: middle;\n    }\n\n    .dataframe tbody tr th {\n        vertical-align: top;\n    }\n\n    .dataframe thead th {\n        text-align: right;\n    }\n</style>\n<table border=\"1\" class=\"dataframe\">\n  <thead>\n    <tr style=\"text-align: right;\">\n      <th></th>\n      <th>PC 1</th>\n      <th>PC 2</th>\n      <th>PC 3</th>\n    </tr>\n    <tr>\n      <th>Symbol</th>\n      <th></th>\n      <th></th>\n      <th></th>\n    </tr>\n  </thead>\n  <tbody>\n    <tr>\n      <th>42</th>\n      <td>-0.322129</td>\n      <td>0.996384</td>\n      <td>-0.530272</td>\n    </tr>\n    <tr>\n      <th>404</th>\n      <td>-0.305482</td>\n      <td>0.996402</td>\n      <td>-0.530599</td>\n    </tr>\n    <tr>\n      <th>1337</th>\n      <td>2.291775</td>\n      <td>1.623522</td>\n      <td>-0.601123</td>\n    </tr>\n    <tr>\n      <th>BTC</th>\n      <td>-0.166788</td>\n      <td>-1.271672</td>\n      <td>0.182930</td>\n    </tr>\n    <tr>\n      <th>ETH</th>\n      <td>-0.155680</td>\n      <td>-1.991770</td>\n      <td>0.362918</td>\n    </tr>\n  </tbody>\n</table>\n</div>"
     },
     "metadata": {},
     "execution_count": 72
    }
   ],
   "source": [
    "# Create a DataFrame with the principal components data\n",
    "pcs_df = pd.DataFrame(\n",
    "    data=crypto_pca, columns=[\"PC 1\", \"PC 2\", \"PC 3\"], index=crypto_df.index\n",
    ")\n",
    "pcs_df.head()"
   ]
  },
  {
   "cell_type": "markdown",
   "metadata": {},
   "source": [
    "### Clustering Crytocurrencies Using K-Means\n",
    "\n",
    "#### Find the Best Value for `k` Using the Elbow Curve"
   ]
  },
  {
   "cell_type": "code",
   "execution_count": 73,
   "metadata": {},
   "outputs": [
    {
     "output_type": "display_data",
     "data": {},
     "metadata": {}
    },
    {
     "output_type": "execute_result",
     "data": {
      "text/html": "<div id='1336'>\n\n\n\n\n\n  <div class=\"bk-root\" id=\"2dfdbbf3-247d-43eb-9d38-0a7acfd0edc0\" data-root-id=\"1336\"></div>\n</div>\n<script type=\"application/javascript\">(function(root) {\n  function embed_document(root) {\n  var docs_json = {\"73085960-dc7d-4cf1-8891-d6829bf90118\":{\"roots\":{\"references\":[{\"attributes\":{\"below\":[{\"id\":\"1350\"}],\"center\":[{\"id\":\"1353\"},{\"id\":\"1357\"}],\"left\":[{\"id\":\"1354\"}],\"margin\":null,\"min_border_bottom\":10,\"min_border_left\":10,\"min_border_right\":10,\"min_border_top\":10,\"plot_height\":300,\"plot_width\":700,\"renderers\":[{\"id\":\"1377\"}],\"sizing_mode\":\"fixed\",\"title\":{\"id\":\"1342\"},\"toolbar\":{\"id\":\"1364\"},\"x_range\":{\"id\":\"1338\"},\"x_scale\":{\"id\":\"1346\"},\"y_range\":{\"id\":\"1339\"},\"y_scale\":{\"id\":\"1348\"}},\"id\":\"1341\",\"subtype\":\"Figure\",\"type\":\"Plot\"},{\"attributes\":{\"bottom_units\":\"screen\",\"fill_alpha\":0.5,\"fill_color\":\"lightgrey\",\"left_units\":\"screen\",\"level\":\"overlay\",\"line_alpha\":1.0,\"line_color\":\"black\",\"line_dash\":[4,4],\"line_width\":2,\"render_mode\":\"css\",\"right_units\":\"screen\",\"top_units\":\"screen\"},\"id\":\"1363\",\"type\":\"BoxAnnotation\"},{\"attributes\":{},\"id\":\"1392\",\"type\":\"UnionRenderers\"},{\"attributes\":{\"callback\":null,\"renderers\":[{\"id\":\"1377\"}],\"tags\":[\"hv_created\"],\"tooltips\":[[\"k\",\"@{k}\"],[\"inertia\",\"@{inertia}\"]]},\"id\":\"1340\",\"type\":\"HoverTool\"},{\"attributes\":{},\"id\":\"1348\",\"type\":\"LinearScale\"},{\"attributes\":{\"text\":\"Elbow Curve\",\"text_color\":{\"value\":\"black\"},\"text_font_size\":{\"value\":\"12pt\"}},\"id\":\"1342\",\"type\":\"Title\"},{\"attributes\":{},\"id\":\"1355\",\"type\":\"BasicTicker\"},{\"attributes\":{\"axis_label\":\"k\",\"bounds\":\"auto\",\"formatter\":{\"id\":\"1380\"},\"major_label_orientation\":\"horizontal\",\"ticker\":{\"id\":\"1379\"}},\"id\":\"1350\",\"type\":\"LinearAxis\"},{\"attributes\":{\"axis_label\":\"inertia\",\"bounds\":\"auto\",\"formatter\":{\"id\":\"1384\"},\"major_label_orientation\":\"horizontal\",\"ticker\":{\"id\":\"1355\"}},\"id\":\"1354\",\"type\":\"LinearAxis\"},{\"attributes\":{\"overlay\":{\"id\":\"1363\"}},\"id\":\"1361\",\"type\":\"BoxZoomTool\"},{\"attributes\":{\"margin\":[5,5,5,5],\"name\":\"HSpacer02196\",\"sizing_mode\":\"stretch_width\"},\"id\":\"1393\",\"type\":\"Spacer\"},{\"attributes\":{\"active_drag\":\"auto\",\"active_inspect\":\"auto\",\"active_multi\":null,\"active_scroll\":\"auto\",\"active_tap\":\"auto\",\"tools\":[{\"id\":\"1340\"},{\"id\":\"1358\"},{\"id\":\"1359\"},{\"id\":\"1360\"},{\"id\":\"1361\"},{\"id\":\"1362\"}]},\"id\":\"1364\",\"type\":\"Toolbar\"},{\"attributes\":{\"axis\":{\"id\":\"1354\"},\"dimension\":1,\"grid_line_color\":null,\"ticker\":null},\"id\":\"1357\",\"type\":\"Grid\"},{\"attributes\":{\"data\":{\"inertia\":{\"__ndarray__\":\"R4S3mqZvrEDYjc5a0FWjQEfbxmevPpdA9Pzo424VgUDIsvSGV413QC7Wb9jbA3FAxfzTz8lOakAwFxF/nQBkQLLRQs65LGBAzGKlyWNKWkA=\",\"dtype\":\"float64\",\"shape\":[10]},\"k\":[1,2,3,4,5,6,7,8,9,10]},\"selected\":{\"id\":\"1372\"},\"selection_policy\":{\"id\":\"1392\"}},\"id\":\"1371\",\"type\":\"ColumnDataSource\"},{\"attributes\":{\"line_alpha\":0.2,\"line_color\":\"#1f77b3\",\"line_width\":2,\"x\":{\"field\":\"k\"},\"y\":{\"field\":\"inertia\"}},\"id\":\"1376\",\"type\":\"Line\"},{\"attributes\":{},\"id\":\"1346\",\"type\":\"LinearScale\"},{\"attributes\":{},\"id\":\"1358\",\"type\":\"SaveTool\"},{\"attributes\":{},\"id\":\"1359\",\"type\":\"PanTool\"},{\"attributes\":{\"source\":{\"id\":\"1371\"}},\"id\":\"1378\",\"type\":\"CDSView\"},{\"attributes\":{},\"id\":\"1362\",\"type\":\"ResetTool\"},{\"attributes\":{\"margin\":[5,5,5,5],\"name\":\"HSpacer02195\",\"sizing_mode\":\"stretch_width\"},\"id\":\"1337\",\"type\":\"Spacer\"},{\"attributes\":{},\"id\":\"1384\",\"type\":\"BasicTickFormatter\"},{\"attributes\":{},\"id\":\"1372\",\"type\":\"Selection\"},{\"attributes\":{\"line_alpha\":0.1,\"line_color\":\"#1f77b3\",\"line_width\":2,\"x\":{\"field\":\"k\"},\"y\":{\"field\":\"inertia\"}},\"id\":\"1375\",\"type\":\"Line\"},{\"attributes\":{\"line_color\":\"#1f77b3\",\"line_width\":2,\"x\":{\"field\":\"k\"},\"y\":{\"field\":\"inertia\"}},\"id\":\"1374\",\"type\":\"Line\"},{\"attributes\":{\"children\":[{\"id\":\"1337\"},{\"id\":\"1341\"},{\"id\":\"1393\"}],\"margin\":[0,0,0,0],\"name\":\"Row02191\",\"tags\":[\"embedded\"]},\"id\":\"1336\",\"type\":\"Row\"},{\"attributes\":{},\"id\":\"1380\",\"type\":\"BasicTickFormatter\"},{\"attributes\":{\"data_source\":{\"id\":\"1371\"},\"glyph\":{\"id\":\"1374\"},\"hover_glyph\":null,\"muted_glyph\":{\"id\":\"1376\"},\"nonselection_glyph\":{\"id\":\"1375\"},\"selection_glyph\":null,\"view\":{\"id\":\"1378\"}},\"id\":\"1377\",\"type\":\"GlyphRenderer\"},{\"attributes\":{\"ticks\":[1,2,3,4,5,6,7,8,9,10]},\"id\":\"1379\",\"type\":\"FixedTicker\"},{\"attributes\":{},\"id\":\"1360\",\"type\":\"WheelZoomTool\"},{\"attributes\":{\"end\":10.0,\"reset_end\":10.0,\"reset_start\":1.0,\"start\":1.0,\"tags\":[[[\"k\",\"k\",null]]]},\"id\":\"1338\",\"type\":\"Range1d\"},{\"attributes\":{\"axis\":{\"id\":\"1350\"},\"grid_line_color\":null,\"ticker\":null},\"id\":\"1353\",\"type\":\"Grid\"},{\"attributes\":{\"end\":3993.2917050049173,\"reset_end\":3993.2917050049173,\"reset_start\":-248.30396530230433,\"start\":-248.30396530230433,\"tags\":[[[\"inertia\",\"inertia\",null]]]},\"id\":\"1339\",\"type\":\"Range1d\"}],\"root_ids\":[\"1336\"]},\"title\":\"Bokeh Application\",\"version\":\"2.0.2\"}};\n  var render_items = [{\"docid\":\"73085960-dc7d-4cf1-8891-d6829bf90118\",\"root_ids\":[\"1336\"],\"roots\":{\"1336\":\"2dfdbbf3-247d-43eb-9d38-0a7acfd0edc0\"}}];\n  root.Bokeh.embed.embed_items_notebook(docs_json, render_items);\n  }\nif (root.Bokeh !== undefined) {\n    embed_document(root);\n  } else {\n    var attempts = 0;\n    var timer = setInterval(function(root) {\n      if (root.Bokeh !== undefined) {\n        clearInterval(timer);\n        embed_document(root);\n      } else if (document.readyState == \"complete\") {\n        attempts++;\n        if (attempts > 100) {\n          clearInterval(timer);\n          console.log(\"Bokeh: ERROR: Unable to run BokehJS code because BokehJS library is missing\");\n        }\n      }\n    }, 10, root)\n  }\n})(window);</script>",
      "application/vnd.holoviews_exec.v0+json": "",
      "text/plain": [
       ":Curve   [k]   (inertia)"
      ]
     },
     "metadata": {
      "application/vnd.holoviews_exec.v0+json": {
       "id": "1336"
      }
     },
     "execution_count": 73
    }
   ],
   "source": [
    "inertia = []\n",
    "k = list(range(1, 11))\n",
    "\n",
    "# Calculate the inertia for the range of k values\n",
    "for i in k:\n",
    "    km = KMeans(n_clusters=i, random_state=0)\n",
    "    km.fit(pcs_df)\n",
    "    inertia.append(km.inertia_)\n",
    "\n",
    "# Create the Elbow Curve using hvPlot\n",
    "elbow_data = {\"k\": k, \"inertia\": inertia}\n",
    "df_elbow = pd.DataFrame(elbow_data)\n",
    "df_elbow.hvplot.line(x=\"k\", y=\"inertia\", xticks=k, title=\"Elbow Curve\")\n"
   ]
  },
  {
   "cell_type": "markdown",
   "metadata": {},
   "source": [
    "Running K-Means with `k=<your best value for k here>`"
   ]
  },
  {
   "cell_type": "code",
   "execution_count": 74,
   "metadata": {},
   "outputs": [],
   "source": [
    "# Initialize the K-Means model\n",
    "def get_clusters(k, data):\n",
    "    model = KMeans(n_clusters=k, random_state=0)\n",
    "# Fit the model\n",
    "    model.fit(data)\n",
    "# Predict clusters\n",
    "    predictions = model.predict(data)\n",
    "# Create a new DataFrame including predicted clusters and cryptocurrencies features\n",
    "    data[\"Class\"] = model.labels_\n",
    "    return data"
   ]
  },
  {
   "cell_type": "code",
   "execution_count": 75,
   "metadata": {},
   "outputs": [
    {
     "output_type": "execute_result",
     "data": {
      "text/plain": [
       "            PC 1      PC 2      PC 3  Class\n",
       "Symbol                                     \n",
       "42     -0.322129  0.996384 -0.530272      1\n",
       "404    -0.305482  0.996402 -0.530599      1\n",
       "1337    2.291775  1.623522 -0.601123      4\n",
       "BTC    -0.166788 -1.271672  0.182930      0\n",
       "ETH    -0.155680 -1.991770  0.362918      0"
      ],
      "text/html": "<div>\n<style scoped>\n    .dataframe tbody tr th:only-of-type {\n        vertical-align: middle;\n    }\n\n    .dataframe tbody tr th {\n        vertical-align: top;\n    }\n\n    .dataframe thead th {\n        text-align: right;\n    }\n</style>\n<table border=\"1\" class=\"dataframe\">\n  <thead>\n    <tr style=\"text-align: right;\">\n      <th></th>\n      <th>PC 1</th>\n      <th>PC 2</th>\n      <th>PC 3</th>\n      <th>Class</th>\n    </tr>\n    <tr>\n      <th>Symbol</th>\n      <th></th>\n      <th></th>\n      <th></th>\n      <th></th>\n    </tr>\n  </thead>\n  <tbody>\n    <tr>\n      <th>42</th>\n      <td>-0.322129</td>\n      <td>0.996384</td>\n      <td>-0.530272</td>\n      <td>1</td>\n    </tr>\n    <tr>\n      <th>404</th>\n      <td>-0.305482</td>\n      <td>0.996402</td>\n      <td>-0.530599</td>\n      <td>1</td>\n    </tr>\n    <tr>\n      <th>1337</th>\n      <td>2.291775</td>\n      <td>1.623522</td>\n      <td>-0.601123</td>\n      <td>4</td>\n    </tr>\n    <tr>\n      <th>BTC</th>\n      <td>-0.166788</td>\n      <td>-1.271672</td>\n      <td>0.182930</td>\n      <td>0</td>\n    </tr>\n    <tr>\n      <th>ETH</th>\n      <td>-0.155680</td>\n      <td>-1.991770</td>\n      <td>0.362918</td>\n      <td>0</td>\n    </tr>\n  </tbody>\n</table>\n</div>"
     },
     "metadata": {},
     "execution_count": 75
    }
   ],
   "source": [
    "four_clusters = get_clusters(6, pcs_df)\n",
    "four_clusters.head()\n"
   ]
  },
  {
   "cell_type": "code",
   "execution_count": 76,
   "metadata": {},
   "outputs": [
    {
     "output_type": "execute_result",
     "data": {
      "text/plain": [
       "             Algorithm ProofType  TotalCoinsMined TotalCoinSupply  \\\n",
       "Symbol                                                              \n",
       "42              Scrypt   PoW/PoS     4.199995e+01              42   \n",
       "404             Scrypt   PoW/PoS     1.055185e+09       532000000   \n",
       "1337               X13   PoW/PoS     2.927942e+10    314159265359   \n",
       "BTC            SHA-256       PoW     1.792718e+07        21000000   \n",
       "ETH             Ethash       PoW     1.076842e+08               0   \n",
       "LTC             Scrypt       PoW     6.303924e+07        84000000   \n",
       "DASH               X11   PoW/PoS     9.031294e+06        22000000   \n",
       "XMR     CryptoNight-V7       PoW     1.720114e+07               0   \n",
       "ETC             Ethash       PoW     1.133597e+08       210000000   \n",
       "ZEC           Equihash       PoW     7.383056e+06        21000000   \n",
       "\n",
       "                CoinName      PC 1      PC 2      PC 3  Class  \n",
       "Symbol                                                         \n",
       "42               42 Coin -0.322129  0.996384 -0.530272      1  \n",
       "404              404Coin -0.305482  0.996402 -0.530599      1  \n",
       "1337           EliteCoin  2.291775  1.623522 -0.601123      4  \n",
       "BTC              Bitcoin -0.166788 -1.271672  0.182930      0  \n",
       "ETH             Ethereum -0.155680 -1.991770  0.362918      0  \n",
       "LTC             Litecoin -0.154234 -1.150253  0.000055      0  \n",
       "DASH                Dash -0.403978  1.263228 -0.483028      1  \n",
       "XMR               Monero -0.144510 -2.233981  0.384731      0  \n",
       "ETC     Ethereum Classic -0.154125 -1.991883  0.362909      0  \n",
       "ZEC                ZCash -0.155362 -2.015986  0.432279      0  "
      ],
      "text/html": "<div>\n<style scoped>\n    .dataframe tbody tr th:only-of-type {\n        vertical-align: middle;\n    }\n\n    .dataframe tbody tr th {\n        vertical-align: top;\n    }\n\n    .dataframe thead th {\n        text-align: right;\n    }\n</style>\n<table border=\"1\" class=\"dataframe\">\n  <thead>\n    <tr style=\"text-align: right;\">\n      <th></th>\n      <th>Algorithm</th>\n      <th>ProofType</th>\n      <th>TotalCoinsMined</th>\n      <th>TotalCoinSupply</th>\n      <th>CoinName</th>\n      <th>PC 1</th>\n      <th>PC 2</th>\n      <th>PC 3</th>\n      <th>Class</th>\n    </tr>\n    <tr>\n      <th>Symbol</th>\n      <th></th>\n      <th></th>\n      <th></th>\n      <th></th>\n      <th></th>\n      <th></th>\n      <th></th>\n      <th></th>\n      <th></th>\n    </tr>\n  </thead>\n  <tbody>\n    <tr>\n      <th>42</th>\n      <td>Scrypt</td>\n      <td>PoW/PoS</td>\n      <td>4.199995e+01</td>\n      <td>42</td>\n      <td>42 Coin</td>\n      <td>-0.322129</td>\n      <td>0.996384</td>\n      <td>-0.530272</td>\n      <td>1</td>\n    </tr>\n    <tr>\n      <th>404</th>\n      <td>Scrypt</td>\n      <td>PoW/PoS</td>\n      <td>1.055185e+09</td>\n      <td>532000000</td>\n      <td>404Coin</td>\n      <td>-0.305482</td>\n      <td>0.996402</td>\n      <td>-0.530599</td>\n      <td>1</td>\n    </tr>\n    <tr>\n      <th>1337</th>\n      <td>X13</td>\n      <td>PoW/PoS</td>\n      <td>2.927942e+10</td>\n      <td>314159265359</td>\n      <td>EliteCoin</td>\n      <td>2.291775</td>\n      <td>1.623522</td>\n      <td>-0.601123</td>\n      <td>4</td>\n    </tr>\n    <tr>\n      <th>BTC</th>\n      <td>SHA-256</td>\n      <td>PoW</td>\n      <td>1.792718e+07</td>\n      <td>21000000</td>\n      <td>Bitcoin</td>\n      <td>-0.166788</td>\n      <td>-1.271672</td>\n      <td>0.182930</td>\n      <td>0</td>\n    </tr>\n    <tr>\n      <th>ETH</th>\n      <td>Ethash</td>\n      <td>PoW</td>\n      <td>1.076842e+08</td>\n      <td>0</td>\n      <td>Ethereum</td>\n      <td>-0.155680</td>\n      <td>-1.991770</td>\n      <td>0.362918</td>\n      <td>0</td>\n    </tr>\n    <tr>\n      <th>LTC</th>\n      <td>Scrypt</td>\n      <td>PoW</td>\n      <td>6.303924e+07</td>\n      <td>84000000</td>\n      <td>Litecoin</td>\n      <td>-0.154234</td>\n      <td>-1.150253</td>\n      <td>0.000055</td>\n      <td>0</td>\n    </tr>\n    <tr>\n      <th>DASH</th>\n      <td>X11</td>\n      <td>PoW/PoS</td>\n      <td>9.031294e+06</td>\n      <td>22000000</td>\n      <td>Dash</td>\n      <td>-0.403978</td>\n      <td>1.263228</td>\n      <td>-0.483028</td>\n      <td>1</td>\n    </tr>\n    <tr>\n      <th>XMR</th>\n      <td>CryptoNight-V7</td>\n      <td>PoW</td>\n      <td>1.720114e+07</td>\n      <td>0</td>\n      <td>Monero</td>\n      <td>-0.144510</td>\n      <td>-2.233981</td>\n      <td>0.384731</td>\n      <td>0</td>\n    </tr>\n    <tr>\n      <th>ETC</th>\n      <td>Ethash</td>\n      <td>PoW</td>\n      <td>1.133597e+08</td>\n      <td>210000000</td>\n      <td>Ethereum Classic</td>\n      <td>-0.154125</td>\n      <td>-1.991883</td>\n      <td>0.362909</td>\n      <td>0</td>\n    </tr>\n    <tr>\n      <th>ZEC</th>\n      <td>Equihash</td>\n      <td>PoW</td>\n      <td>7.383056e+06</td>\n      <td>21000000</td>\n      <td>ZCash</td>\n      <td>-0.155362</td>\n      <td>-2.015986</td>\n      <td>0.432279</td>\n      <td>0</td>\n    </tr>\n  </tbody>\n</table>\n</div>"
     },
     "metadata": {},
     "execution_count": 76
    }
   ],
   "source": [
    "clustered_df = pd.concat([crypto_df, coin_name, pcs_df], axis=1)\n",
    "clustered_df.head(10)"
   ]
  },
  {
   "cell_type": "markdown",
   "metadata": {},
   "source": [
    "### Visualizing Results\n",
    "\n",
    "#### 3D-Scatter with Clusters"
   ]
  },
  {
   "cell_type": "code",
   "execution_count": 77,
   "metadata": {},
   "outputs": [
    {
     "output_type": "display_data",
     "data": {
      "application/vnd.plotly.v1+json": {
       "config": {
        "plotlyServerURL": "https://plot.ly"
       },
       "data": [
        {
         "hovertemplate": "PC 1=%{x}<br>PC 2=%{y}<br>PC 3=%{z}<br>Class=%{marker.color}<extra></extra>",
         "legendgroup": "",
         "marker": {
          "color": [
           1,
           1,
           4,
           0,
           0,
           0,
           1,
           0,
           0,
           0,
           1,
           0,
           1,
           1,
           0,
           1,
           0,
           0,
           1,
           1,
           0,
           4,
           0,
           0,
           0,
           1,
           0,
           0,
           0,
           1,
           0,
           1,
           0,
           0,
           1,
           1,
           0,
           0,
           0,
           0,
           0,
           0,
           1,
           1,
           0,
           0,
           0,
           0,
           0,
           1,
           1,
           0,
           1,
           0,
           0,
           0,
           0,
           1,
           0,
           0,
           1,
           0,
           1,
           1,
           1,
           0,
           0,
           0,
           1,
           1,
           1,
           1,
           1,
           0,
           0,
           0,
           1,
           1,
           0,
           1,
           0,
           1,
           1,
           0,
           0,
           0,
           0,
           1,
           1,
           0,
           1,
           0,
           0,
           1,
           1,
           0,
           1,
           1,
           4,
           0,
           1,
           1,
           0,
           1,
           1,
           0,
           1,
           0,
           1,
           0,
           1,
           0,
           1,
           1,
           0,
           0,
           1,
           0,
           0,
           0,
           1,
           0,
           0,
           0,
           0,
           0,
           1,
           1,
           0,
           0,
           0,
           1,
           0,
           1,
           0,
           0,
           1,
           0,
           1,
           0,
           1,
           1,
           0,
           0,
           1,
           0,
           0,
           1,
           1,
           0,
           1,
           0,
           1,
           1,
           1,
           0,
           0,
           0,
           0,
           1,
           1,
           1,
           1,
           1,
           0,
           0,
           1,
           1,
           1,
           1,
           1,
           0,
           1,
           1,
           1,
           1,
           1,
           0,
           1,
           0,
           1,
           1,
           0,
           1,
           0,
           1,
           1,
           0,
           1,
           0,
           1,
           0,
           1,
           0,
           1,
           1,
           1,
           1,
           0,
           1,
           1,
           1,
           1,
           1,
           0,
           0,
           4,
           1,
           0,
           0,
           1,
           1,
           1,
           1,
           1,
           0,
           1,
           1,
           1,
           1,
           1,
           1,
           1,
           1,
           0,
           1,
           1,
           1,
           1,
           1,
           1,
           0,
           0,
           0,
           1,
           1,
           1,
           1,
           0,
           1,
           0,
           1,
           1,
           0,
           1,
           0,
           0,
           1,
           0,
           0,
           1,
           0,
           1,
           1,
           1,
           0,
           1,
           1,
           0,
           1,
           1,
           1,
           1,
           1,
           1,
           1,
           0,
           1,
           0,
           1,
           1,
           1,
           1,
           0,
           1,
           0,
           1,
           0,
           0,
           0,
           0,
           1,
           0,
           1,
           1,
           0,
           1,
           0,
           0,
           0,
           1,
           0,
           1,
           0,
           4,
           0,
           1,
           0,
           1,
           0,
           1,
           1,
           3,
           0,
           1,
           0,
           0,
           0,
           0,
           0,
           1,
           1,
           0,
           1,
           1,
           1,
           0,
           1,
           0,
           1,
           0,
           1,
           0,
           1,
           1,
           1,
           1,
           0,
           1,
           1,
           0,
           1,
           1,
           1,
           0,
           0,
           0,
           0,
           1,
           4,
           1,
           1,
           0,
           1,
           0,
           0,
           0,
           1,
           1,
           0,
           0,
           1,
           1,
           0,
           1,
           0,
           0,
           0,
           1,
           0,
           0,
           1,
           1,
           1,
           0,
           0,
           0,
           1,
           1,
           1,
           4,
           0,
           1,
           0,
           0,
           0,
           0,
           1,
           3,
           3,
           0,
           0,
           0,
           1,
           1,
           1,
           1,
           1,
           1,
           0,
           0,
           0,
           0,
           1,
           1,
           1,
           0,
           1,
           0,
           1,
           1,
           1,
           4,
           0,
           1,
           1,
           0,
           1,
           1,
           0,
           0,
           1,
           0,
           1,
           0,
           0,
           0,
           0,
           1,
           1,
           0,
           1,
           0,
           1,
           1,
           4,
           1,
           1,
           1,
           0,
           0,
           0,
           1,
           1,
           1,
           1,
           1,
           1,
           0,
           1,
           0,
           0,
           0,
           4,
           1,
           1,
           1,
           1,
           0,
           1,
           1,
           0,
           1,
           1,
           0,
           5,
           0,
           1,
           0,
           0,
           1,
           1,
           0,
           1,
           0,
           0,
           1,
           0,
           0,
           1,
           0,
           1,
           0,
           1,
           1,
           0,
           1,
           1,
           1,
           1,
           1,
           0,
           0,
           0,
           1,
           4,
           1,
           0,
           1,
           0,
           1,
           0,
           1,
           1,
           1,
           1,
           0,
           1,
           1,
           1,
           0,
           1,
           0,
           1,
           0,
           1,
           1,
           1,
           0,
           0,
           1,
           1,
           4,
           1,
           1,
           1,
           0,
           1,
           0,
           4,
           0,
           4,
           1,
           3,
           1,
           2,
           1,
           4,
           1,
           0,
           0,
           1
          ],
          "coloraxis": "coloraxis",
          "symbol": "circle"
         },
         "mode": "markers",
         "name": "",
         "scene": "scene",
         "showlegend": false,
         "type": "scatter3d",
         "x": [
          -0.32212893086205413,
          -0.3054815807958583,
          2.29177465405009,
          -0.16678843608235125,
          -0.15568040955060916,
          -0.15423360063413868,
          -0.4039779786517036,
          -0.14450997174208158,
          -0.15412462397255128,
          -0.15536212919248155,
          -0.4028749156128464,
          0.17174405433662276,
          -0.3335156323996452,
          -0.285914935862952,
          -0.15537870625825287,
          -0.23967623127943746,
          -0.2374351175022821,
          -0.15499573973816846,
          -0.3217888432642859,
          -0.3143717650240904,
          -0.08138437675344003,
          2.5625738434974044,
          -0.16387619673989476,
          -0.15225403880578522,
          -0.15480009486713403,
          -0.32062659810149813,
          -0.23163366208938227,
          -0.2711760782858363,
          -0.15484856114698922,
          -0.32212487258179257,
          -0.15536098475777246,
          -0.322109167708523,
          -0.15544733825291346,
          -0.23752438653594105,
          0.645655321287685,
          -0.4388353723720598,
          0.19549976055073817,
          0.210682714589418,
          0.09303750042140833,
          -0.1551938527662104,
          -0.1508037148306108,
          -0.15513324663657593,
          -0.3275595283936512,
          -0.1430369226832417,
          -0.15550429116962952,
          -0.2120074632097067,
          -0.13474860277348635,
          -0.1543005515177719,
          -0.15457781562760622,
          -0.32018974472322476,
          -0.336215580227456,
          1.591701201133779,
          -0.40387275153375857,
          -0.1667498327017107,
          -0.15187012291560553,
          -0.15522027053909418,
          -0.15557473724232967,
          -0.411832291805601,
          -0.1548347206617857,
          -0.19884635191496702,
          -0.014638409827831792,
          -0.15545613234957398,
          -0.2968611272528928,
          -0.27427963735027117,
          -0.2886566641413538,
          -0.020534587609625666,
          -0.1668273886200376,
          -0.14912621258203107,
          -0.28927841943679483,
          -0.3833984202824205,
          -0.3164375188422376,
          -0.3205323470795263,
          0.03575143749751714,
          -0.15543564558461676,
          -0.15353251644256574,
          -0.15492290732749955,
          -0.35608768809687225,
          -0.404243938573124,
          -0.1539930324948936,
          -0.23345774487522467,
          -0.16629166975378265,
          -0.28588176950830413,
          -0.4041556944631621,
          -0.16657864640619338,
          -0.16656184146105388,
          -0.16715171620701802,
          -0.23769806467086663,
          -0.29738735610221634,
          -0.3208078100050688,
          -0.15515234496746472,
          -0.2905761319617432,
          -0.17287838263323738,
          -0.15225882986281353,
          -0.4041201730949109,
          -0.23392462455228819,
          -0.16635890667883718,
          -0.28905944262598243,
          -0.3132437154969637,
          3.8480518214017563,
          0.4503238948569483,
          -0.09823201305191492,
          -0.4497292988090072,
          -0.15402116440315883,
          -0.3327281601369735,
          -0.4382573343492049,
          -0.13863911607474255,
          -0.2742598273548506,
          -0.15274120331744312,
          -0.28935381339256194,
          -0.1555769516634258,
          -0.26892035039145834,
          -0.15260630437684525,
          -0.3221110124731884,
          -0.2893060233436023,
          -0.13884401848869143,
          -0.16967254558510975,
          -0.3565323118937784,
          -0.11535659967259158,
          -0.23102110692041425,
          -0.15545012249074378,
          -0.32184569140054825,
          -0.028529658079809825,
          -0.12178496843792876,
          -0.15558582747437846,
          -0.16685514661022496,
          0.4956319185699254,
          -0.4042254809323193,
          -0.4029381318221004,
          -0.23708585396350765,
          -0.08668593517260458,
          -0.16659536275902553,
          -0.3919140080993392,
          -0.23737048981005973,
          -0.32121869726226937,
          -0.15371202337887502,
          -0.15290504070951158,
          -0.27266304854279155,
          -0.1567472055311098,
          -0.28882821672307196,
          0.41710528695416654,
          -0.3260828553199645,
          -0.2421142197392592,
          -0.2374058355778377,
          -0.1667509542639522,
          -0.06029373725519258,
          -0.1515476240817582,
          -0.18460536322069215,
          -0.3334865675598308,
          -0.08206635265794855,
          -0.15415062555230027,
          -0.3335501559348902,
          0.25132579527438753,
          -0.22037062340570845,
          -0.3217217762447598,
          -0.2725328167786708,
          -0.23656750273711355,
          -0.1760314653617261,
          -0.15439831836387272,
          -0.19214064267185238,
          -0.4013987378999544,
          0.8775266389802269,
          -0.33335051754934447,
          -0.08438466330119632,
          -0.3272431367843888,
          -0.15537598805032551,
          -0.23736915190427957,
          -0.402070439107732,
          -0.3320959254960532,
          -0.32976742758140287,
          -0.3416412351522966,
          -0.402962316572575,
          -0.15558588591227018,
          -0.3596147413186223,
          -0.2980456695809496,
          -0.3217598582517403,
          -0.32020028837993886,
          -0.24044945269960089,
          -0.23751901762631575,
          -0.3440355337537798,
          -0.26353237868030677,
          -0.4037000298261069,
          -0.32096490177521136,
          0.2953897950042382,
          -0.3335311763052432,
          -0.1670107976461725,
          -0.404214695971492,
          -0.3219487613308915,
          -0.09544934650716719,
          -0.32210524977681854,
          -0.15275563030913006,
          -0.2725212555048283,
          -0.16696946109703015,
          -0.19374504716543345,
          -0.1552496761896172,
          0.008317919865532545,
          -0.3262012566979741,
          -0.32171968807268536,
          -0.39039494431102634,
          -0.15926266376256662,
          -0.32553020906975944,
          -0.24187798791485712,
          -0.42370998702633755,
          -0.3252806872996916,
          -0.3059137722398158,
          -0.15648959220308567,
          -0.15538373107882222,
          3.7659598540278134,
          -0.4038076763512638,
          -0.08241567744689558,
          -0.22411423991841825,
          0.842030505010934,
          -0.4041696430919376,
          -0.32666454379674403,
          -0.3216474960489126,
          -0.32180172755083536,
          -0.23534975583822518,
          -0.3272431367843888,
          -0.4037451503115791,
          -0.33339394422628654,
          -0.3216482025720067,
          -0.4484969164933706,
          -0.321795459739748,
          -0.3173899475506557,
          -0.4041986217704167,
          0.29538410518217095,
          -0.3210073414064872,
          0.36835364570034806,
          -0.3219945125434002,
          -0.3220649819299579,
          -0.3553100458980612,
          -0.39670291330831015,
          -0.15556764758146904,
          0.29551470844133276,
          -0.08722570803668314,
          -0.3182970797816915,
          -0.3335076072048074,
          -0.4041086615895586,
          -0.3218430422214639,
          0.47669979121199774,
          -0.32196991279059917,
          -0.14327651318558307,
          -0.2741666915142854,
          -0.26413838216674873,
          -0.15553596035697279,
          -0.24164607381486283,
          -0.23026328897440712,
          -0.1553960762159198,
          -0.3028424987505951,
          -0.15367104335263654,
          -0.08694434344376108,
          -0.27390790407881455,
          -0.140663042032401,
          -0.4033754138170798,
          -0.4353611669051395,
          -0.4021147567117287,
          -0.12650101162029273,
          -0.3254914386843794,
          -0.4032733735206544,
          -0.17630076299783726,
          -0.31989694000838653,
          -0.3992193991378596,
          -0.3219132369480101,
          -0.32191246593538986,
          -0.31504425582122714,
          0.24597048711335234,
          -0.40375119129888043,
          -0.15509881348920596,
          -0.2568315752443696,
          -0.13337263043773123,
          -0.3272774579897424,
          -0.32112493679838233,
          0.8909655862590677,
          -0.28460727770724076,
          -0.15492119477186564,
          -0.3583943292060574,
          -0.1431339287574358,
          0.6214019421447304,
          -0.08849996542228561,
          0.017081273438107298,
          -0.1569405290349767,
          0.3314703813222259,
          -0.34317534817459927,
          -0.23657597442897352,
          -0.34167924081227546,
          -0.4027669583150991,
          -0.15523995525601098,
          -0.28899145115731995,
          -0.1550037946223596,
          -0.236970167463897,
          -0.2375469985065272,
          0.14221892406587866,
          0.2957786423198933,
          -0.2890621141356767,
          -0.18549673428630362,
          3.2506705748829443,
          -0.15848343620357938,
          -0.38784000123977413,
          -0.22843120866164834,
          -0.4022722049550189,
          -0.166787600885852,
          -0.40402321830888305,
          -0.27424064404240517,
          4.247344836764504,
          -0.08126684640641997,
          -0.32714399421626983,
          1.5902077714461333,
          -0.15533773796097938,
          -0.15479010200728574,
          -0.15449137104827687,
          -0.15447831114038665,
          -0.3215488398454635,
          -0.32204792865381787,
          0.2959619399965226,
          -0.4608784185984418,
          0.5760350998022981,
          -0.40396418018382746,
          0.056671017574144174,
          -0.37840337036562155,
          -0.19197528757540352,
          -0.3220036362095974,
          -0.2166912876626781,
          -0.29262874683136475,
          -0.1552422564838795,
          0.4464218702435723,
          -0.3318554946665597,
          -0.3279594933689017,
          -0.368978750990505,
          -0.17479209555193012,
          -0.3219540385694608,
          -0.4012912270975909,
          -0.15366925376350046,
          -0.24874087704812325,
          -0.3218245001220206,
          -0.11257195922153217,
          -0.2330962923195397,
          -0.2165369026449959,
          -0.15485727548026437,
          -0.21663696807890512,
          -0.4027583225276417,
          3.770810372100147,
          0.215752978354923,
          -0.28573638825771713,
          -0.10559873654865772,
          -0.3192876400556891,
          1.1322919230088557,
          0.2953669316371539,
          -0.07985030992270443,
          -0.2954019074340092,
          -0.3551960589250084,
          -0.23283909969613953,
          -0.13225833759679456,
          0.09175857694191358,
          -0.3209643629907868,
          -0.07181049757381151,
          -0.40333855089766607,
          1.110364234805923,
          -0.2375210200808685,
          -0.2166888164672651,
          -0.3543619246552493,
          -0.2097340889587903,
          -0.15458949564812055,
          -0.30854309338767233,
          -0.3220700429646595,
          -0.3565042670530604,
          -0.2374464966700314,
          -0.1667670083469276,
          -0.1285886763395939,
          -0.3598964079645372,
          -0.2759577143279306,
          -0.2684305661756346,
          8.022519156386814,
          -0.18782049602504314,
          -0.3176197324172608,
          0.29923694322901057,
          0.03726655421965903,
          -0.1742953632071299,
          -0.15845190426823608,
          -0.23345189158727997,
          -0.27713993638399165,
          -0.36288699483043124,
          -0.15516269185961723,
          0.15160164545576912,
          -0.23159402518267022,
          -0.2951538576145289,
          -0.2965827354054837,
          -0.4040405311904279,
          -0.29782794231207277,
          -0.2734017937506693,
          -0.29268923765478555,
          -0.10796146768246485,
          0.3032793141113859,
          -0.1553994364007804,
          -0.10526516949869041,
          -0.34277480873662375,
          -0.32209737252744286,
          -0.3220791072468765,
          -0.15423431274796195,
          -0.26778927299641186,
          -0.15704919710720386,
          -0.3716796363377332,
          -0.3267388847823459,
          -0.3217959547149013,
          3.921490453632519,
          -0.23661671833369463,
          -0.3999602278670749,
          -0.32692737452667037,
          0.29554929148636516,
          -0.30563537066807694,
          -0.2687310716453958,
          -0.17636003920786522,
          -0.08707114072632625,
          -0.21495475486883608,
          -0.21890177712863798,
          -0.2739351216152467,
          -0.15934692372552214,
          0.2994716900552432,
          0.5746844359797578,
          2.1017985079359818,
          -0.12540731587285872,
          -0.27418708869081826,
          -0.08340538380912563,
          -0.3711427997904424,
          0.3091395374896475,
          -0.3212706498943362,
          -0.19392153460585554,
          2.296183480882941,
          -0.35091039245128464,
          -0.2847343934993498,
          1.0479754531128598,
          -0.18675828668226868,
          -0.15578554522135837,
          -0.23750319910847642,
          -0.3525098431056006,
          -0.3553095131140681,
          -0.4029731377894064,
          -0.15509267707607868,
          -0.3400944732861995,
          -0.3540303902358326,
          -0.15542400687551267,
          -0.31498439088198016,
          -0.13214225913849337,
          -0.16093316468011146,
          -0.13006009931546164,
          3.094503523029476,
          -0.3560821592286735,
          -0.40351438179556587,
          -0.2714356968151638,
          -0.32602850101346653,
          -0.1266544294180868,
          -0.38511758195578427,
          -0.35594387098439245,
          -0.2374746058629212,
          -0.18177486502407492,
          -0.6805941859328531,
          -0.18618682088269187,
          -0.22498252701932064,
          -0.050102111367404015,
          -0.2502837469506918,
          -0.1587454853322928,
          -0.16678763842502436,
          0.5441262829707437,
          -0.14661036346769418,
          0.3752111216046943,
          -0.40226853468275026,
          -0.16523736872743866,
          -0.16562869721120785,
          -0.2736870651570816,
          -0.31132758588371157,
          -0.1543175954421047,
          -0.32179987939282034,
          -0.15330499354296687,
          -0.40272413941515095,
          -0.15507524443707146,
          -0.3554263649088027,
          0.5836642309124559,
          -0.23023315999008073,
          -0.35655853564537304,
          -0.32128350247038334,
          -0.29228987990846284,
          -0.3259209119617349,
          -0.4010827117339406,
          -0.16606451406155132,
          -0.12290313777980624,
          -0.16493379350692705,
          -0.4037413492439732,
          3.7830405494577564,
          0.11263192971759896,
          0.5394884611211231,
          -0.40128264906130146,
          -0.1419277559765654,
          -0.320670036252476,
          -0.11616559576669558,
          -0.3214936803890856,
          -0.2859475853044098,
          -0.32201135532129826,
          -0.39537772966504986,
          -0.13899449929771493,
          -0.2358312801152302,
          -0.11333649681319367,
          -0.3911317667480038,
          -0.16657801729744956,
          -0.3212902814332148,
          0.5594880505359645,
          -0.31436166357001716,
          -0.27073749623102683,
          -0.4003133893410918,
          -0.3197313587039066,
          -0.327518509058672,
          -0.15550070123530044,
          -0.15345877675983086,
          -0.3924134034998961,
          -0.3320322101573937,
          3.7663512019556213,
          -0.08166183195084632,
          -0.3169289111968051,
          -0.3830248412883288,
          -0.11609098595674788,
          -0.28946087820195043,
          -0.06907727814544347,
          3.7762127822193965,
          -0.15652271848266966,
          3.7774560034417792,
          -0.26686342247139827,
          -0.42780914047570634,
          -0.3274544208089217,
          34.04618877825396,
          -0.2557602055581837,
          2.4685517884300228,
          -0.3201770125559404,
          0.3171015117529738,
          -0.15536318540135563,
          -0.2745830466648865
         ],
         "y": [
          0.9963839715741309,
          0.9964019803821024,
          1.6235216694186114,
          -1.2716720111091322,
          -1.9917702361244078,
          -1.150253045061257,
          1.2632280866481789,
          -2.233981219663807,
          -1.9918825060348886,
          -2.0159864757631913,
          1.956608710544734,
          -1.8373976102553076,
          0.8749323781106726,
          0.64513754444532,
          -1.150235510491617,
          1.892755988655931,
          -0.8833799791202716,
          -1.1502569662370774,
          0.9963801445965784,
          0.9965686058578531,
          -1.8299143867173875,
          -1.3585348729792284,
          -1.2717084814968835,
          -1.1503239463687482,
          -1.1502779038902393,
          0.9964197297783136,
          -0.4523449943399697,
          -1.159862793661668,
          -1.1502422058796766,
          0.9963837127211909,
          -1.150235088688592,
          0.9963837310478862,
          -1.1502315559553125,
          -0.8833806819728558,
          0.3912629467023199,
          0.9867767271019626,
          -1.8336719915957196,
          -1.2776026363270216,
          -1.153905715834086,
          -1.1502311106518701,
          -1.150324826246468,
          -1.1502374886137483,
          1.4636769416676103,
          0.16139308233430066,
          -1.1502315577458535,
          -1.58312201205499,
          -1.150739535737509,
          -1.1502446852535,
          -1.1502528812188122,
          0.996344813171314,
          1.0339220240394649,
          -1.1730494310064543,
          1.2632305912395154,
          -1.2716710922804617,
          -1.1503257719728233,
          -1.1502310284874675,
          -1.1502262061277986,
          1.7375541151118714,
          -1.1502374927088295,
          -2.2717114176719226,
          0.7727682209235694,
          -1.1502295328745484,
          0.874100520986682,
          0.7665767976851986,
          1.7854556551713794,
          -1.1576753633277748,
          -1.2716729382483585,
          -1.1503113515825092,
          1.785440856296705,
          0.5636082826452744,
          0.996220836554162,
          0.9963522996195643,
          1.0049021567459848,
          -1.150236865748196,
          -1.1503543763955753,
          -1.150246132484814,
          1.0334490327581345,
          1.2632373966108457,
          -1.271983855079615,
          0.08745574479133925,
          -1.2716786805074445,
          1.601103736539189,
          1.2632323881467675,
          -1.271681947779773,
          -1.271708564047337,
          -1.2716659055209047,
          -0.8833720186459582,
          0.9958353382773611,
          0.9963443212070374,
          -1.1502315446010714,
          0.19015956475941503,
          -1.2694020976228422,
          -1.1503350238850127,
          1.263236432911448,
          0.08751572763781698,
          -1.2716788504482153,
          1.7854460683317346,
          0.9958845013521742,
          -2.340304438173709,
          -2.2971380282001563,
          0.8128315136880586,
          1.5619034802079175,
          -1.1502630040537025,
          0.874918417454415,
          0.9867935994071607,
          -1.1510165514812607,
          0.7665887724350711,
          -1.1502760960306937,
          1.785430530338404,
          -1.150227167434245,
          0.7663603843828173,
          -1.150268345044801,
          0.9963843980933053,
          1.7854330897341706,
          -1.150537979747947,
          -2.2071354810422426,
          1.0334242308445638,
          -1.829301077496443,
          -1.5339355633708387,
          -1.150224677154299,
          0.9963764941221029,
          -1.1543108897438155,
          -2.154549546705725,
          -1.150225950727323,
          -1.271673598937574,
          -1.200133152395972,
          1.2632378366462662,
          1.5455048096060144,
          -0.8833809084339096,
          -2.194838556494826,
          -1.2716907064784626,
          1.8368240341610396,
          -0.8833791518210771,
          1.1425789280460759,
          -1.150330381443719,
          -1.150339441364378,
          0.7665556831845393,
          -1.9918076474256563,
          1.7854160242129158,
          -2.2083845786892793,
          0.8744139782509143,
          1.8929280974795153,
          -0.8833764383424181,
          -1.2716711189756247,
          0.8879824395758126,
          -1.1502786942869734,
          -2.1119382786980596,
          0.8749330699052179,
          1.2520299623921,
          -1.1502510701076896,
          0.8749397323614245,
          -1.2770805155101226,
          1.5239512043813024,
          0.9963638025320598,
          0.7664727200683091,
          -0.8834048294167565,
          -2.1695614275663484,
          -1.150316935534972,
          -2.159992353962778,
          1.2630321117594616,
          0.7236188718506316,
          0.8749235109624697,
          0.4007981059395588,
          1.463670253265421,
          -1.1502347348393875,
          -0.8833819637928666,
          1.2632358088938258,
          0.8748234633863577,
          0.8746639821073513,
          1.5210007636694258,
          1.263169079573242,
          -1.1502259499640572,
          1.486206318895658,
          0.995535287622251,
          0.9963612372203916,
          0.9963587812952067,
          1.5555263127532033,
          -0.8833855308618642,
          1.033268798498629,
          -1.3315660656848607,
          1.2632147956071818,
          0.9963476916861036,
          -2.293723302309271,
          0.874932719092331,
          -1.2716692955205342,
          1.2632359604851575,
          0.9963733299215579,
          -1.8296803945881928,
          0.9963845352556614,
          -1.1503003374289567,
          0.7666301535171601,
          -1.2716689531300651,
          0.1870533781379792,
          -1.1502388379346864,
          1.8517451887288898,
          1.4636566603322854,
          0.9963937123055076,
          1.2625005967398928,
          -2.258847829151798,
          1.4636968049627384,
          1.555632724433042,
          1.9214852707824184,
          1.4635171849349766,
          1.8531485794556608,
          -1.9918081270361694,
          -2.0159869899262555,
          1.998776724910864,
          1.2632264525112253,
          -1.1555934722214127,
          -0.8834041766530604,
          1.811763696756747,
          1.2632364261471474,
          1.463662696178571,
          0.9963680304330825,
          0.996361899549701,
          -0.8834782222759904,
          1.463670253265421,
          1.2632066121191232,
          0.874936696412377,
          0.9963719523021752,
          0.7732874171499101,
          0.9963720020917678,
          0.9960341785191281,
          1.2632349211713907,
          -2.2937312582319436,
          0.9963082900276933,
          0.7587674958381858,
          0.9963779285944795,
          0.9963831363278595,
          1.4645151641713274,
          0.6126383707236646,
          -1.1502270073260374,
          -2.2937309934599117,
          -2.1948117405539236,
          0.9961196993917417,
          0.874933280078568,
          1.263233966888601,
          0.9963765571772459,
          -0.9374634951030474,
          0.9963721629225403,
          -2.234083387675013,
          0.7665518867583747,
          0.21971260856458535,
          -1.1502267121871046,
          1.5556296953693771,
          -0.8839060119248147,
          -2.0159844399460214,
          0.9961320686897001,
          -1.1502510304691589,
          -2.194812864075006,
          0.766572673225077,
          -2.18264058974581,
          1.2631869743379094,
          1.8601948051642918,
          1.2632098706638226,
          -1.1523770566074403,
          1.4636477547104503,
          1.2631894030772697,
          -0.6256076620790413,
          1.4635749431799057,
          1.2630015131998815,
          0.9963740246563526,
          0.9963687905651147,
          0.9958416453108996,
          0.60448468845358,
          1.2632206874145047,
          -1.1502391718867324,
          0.7655816874756635,
          -1.2726391110476154,
          1.463662326819312,
          0.9963332182586048,
          1.8559302286939128,
          0.6450353052681592,
          -1.1502608795677796,
          1.4861880884142404,
          -2.234023117587462,
          1.947246660068718,
          -2.329806629007556,
          -2.2181477821902558,
          -2.272954472185688,
          -2.294279319215066,
          1.5210211253949302,
          -0.8834164063232353,
          1.5209785304452315,
          1.872174391627705,
          -1.1502309828565234,
          1.7854263580264993,
          -1.1502649784524088,
          -0.8833973506508986,
          -0.8833818600363813,
          0.9718885671700045,
          -2.2937453290354832,
          1.7854325690015325,
          -2.1553285022352906,
          -1.2113414046096063,
          -1.2316634351190778,
          1.423217069869255,
          -0.8839335005838517,
          1.8721861676319043,
          -1.2716719912299803,
          1.2632358916210167,
          0.7665768542424818,
          3.244450134327023,
          -1.1559216050515086,
          1.4636430373689788,
          -1.1086725378332274,
          -1.1502338244196737,
          -1.1502662907772738,
          -1.150270555717835,
          -1.1502702448689504,
          0.996363473839048,
          0.9963829135925489,
          -2.293765770624082,
          1.9577229916180092,
          1.5390797164052614,
          1.263224860305701,
          -2.025854817803172,
          0.5634454723253504,
          -0.8835634530987259,
          0.9963757681608605,
          -1.5830138105432892,
          0.6474292229911048,
          -2.0159836225809102,
          0.996902986758245,
          0.8749164379041258,
          1.5205372542732885,
          1.831652987098624,
          -2.1696217266615676,
          0.9963732043139553,
          1.6942237727227565,
          -1.1502509878737752,
          1.4054906938159446,
          0.9963807038084128,
          0.6428737138133968,
          -0.8835113222598509,
          -1.5830229330804675,
          -1.9919497112208044,
          -1.5830159302207845,
          1.2631703802215808,
          1.998625568032723,
          1.513003094403441,
          1.785375862541226,
          -1.8295380528032124,
          0.996302298989429,
          -2.3342275399185435,
          -2.2937256238830015,
          -1.9970748865382806,
          1.2912110539346655,
          1.4645143224923125,
          -0.8836473914364922,
          -2.234400194581874,
          0.9706875217449602,
          0.9963050472654637,
          -1.1517862798119087,
          1.2632233994444129,
          -1.2986982711449255,
          -0.8833818815626167,
          -1.5830094860000052,
          1.4644630809540802,
          -1.5831844981995042,
          -1.1502472969099002,
          0.996067479872149,
          0.9963825294236904,
          1.0334241874072507,
          -0.8833823828268045,
          -1.2716709081554658,
          -1.1087303303840013,
          1.4862056578414409,
          -0.0749952652191666,
          0.23208841630014332,
          -2.8207509378104336,
          -2.0881505508267684,
          0.9963263571487094,
          -2.2938635044129323,
          -1.1527448236291027,
          -2.1695698720528127,
          -1.2697810512890835,
          1.5552662946257616,
          3.8885779908305733,
          3.041143920784183,
          -1.150243877094708,
          -1.1560004230257432,
          -0.883582208759139,
          1.037881227703789,
          3.281782560282398,
          1.2632244649249875,
          1.5859642937010923,
          0.7665210368453633,
          1.3829904041303374,
          -1.9952556424934977,
          -2.2942393623506443,
          -1.1502360039056394,
          -2.1357944945204737,
          1.5210022207782006,
          0.9963825898858826,
          0.9963816027236795,
          -2.0159944684887643,
          0.7663873060234342,
          -2.258993216540246,
          1.3811381222108365,
          1.4636339104768015,
          0.9963705684023291,
          2.0271340532469684,
          -0.8834173761001625,
          1.6942554528563192,
          1.4636351117204451,
          -2.2937254780254186,
          0.6137180865862777,
          0.9940134629018392,
          -0.6255896980370558,
          -2.1948196359119123,
          1.4653299324836715,
          -2.183343045516153,
          0.7665780161994089,
          -2.2588420852883573,
          -2.2940456092684554,
          -2.2456196290263564,
          -2.381536023769261,
          0.9938145620556254,
          0.7665592217643862,
          -2.2155298889763486,
          1.8568613392395557,
          -2.294099878679219,
          0.9963446800650774,
          1.6630953109284135,
          0.2427094709371557,
          1.4641684278582205,
          0.6451032485420811,
          1.729974534615823,
          -1.3030750642705853,
          -2.279717859448485,
          -0.8833823105368771,
          0.8435102658493888,
          1.464510911128062,
          1.6943222689674367,
          0.7574242563488013,
          0.8772137610554226,
          1.4644851911406382,
          -1.1502373745175907,
          0.9958430702022351,
          -2.234931015886037,
          -2.1801791105148025,
          -0.5607226803546516,
          -2.3166865378309933,
          1.0334100618806945,
          1.2632192143583494,
          0.7664711436719581,
          1.463564082468271,
          -1.272194824361203,
          0.9168103349986176,
          1.0333813604517674,
          -0.8833844737834196,
          0.9869274729783203,
          2.880043210340204,
          -1.303116862973611,
          2.481190011300326,
          -2.018869422299186,
          1.3561684706849677,
          -2.2588800251165657,
          -1.2716719921234796,
          1.335463266882357,
          1.0384349632309922,
          -2.297560813098756,
          1.6943043103706685,
          -2.253042057937626,
          -2.2529945732715806,
          -0.09922360482573865,
          -2.2946407209306527,
          -1.1502806386328999,
          0.996376873574759,
          -2.0161094209957557,
          1.6943183239720667,
          -2.015986675891098,
          1.4645135544284833,
          0.9647640843806342,
          -1.533987904249362,
          1.0334238199591612,
          0.9963443741510571,
          1.5857832895778783,
          1.8544540250963304,
          1.2630140393938345,
          -1.2716853515112077,
          -0.3611741130714901,
          -1.271732377588103,
          1.263228031213579,
          1.9985611908257284,
          0.981848655589606,
          -1.2034261090625973,
          1.263307881244783,
          -1.5840589269325702,
          0.9962765050580262,
          -2.2567760060814352,
          0.9963605180786907,
          0.6451307242212609,
          0.9963867701096143,
          1.2630929517215694,
          -1.150541561457101,
          0.990972990364073,
          0.8800535903093741,
          1.2628385361027714,
          -1.2716819328058737,
          0.9963932686311237,
          -1.1687531923583527,
          0.9962844646592333,
          -1.15986728466942,
          1.263183072890648,
          0.9963272854054345,
          1.4636715194135648,
          -1.150227038922393,
          -1.150304276383545,
          0.7130721972976288,
          0.8749086769927988,
          1.9987612143041926,
          0.7640571225389455,
          0.9962944550371547,
          0.5635770779942861,
          -1.8293205478590842,
          1.7854364281412005,
          -2.1765123869394736,
          1.9991096319784714,
          -1.9918076943689889,
          1.9991392228403382,
          0.6448889369763668,
          3.742356946641919,
          1.4636733049368122,
          1.4991232311816978,
          1.4123007903317129,
          0.9134710711976614,
          0.9962526921892934,
          -2.2941949095194967,
          -2.015986500902828,
          0.7665803682902855
         ],
         "z": [
          -0.5302722722476536,
          -0.5305992355316554,
          -0.6011225487140904,
          0.18292960445174494,
          0.3629182230359955,
          0.000054886959192596935,
          -0.48302836057187565,
          0.3847312297221665,
          0.36290930387237685,
          0.4322785183799583,
          -0.17396121566287748,
          0.33955421631773375,
          -0.3474140623346166,
          -0.062390615541429884,
          0.00007381280399484835,
          -0.5758069501134627,
          0.04731958689807671,
          0.00007044379980922848,
          -0.5302781552368463,
          -0.530458092228439,
          0.34305289436610176,
          -0.013198208730022514,
          0.18287992962009236,
          0.000029876586004218197,
          0.00007061704518608716,
          -0.5303082600666595,
          0.05450830739044922,
          0.1030504383480987,
          0.0000647806707791699,
          -0.5302723019700579,
          0.00007338829215033713,
          -0.5302726106765221,
          0.00007439579147556465,
          0.04732145531268055,
          -0.1061662944934912,
          -0.4272817837399063,
          0.33838510158060503,
          0.17671950000342285,
          -0.004057296811777463,
          0.0000693847084754171,
          0.0000018563899403484205,
          0.0000694178639768897,
          -0.09599385291984122,
          -0.26760296733420724,
          0.00007550302005558236,
          0.1947958018443307,
          -0.0002314322813427037,
          0.000054600802850060724,
          0.00006154571957102216,
          -0.530302525243186,
          -0.19848956717137323,
          -0.029549052661135576,
          -0.4830308812477062,
          0.18292867972236188,
          0.000022761767296517828,
          0.00006988254056282968,
          0.00007585598709664449,
          -0.12899840170631002,
          0.00006361674385623912,
          0.34210961840897797,
          -0.2514731054977923,
          0.00007418256431716518,
          -0.3479684955163273,
          -0.24525131381776327,
          -0.581719434086439,
          -0.0011342268654980343,
          0.18293053754506572,
          -0.000033304685010027825,
          -0.5817045401733861,
          -0.3354811309250227,
          -0.5303519096931627,
          -0.5302972882381087,
          -0.5388451611835636,
          0.00007517676403245022,
          0.00006050203447500243,
          0.00006697118230530776,
          -0.19801353833985316,
          -0.48302495937235673,
          0.1827401366462486,
          0.09826655982944939,
          0.18292121610532752,
          -0.16024876887111522,
          -0.4830257234048965,
          0.18292741392854336,
          0.18293214120808604,
          0.1829355055295459,
          0.047323185784594934,
          -0.5306489542433248,
          -0.5302904196365141,
          0.00006866039619831473,
          -0.4032417075683615,
          0.2500880767344058,
          0.000032073095269315904,
          -0.48302718178638204,
          0.09826424418811185,
          0.18292255513347067,
          -0.5817097856801065,
          -0.5303501185534003,
          0.3231683041405438,
          0.38100724220751925,
          0.3303477406926885,
          -0.20623651358594597,
          0.00005264923824590676,
          -0.34742671613392073,
          -0.42729622170327736,
          -0.0001032199257390583,
          -0.2452539725887359,
          0.00003025889934195737,
          -0.5817011141915777,
          0.00007608155718948675,
          -0.2453143799033421,
          0.000026165363836728914,
          -0.5302727014815566,
          -0.581702528975484,
          -0.00019010862488232398,
          0.37022100822877513,
          -0.1980001876313841,
          0.34359669477318033,
          0.1731000368070749,
          0.00007314375958468191,
          -0.5302763572340493,
          -0.0016176863499132868,
          0.4374815625746285,
          0.0000760230321022507,
          0.18293120247722716,
          -0.003104133412541739,
          -0.4830254016531604,
          0.6879310779976278,
          0.0473129753658169,
          0.40213022293595546,
          0.18292940191159432,
          -0.6942731943777913,
          0.04731817376181656,
          -0.23093743939855865,
          0.00005943462723464638,
          0.000045471090501891224,
          -0.2452787232540284,
          0.36294606002088975,
          -0.5817085748254474,
          0.420518783162469,
          -0.34746008592949734,
          -0.5757922473915625,
          0.04731834547794646,
          0.18292870658896132,
          -0.4313473884001073,
          0.000007554861344290234,
          0.4290371266132967,
          -0.3474147585718667,
          -0.4871584666097404,
          0.00005289932247562986,
          -0.34741478778664386,
          0.1758304554617526,
          -0.5432603118449918,
          -0.5302763556699105,
          -0.24526550132493616,
          0.047307443237572654,
          0.3495677208386477,
          0.00007021977082014453,
          0.4906720814794244,
          -0.4830412768746687,
          -0.2594800101400093,
          -0.34741558767628494,
          -0.09378838864439581,
          -0.0959987320477314,
          0.00007361269467662686,
          0.04731868169548942,
          -0.4830669001897465,
          -0.3474209738699167,
          -0.34743594633952796,
          -0.5403431705752374,
          -0.4830368958790424,
          0.00007602402292297075,
          -0.1223925374230131,
          -0.5305791863228071,
          -0.5302751284399669,
          -0.5303049725873756,
          -0.29668223453459996,
          0.0473222716722053,
          -0.19821355098243884,
          0.6871184901216592,
          -0.48303123885201643,
          -0.5302880065192979,
          0.38337002320453006,
          -0.3474138249819093,
          0.18293341044766726,
          -0.48302525501579496,
          -0.5302737532371576,
          0.3432818188593936,
          -0.53027283952477,
          0.00003514223709360688,
          -0.24529561942015016,
          0.18293254205258722,
          -0.2725651294384411,
          0.00007193689855469777,
          -0.6587162736107763,
          -0.09601640012487683,
          -0.5302820755096337,
          -0.4831542134168827,
          0.3142605304674713,
          -0.09603706468384571,
          -0.2966746761426402,
          -0.7544415060037413,
          -0.0960078079985702,
          -0.6528756081827645,
          0.3629411443349569,
          0.43227903584497984,
          -0.5548235294932446,
          -0.4830313601337015,
          -0.0003268671271540096,
          0.04706528823541209,
          -0.6086898714524678,
          -0.48302621904506826,
          -0.09600854215376714,
          -0.5302786021089569,
          -0.5302744404665988,
          0.047297711948170965,
          -0.0959987320477314,
          -0.4830288080510946,
          -0.34741724732015616,
          -0.5302793330605025,
          -0.2310586892117207,
          -0.5302764805490939,
          -0.5302979565436565,
          -0.4830253700758549,
          0.38337164445449146,
          -0.5302797001275241,
          -0.2562581622463034,
          -0.530273737249558,
          -0.530273356508644,
          -0.190733093384252,
          -0.35725816448448666,
          0.00007587032966034063,
          0.38336905588549186,
          0.40213562170350997,
          -0.5302965649598492,
          -0.3474143895708002,
          -0.4830269372668096,
          -0.5302764206941327,
          0.043709622720444534,
          -0.5302731205660179,
          0.3847266568886216,
          -0.24524877886046198,
          -0.2416668191366188,
          0.0000751984427740199,
          -0.296678608271029,
          0.04728008421845496,
          0.43227879158537175,
          -0.5305992757684629,
          0.00004357104298510624,
          0.4021303666736144,
          -0.24525775535956068,
          0.2879313366301848,
          -0.4830322651220439,
          -0.7620651791483195,
          -0.48306111372967114,
          -0.00008079366320605877,
          -0.09602850454995425,
          -0.4830347094587693,
          -0.009971786139554267,
          -0.09612340905782508,
          -0.4830778226125316,
          -0.5302745755749025,
          -0.5302735967125057,
          -0.5303069872906125,
          -0.06500874159388871,
          -0.4830313632550275,
          0.00006906826972304315,
          -0.24540146842940877,
          0.18246379573846563,
          -0.09599655993948163,
          -0.5302821480056928,
          -0.5907886851577345,
          -0.062396616942499844,
          0.00006973806872266784,
          -0.1224127947214144,
          0.38471244167854723,
          -0.6752592092617993,
          0.4063310736149771,
          0.43014714382818997,
          0.479956343427862,
          0.38277436779253227,
          -0.5403172211317483,
          0.0473098061045487,
          -0.5403382102937698,
          -0.7498525389108948,
          0.00007025645164277395,
          -0.5817073645197846,
          0.00007212170394001367,
          0.047313849022678385,
          0.047322118469995136,
          -0.534645765824566,
          0.3833666483237845,
          -0.5817071705115073,
          0.4640697436875413,
          -0.054520510002949135,
          0.1025052666522167,
          -0.12652746498734005,
          0.047249696994667384,
          -0.749864390540598,
          0.18292958444493487,
          -0.48302896333737483,
          -0.2452520823977024,
          10.243231286477734,
          -0.00028688910291658674,
          -0.09599549115511458,
          -0.04174388627356128,
          0.00007269642824648037,
          0.00006821773920579349,
          0.00006322168281588648,
          0.00006290883765955519,
          -0.5302796543030183,
          -0.5302736456487668,
          0.38336696734622117,
          -0.17304548800950742,
          -0.15917868311470487,
          -0.48302801613058266,
          0.43003141877266204,
          -0.33554729612113077,
          0.04647090615942402,
          -0.53027314970745,
          0.19486628742484094,
          0.0047758489002362224,
          0.43227564687454095,
          -0.5453077242740384,
          -0.34744330064376017,
          -0.5405210663281228,
          -0.44472558834845616,
          0.3495550830660286,
          -0.5302736268229027,
          -0.47577164331413097,
          0.00004352817405392749,
          -0.041013988916685305,
          -0.5302775684233157,
          -0.06532970738678397,
          0.04726020055383617,
          0.19486501911225634,
          0.36293630395952287,
          0.19486563419898664,
          -0.48304110750089524,
          -0.5548890984418385,
          -0.5496576176017873,
          -0.5817610390994918,
          0.34345204599643575,
          -0.5303119852087121,
          0.3747956315315466,
          0.383370908377033,
          0.3624516984164849,
          -0.2552942383020364,
          -0.19073514892072413,
          0.047281038736774396,
          0.384572672139762,
          -0.5334370072853428,
          -0.5302799196851744,
          -0.0012558885770011618,
          -0.4830398979430931,
          0.08709440701883688,
          0.047321617662737014,
          0.19486541825423884,
          -0.19074163072431768,
          0.19476348331428275,
          0.00006071237620950883,
          -0.530476219746497,
          -0.5302731429079454,
          -0.19800072443926675,
          0.047320264468763404,
          0.18292897857205698,
          0.1942120252014738,
          -0.12238693766822933,
          0.11762693603215278,
          -0.2512917018681148,
          0.33326388558660064,
          0.47532837469760786,
          -0.5303489694008016,
          0.3833218748132429,
          -0.0031938097418144516,
          0.34953558286510467,
          0.2498796515047984,
          -0.2967688610606672,
          11.661360662504423,
          11.602856506486317,
          0.00007120317856331523,
          -0.0047977577106010465,
          0.04724446366374413,
          -0.33613615159364324,
          2.9415999531908597,
          -0.4830264571624335,
          -0.5348798528157487,
          -0.24525778699565018,
          -0.0626471048078277,
          0.36265260571088204,
          0.3833146784751489,
          0.00007430938672231953,
          0.42518225135291565,
          -0.5403214160755634,
          -0.5302726232342755,
          -0.5302727907808166,
          0.43225811675146797,
          -0.2453414744347455,
          0.31424511750558354,
          -0.13988201407168654,
          -0.09600163150791065,
          -0.530276198700801,
          -0.6137825779264646,
          0.047310782109383415,
          -0.47580352689752387,
          -0.09599819627274259,
          0.3833673364902671,
          -0.08763167738093129,
          -0.530859956521908,
          -0.009974045102487445,
          0.4021341168317473,
          -0.2827939551453629,
          0.41246813898468365,
          -0.24525824090442563,
          0.3142610774301725,
          0.3833518904698954,
          0.31027581615316346,
          0.3649360396299475,
          -0.5336077082862422,
          -0.24524977520623437,
          0.364760769043511,
          -0.6523128494562354,
          0.3831742990395335,
          -0.5302814924127396,
          -0.29077309950801156,
          -0.3527514939972014,
          -0.19075276316568368,
          -0.06240704746935075,
          -0.33086910745289405,
          0.15769027512873413,
          0.34729869991649803,
          0.047321352762890415,
          -0.3726687344330315,
          -0.19073229617284093,
          -0.4757576575516213,
          -0.2458298496292856,
          -0.28024826613241155,
          -0.19075227241950118,
          0.00007504716888067515,
          -0.5303084213326008,
          0.38467120827353185,
          0.2987943066384883,
          -0.004540729980248718,
          0.2747969053384334,
          -0.19800624601967495,
          -0.48303568598040536,
          -0.24528652469267134,
          -0.09600217901018845,
          0.18224886550279784,
          -0.4270290567614584,
          -0.19800348385691227,
          0.047321207805202666,
          -0.5312044786905392,
          -0.2461525772439002,
          0.15768710532502164,
          22.387804466965942,
          0.4307801866665779,
          -0.24985512005610486,
          0.314256592382945,
          0.1829295853441716,
          -0.47082205977308095,
          -0.20303148846011532,
          0.3825473485989714,
          -0.4757679416489432,
          0.4292301662488995,
          0.42922875540812366,
          0.18695158432852854,
          0.24714148282350756,
          0.00006175886736463734,
          -0.5302773196477005,
          0.43226188242737607,
          -0.4757617477987323,
          0.4322729807313407,
          -0.19073052704927335,
          -0.5418725285249257,
          0.17309466140373692,
          -0.19799959995003133,
          -0.5302811845341397,
          -0.5349531169100016,
          -0.6527346438758429,
          -0.48304398731770404,
          0.1829180679874414,
          -0.05135202491777669,
          0.18290502155421642,
          -0.48303294897448207,
          -0.5551145698794127,
          -0.5359619556852477,
          -0.0033312266921717735,
          -0.4830958960781165,
          0.1936116931038755,
          -0.5302802203871723,
          0.4289854494583435,
          -0.5302801650968464,
          -0.06238868597316516,
          -0.5302750887309554,
          -0.4831698483524404,
          -0.00018650391399023219,
          -0.5309220452652105,
          -0.35266569101722434,
          -0.4832040609514604,
          0.18292739885848136,
          -0.5302903368482234,
          -0.010303601263957627,
          -0.5304043359349484,
          0.10304276718995345,
          -0.48309103522789093,
          -0.5303081058799889,
          -0.09599362056142743,
          0.00007457521675062245,
          0.00004955592235112733,
          -0.2161142723981948,
          -0.347438392512608,
          -0.5548281902519296,
          -0.24851643523588196,
          -0.5303563380560772,
          -0.33548246636294365,
          0.3436146647068782,
          -0.5817001532431633,
          0.4500802574885458,
          -0.5550860089714125,
          0.3629417059945651,
          -0.5551157898658045,
          -0.06271367911337886,
          10.664502408905449,
          -0.09599520516074043,
          -1.1569006921053504,
          -0.035084912161237165,
          -0.2869650874361351,
          -0.5302852807996881,
          0.3830376012774079,
          0.4322785436810432,
          -0.2452460949966798
         ]
        }
       ],
       "layout": {
        "coloraxis": {
         "colorbar": {
          "title": {
           "text": "Class"
          }
         },
         "colorscale": [
          [
           0,
           "#0d0887"
          ],
          [
           0.1111111111111111,
           "#46039f"
          ],
          [
           0.2222222222222222,
           "#7201a8"
          ],
          [
           0.3333333333333333,
           "#9c179e"
          ],
          [
           0.4444444444444444,
           "#bd3786"
          ],
          [
           0.5555555555555556,
           "#d8576b"
          ],
          [
           0.6666666666666666,
           "#ed7953"
          ],
          [
           0.7777777777777778,
           "#fb9f3a"
          ],
          [
           0.8888888888888888,
           "#fdca26"
          ],
          [
           1,
           "#f0f921"
          ]
         ]
        },
        "legend": {
         "tracegroupgap": 0
        },
        "margin": {
         "t": 60
        },
        "scene": {
         "domain": {
          "x": [
           0,
           1
          ],
          "y": [
           0,
           1
          ]
         },
         "xaxis": {
          "title": {
           "text": "PC 1"
          }
         },
         "yaxis": {
          "title": {
           "text": "PC 2"
          }
         },
         "zaxis": {
          "title": {
           "text": "PC 3"
          }
         }
        },
        "template": {
         "data": {
          "bar": [
           {
            "error_x": {
             "color": "#2a3f5f"
            },
            "error_y": {
             "color": "#2a3f5f"
            },
            "marker": {
             "line": {
              "color": "#E5ECF6",
              "width": 0.5
             }
            },
            "type": "bar"
           }
          ],
          "barpolar": [
           {
            "marker": {
             "line": {
              "color": "#E5ECF6",
              "width": 0.5
             }
            },
            "type": "barpolar"
           }
          ],
          "carpet": [
           {
            "aaxis": {
             "endlinecolor": "#2a3f5f",
             "gridcolor": "white",
             "linecolor": "white",
             "minorgridcolor": "white",
             "startlinecolor": "#2a3f5f"
            },
            "baxis": {
             "endlinecolor": "#2a3f5f",
             "gridcolor": "white",
             "linecolor": "white",
             "minorgridcolor": "white",
             "startlinecolor": "#2a3f5f"
            },
            "type": "carpet"
           }
          ],
          "choropleth": [
           {
            "colorbar": {
             "outlinewidth": 0,
             "ticks": ""
            },
            "type": "choropleth"
           }
          ],
          "contour": [
           {
            "colorbar": {
             "outlinewidth": 0,
             "ticks": ""
            },
            "colorscale": [
             [
              0,
              "#0d0887"
             ],
             [
              0.1111111111111111,
              "#46039f"
             ],
             [
              0.2222222222222222,
              "#7201a8"
             ],
             [
              0.3333333333333333,
              "#9c179e"
             ],
             [
              0.4444444444444444,
              "#bd3786"
             ],
             [
              0.5555555555555556,
              "#d8576b"
             ],
             [
              0.6666666666666666,
              "#ed7953"
             ],
             [
              0.7777777777777778,
              "#fb9f3a"
             ],
             [
              0.8888888888888888,
              "#fdca26"
             ],
             [
              1,
              "#f0f921"
             ]
            ],
            "type": "contour"
           }
          ],
          "contourcarpet": [
           {
            "colorbar": {
             "outlinewidth": 0,
             "ticks": ""
            },
            "type": "contourcarpet"
           }
          ],
          "heatmap": [
           {
            "colorbar": {
             "outlinewidth": 0,
             "ticks": ""
            },
            "colorscale": [
             [
              0,
              "#0d0887"
             ],
             [
              0.1111111111111111,
              "#46039f"
             ],
             [
              0.2222222222222222,
              "#7201a8"
             ],
             [
              0.3333333333333333,
              "#9c179e"
             ],
             [
              0.4444444444444444,
              "#bd3786"
             ],
             [
              0.5555555555555556,
              "#d8576b"
             ],
             [
              0.6666666666666666,
              "#ed7953"
             ],
             [
              0.7777777777777778,
              "#fb9f3a"
             ],
             [
              0.8888888888888888,
              "#fdca26"
             ],
             [
              1,
              "#f0f921"
             ]
            ],
            "type": "heatmap"
           }
          ],
          "heatmapgl": [
           {
            "colorbar": {
             "outlinewidth": 0,
             "ticks": ""
            },
            "colorscale": [
             [
              0,
              "#0d0887"
             ],
             [
              0.1111111111111111,
              "#46039f"
             ],
             [
              0.2222222222222222,
              "#7201a8"
             ],
             [
              0.3333333333333333,
              "#9c179e"
             ],
             [
              0.4444444444444444,
              "#bd3786"
             ],
             [
              0.5555555555555556,
              "#d8576b"
             ],
             [
              0.6666666666666666,
              "#ed7953"
             ],
             [
              0.7777777777777778,
              "#fb9f3a"
             ],
             [
              0.8888888888888888,
              "#fdca26"
             ],
             [
              1,
              "#f0f921"
             ]
            ],
            "type": "heatmapgl"
           }
          ],
          "histogram": [
           {
            "marker": {
             "colorbar": {
              "outlinewidth": 0,
              "ticks": ""
             }
            },
            "type": "histogram"
           }
          ],
          "histogram2d": [
           {
            "colorbar": {
             "outlinewidth": 0,
             "ticks": ""
            },
            "colorscale": [
             [
              0,
              "#0d0887"
             ],
             [
              0.1111111111111111,
              "#46039f"
             ],
             [
              0.2222222222222222,
              "#7201a8"
             ],
             [
              0.3333333333333333,
              "#9c179e"
             ],
             [
              0.4444444444444444,
              "#bd3786"
             ],
             [
              0.5555555555555556,
              "#d8576b"
             ],
             [
              0.6666666666666666,
              "#ed7953"
             ],
             [
              0.7777777777777778,
              "#fb9f3a"
             ],
             [
              0.8888888888888888,
              "#fdca26"
             ],
             [
              1,
              "#f0f921"
             ]
            ],
            "type": "histogram2d"
           }
          ],
          "histogram2dcontour": [
           {
            "colorbar": {
             "outlinewidth": 0,
             "ticks": ""
            },
            "colorscale": [
             [
              0,
              "#0d0887"
             ],
             [
              0.1111111111111111,
              "#46039f"
             ],
             [
              0.2222222222222222,
              "#7201a8"
             ],
             [
              0.3333333333333333,
              "#9c179e"
             ],
             [
              0.4444444444444444,
              "#bd3786"
             ],
             [
              0.5555555555555556,
              "#d8576b"
             ],
             [
              0.6666666666666666,
              "#ed7953"
             ],
             [
              0.7777777777777778,
              "#fb9f3a"
             ],
             [
              0.8888888888888888,
              "#fdca26"
             ],
             [
              1,
              "#f0f921"
             ]
            ],
            "type": "histogram2dcontour"
           }
          ],
          "mesh3d": [
           {
            "colorbar": {
             "outlinewidth": 0,
             "ticks": ""
            },
            "type": "mesh3d"
           }
          ],
          "parcoords": [
           {
            "line": {
             "colorbar": {
              "outlinewidth": 0,
              "ticks": ""
             }
            },
            "type": "parcoords"
           }
          ],
          "pie": [
           {
            "automargin": true,
            "type": "pie"
           }
          ],
          "scatter": [
           {
            "marker": {
             "colorbar": {
              "outlinewidth": 0,
              "ticks": ""
             }
            },
            "type": "scatter"
           }
          ],
          "scatter3d": [
           {
            "line": {
             "colorbar": {
              "outlinewidth": 0,
              "ticks": ""
             }
            },
            "marker": {
             "colorbar": {
              "outlinewidth": 0,
              "ticks": ""
             }
            },
            "type": "scatter3d"
           }
          ],
          "scattercarpet": [
           {
            "marker": {
             "colorbar": {
              "outlinewidth": 0,
              "ticks": ""
             }
            },
            "type": "scattercarpet"
           }
          ],
          "scattergeo": [
           {
            "marker": {
             "colorbar": {
              "outlinewidth": 0,
              "ticks": ""
             }
            },
            "type": "scattergeo"
           }
          ],
          "scattergl": [
           {
            "marker": {
             "colorbar": {
              "outlinewidth": 0,
              "ticks": ""
             }
            },
            "type": "scattergl"
           }
          ],
          "scattermapbox": [
           {
            "marker": {
             "colorbar": {
              "outlinewidth": 0,
              "ticks": ""
             }
            },
            "type": "scattermapbox"
           }
          ],
          "scatterpolar": [
           {
            "marker": {
             "colorbar": {
              "outlinewidth": 0,
              "ticks": ""
             }
            },
            "type": "scatterpolar"
           }
          ],
          "scatterpolargl": [
           {
            "marker": {
             "colorbar": {
              "outlinewidth": 0,
              "ticks": ""
             }
            },
            "type": "scatterpolargl"
           }
          ],
          "scatterternary": [
           {
            "marker": {
             "colorbar": {
              "outlinewidth": 0,
              "ticks": ""
             }
            },
            "type": "scatterternary"
           }
          ],
          "surface": [
           {
            "colorbar": {
             "outlinewidth": 0,
             "ticks": ""
            },
            "colorscale": [
             [
              0,
              "#0d0887"
             ],
             [
              0.1111111111111111,
              "#46039f"
             ],
             [
              0.2222222222222222,
              "#7201a8"
             ],
             [
              0.3333333333333333,
              "#9c179e"
             ],
             [
              0.4444444444444444,
              "#bd3786"
             ],
             [
              0.5555555555555556,
              "#d8576b"
             ],
             [
              0.6666666666666666,
              "#ed7953"
             ],
             [
              0.7777777777777778,
              "#fb9f3a"
             ],
             [
              0.8888888888888888,
              "#fdca26"
             ],
             [
              1,
              "#f0f921"
             ]
            ],
            "type": "surface"
           }
          ],
          "table": [
           {
            "cells": {
             "fill": {
              "color": "#EBF0F8"
             },
             "line": {
              "color": "white"
             }
            },
            "header": {
             "fill": {
              "color": "#C8D4E3"
             },
             "line": {
              "color": "white"
             }
            },
            "type": "table"
           }
          ]
         },
         "layout": {
          "annotationdefaults": {
           "arrowcolor": "#2a3f5f",
           "arrowhead": 0,
           "arrowwidth": 1
          },
          "autotypenumbers": "strict",
          "coloraxis": {
           "colorbar": {
            "outlinewidth": 0,
            "ticks": ""
           }
          },
          "colorscale": {
           "diverging": [
            [
             0,
             "#8e0152"
            ],
            [
             0.1,
             "#c51b7d"
            ],
            [
             0.2,
             "#de77ae"
            ],
            [
             0.3,
             "#f1b6da"
            ],
            [
             0.4,
             "#fde0ef"
            ],
            [
             0.5,
             "#f7f7f7"
            ],
            [
             0.6,
             "#e6f5d0"
            ],
            [
             0.7,
             "#b8e186"
            ],
            [
             0.8,
             "#7fbc41"
            ],
            [
             0.9,
             "#4d9221"
            ],
            [
             1,
             "#276419"
            ]
           ],
           "sequential": [
            [
             0,
             "#0d0887"
            ],
            [
             0.1111111111111111,
             "#46039f"
            ],
            [
             0.2222222222222222,
             "#7201a8"
            ],
            [
             0.3333333333333333,
             "#9c179e"
            ],
            [
             0.4444444444444444,
             "#bd3786"
            ],
            [
             0.5555555555555556,
             "#d8576b"
            ],
            [
             0.6666666666666666,
             "#ed7953"
            ],
            [
             0.7777777777777778,
             "#fb9f3a"
            ],
            [
             0.8888888888888888,
             "#fdca26"
            ],
            [
             1,
             "#f0f921"
            ]
           ],
           "sequentialminus": [
            [
             0,
             "#0d0887"
            ],
            [
             0.1111111111111111,
             "#46039f"
            ],
            [
             0.2222222222222222,
             "#7201a8"
            ],
            [
             0.3333333333333333,
             "#9c179e"
            ],
            [
             0.4444444444444444,
             "#bd3786"
            ],
            [
             0.5555555555555556,
             "#d8576b"
            ],
            [
             0.6666666666666666,
             "#ed7953"
            ],
            [
             0.7777777777777778,
             "#fb9f3a"
            ],
            [
             0.8888888888888888,
             "#fdca26"
            ],
            [
             1,
             "#f0f921"
            ]
           ]
          },
          "colorway": [
           "#636efa",
           "#EF553B",
           "#00cc96",
           "#ab63fa",
           "#FFA15A",
           "#19d3f3",
           "#FF6692",
           "#B6E880",
           "#FF97FF",
           "#FECB52"
          ],
          "font": {
           "color": "#2a3f5f"
          },
          "geo": {
           "bgcolor": "white",
           "lakecolor": "white",
           "landcolor": "#E5ECF6",
           "showlakes": true,
           "showland": true,
           "subunitcolor": "white"
          },
          "hoverlabel": {
           "align": "left"
          },
          "hovermode": "closest",
          "mapbox": {
           "style": "light"
          },
          "paper_bgcolor": "white",
          "plot_bgcolor": "#E5ECF6",
          "polar": {
           "angularaxis": {
            "gridcolor": "white",
            "linecolor": "white",
            "ticks": ""
           },
           "bgcolor": "#E5ECF6",
           "radialaxis": {
            "gridcolor": "white",
            "linecolor": "white",
            "ticks": ""
           }
          },
          "scene": {
           "xaxis": {
            "backgroundcolor": "#E5ECF6",
            "gridcolor": "white",
            "gridwidth": 2,
            "linecolor": "white",
            "showbackground": true,
            "ticks": "",
            "zerolinecolor": "white"
           },
           "yaxis": {
            "backgroundcolor": "#E5ECF6",
            "gridcolor": "white",
            "gridwidth": 2,
            "linecolor": "white",
            "showbackground": true,
            "ticks": "",
            "zerolinecolor": "white"
           },
           "zaxis": {
            "backgroundcolor": "#E5ECF6",
            "gridcolor": "white",
            "gridwidth": 2,
            "linecolor": "white",
            "showbackground": true,
            "ticks": "",
            "zerolinecolor": "white"
           }
          },
          "shapedefaults": {
           "line": {
            "color": "#2a3f5f"
           }
          },
          "ternary": {
           "aaxis": {
            "gridcolor": "white",
            "linecolor": "white",
            "ticks": ""
           },
           "baxis": {
            "gridcolor": "white",
            "linecolor": "white",
            "ticks": ""
           },
           "bgcolor": "#E5ECF6",
           "caxis": {
            "gridcolor": "white",
            "linecolor": "white",
            "ticks": ""
           }
          },
          "title": {
           "x": 0.05
          },
          "xaxis": {
           "automargin": true,
           "gridcolor": "white",
           "linecolor": "white",
           "ticks": "",
           "title": {
            "standoff": 15
           },
           "zerolinecolor": "white",
           "zerolinewidth": 2
          },
          "yaxis": {
           "automargin": true,
           "gridcolor": "white",
           "linecolor": "white",
           "ticks": "",
           "title": {
            "standoff": 15
           },
           "zerolinecolor": "white",
           "zerolinewidth": 2
          }
         }
        },
        "width": 800
       }
      }
     },
     "metadata": {}
    }
   ],
   "source": [
    "# Create a 3D-Scatter with the PCA data and the clusters\n",
    "fig = px.scatter_3d(\n",
    "    clustered_df,\n",
    "    x=\"PC 1\",\n",
    "    y=\"PC 2\",\n",
    "    z=\"PC 3\",\n",
    "    color=\"Class\",\n",
    "    width=800,\n",
    ")\n",
    "#fig.update_layout(legend=dict(x=0, y=1))\n",
    "fig.show()"
   ]
  },
  {
   "cell_type": "markdown",
   "metadata": {},
   "source": [
    "#### Table of Tradable Cryptocurrencies"
   ]
  },
  {
   "cell_type": "code",
   "execution_count": 78,
   "metadata": {},
   "outputs": [
    {
     "output_type": "display_data",
     "data": {},
     "metadata": {}
    },
    {
     "output_type": "execute_result",
     "data": {
      "text/html": "<div id='1430'>\n\n\n\n\n\n  <div class=\"bk-root\" id=\"93e65874-06e6-4932-973b-333558b9eefb\" data-root-id=\"1430\"></div>\n</div>\n<script type=\"application/javascript\">(function(root) {\n  function embed_document(root) {\n  var docs_json = {\"c42ed6da-e0fd-4eb2-8b1c-986c2dbe85c6\":{\"roots\":{\"references\":[{\"attributes\":{},\"id\":\"1450\",\"type\":\"StringEditor\"},{\"attributes\":{\"format\":\"0,0.0[00000]\"},\"id\":\"1454\",\"type\":\"NumberFormatter\"},{\"attributes\":{},\"id\":\"1434\",\"type\":\"StringFormatter\"},{\"attributes\":{\"editor\":{\"id\":\"1450\"},\"field\":\"TotalCoinSupply\",\"formatter\":{\"id\":\"1449\"},\"title\":\"TotalCoinSupply\"},\"id\":\"1451\",\"type\":\"TableColumn\"},{\"attributes\":{},\"id\":\"1455\",\"type\":\"NumberEditor\"},{\"attributes\":{},\"id\":\"1459\",\"type\":\"NumberFormatter\"},{\"attributes\":{\"editor\":{\"id\":\"1435\"},\"field\":\"CoinName\",\"formatter\":{\"id\":\"1434\"},\"title\":\"CoinName\"},\"id\":\"1436\",\"type\":\"TableColumn\"},{\"attributes\":{},\"id\":\"1460\",\"type\":\"IntEditor\"},{\"attributes\":{},\"id\":\"1440\",\"type\":\"StringEditor\"},{\"attributes\":{\"editor\":{\"id\":\"1455\"},\"field\":\"TotalCoinsMined\",\"formatter\":{\"id\":\"1454\"},\"title\":\"TotalCoinsMined\"},\"id\":\"1456\",\"type\":\"TableColumn\"},{\"attributes\":{},\"id\":\"1439\",\"type\":\"StringFormatter\"},{\"attributes\":{\"source\":{\"id\":\"1432\"}},\"id\":\"1465\",\"type\":\"CDSView\"},{\"attributes\":{\"columns\":[{\"id\":\"1436\"},{\"id\":\"1441\"},{\"id\":\"1446\"},{\"id\":\"1451\"},{\"id\":\"1456\"},{\"id\":\"1461\"}],\"height\":300,\"reorderable\":false,\"source\":{\"id\":\"1432\"},\"view\":{\"id\":\"1465\"},\"width\":700},\"id\":\"1464\",\"type\":\"DataTable\"},{\"attributes\":{},\"id\":\"1449\",\"type\":\"StringFormatter\"},{\"attributes\":{\"children\":[{\"id\":\"1431\"},{\"id\":\"1464\"},{\"id\":\"1468\"}],\"margin\":[0,0,0,0],\"name\":\"Row02359\",\"tags\":[\"embedded\"]},\"id\":\"1430\",\"type\":\"Row\"},{\"attributes\":{\"editor\":{\"id\":\"1460\"},\"field\":\"Class\",\"formatter\":{\"id\":\"1459\"},\"title\":\"Class\"},\"id\":\"1461\",\"type\":\"TableColumn\"},{\"attributes\":{\"margin\":[5,5,5,5],\"name\":\"HSpacer02363\",\"sizing_mode\":\"stretch_width\"},\"id\":\"1431\",\"type\":\"Spacer\"},{\"attributes\":{},\"id\":\"1445\",\"type\":\"StringEditor\"},{\"attributes\":{},\"id\":\"1444\",\"type\":\"StringFormatter\"},{\"attributes\":{},\"id\":\"1433\",\"type\":\"Selection\"},{\"attributes\":{\"editor\":{\"id\":\"1440\"},\"field\":\"Algorithm\",\"formatter\":{\"id\":\"1439\"},\"title\":\"Algorithm\"},\"id\":\"1441\",\"type\":\"TableColumn\"},{\"attributes\":{},\"id\":\"1435\",\"type\":\"StringEditor\"},{\"attributes\":{\"data\":{\"Algorithm\":[\"Scrypt\",\"Scrypt\",\"X13\",\"SHA-256\",\"Ethash\",\"Scrypt\",\"X11\",\"CryptoNight-V7\",\"Ethash\",\"Equihash\",\"SHA-512\",\"Multiple\",\"SHA-256\",\"SHA-256\",\"Scrypt\",\"X15\",\"X11\",\"Scrypt\",\"Scrypt\",\"Scrypt\",\"Multiple\",\"Scrypt\",\"SHA-256\",\"Scrypt\",\"Scrypt\",\"Scrypt\",\"Quark\",\"Groestl\",\"Scrypt\",\"Scrypt\",\"Scrypt\",\"Scrypt\",\"Scrypt\",\"X11\",\"Scrypt\",\"Groestl\",\"Multiple\",\"SHA-256\",\"Scrypt\",\"Scrypt\",\"Scrypt\",\"Scrypt\",\"PoS\",\"Scrypt\",\"Scrypt\",\"NeoScrypt\",\"Scrypt\",\"Scrypt\",\"Scrypt\",\"Scrypt\",\"X11\",\"Scrypt\",\"X11\",\"SHA-256\",\"Scrypt\",\"Scrypt\",\"Scrypt\",\"SHA3\",\"Scrypt\",\"HybridScryptHash256\",\"Scrypt\",\"Scrypt\",\"SHA-256\",\"Scrypt\",\"X13\",\"Scrypt\",\"SHA-256\",\"Scrypt\",\"X13\",\"NeoScrypt\",\"Scrypt\",\"Scrypt\",\"Scrypt\",\"Scrypt\",\"Scrypt\",\"Scrypt\",\"X11\",\"X11\",\"SHA-256\",\"Multiple\",\"SHA-256\",\"PHI1612\",\"X11\",\"SHA-256\",\"SHA-256\",\"SHA-256\",\"X11\",\"Scrypt\",\"Scrypt\",\"Scrypt\",\"Scrypt\",\"Lyra2REv2\",\"Scrypt\",\"X11\",\"Multiple\",\"SHA-256\",\"X13\",\"Scrypt\",\"CryptoNight\",\"CryptoNight\",\"Shabal256\",\"Counterparty\",\"Scrypt\",\"SHA-256\",\"Groestl\",\"Scrypt\",\"Scrypt\",\"Scrypt\",\"X13\",\"Scrypt\",\"Scrypt\",\"Scrypt\",\"Scrypt\",\"X13\",\"Scrypt\",\"Stanford Folding\",\"X11\",\"Multiple\",\"QuBit\",\"Scrypt\",\"Scrypt\",\"Scrypt\",\"M7 POW\",\"Scrypt\",\"SHA-256\",\"Scrypt\",\"X11\",\"SHA3\",\"X11\",\"Lyra2RE\",\"SHA-256\",\"QUAIT\",\"X11\",\"X11\",\"Scrypt\",\"Scrypt\",\"Scrypt\",\"Ethash\",\"X13\",\"Blake2b\",\"SHA-256\",\"X15\",\"X11\",\"SHA-256\",\"BLAKE256\",\"Scrypt\",\"1GB AES Pattern Search\",\"SHA-256\",\"X11\",\"Scrypt\",\"SHA-256\",\"SHA-256\",\"NIST5\",\"Scrypt\",\"Scrypt\",\"X11\",\"Dagger\",\"Scrypt\",\"X11GOST\",\"X11\",\"Scrypt\",\"SHA-256\",\"Scrypt\",\"PoS\",\"Scrypt\",\"X11\",\"X11\",\"SHA-256\",\"SHA-256\",\"NIST5\",\"X11\",\"Scrypt\",\"POS 3.0\",\"Scrypt\",\"Scrypt\",\"Scrypt\",\"X13\",\"X11\",\"X11\",\"Equihash\",\"X11\",\"Scrypt\",\"CryptoNight\",\"SHA-256\",\"SHA-256\",\"X11\",\"Scrypt\",\"Multiple\",\"Scrypt\",\"Scrypt\",\"Scrypt\",\"SHA-256\",\"Scrypt\",\"Scrypt\",\"SHA-256D\",\"PoS\",\"Scrypt\",\"X11\",\"Lyra2Z\",\"PoS\",\"X13\",\"X14\",\"PoS\",\"SHA-256D\",\"Ethash\",\"Equihash\",\"DPoS\",\"X11\",\"Scrypt\",\"X11\",\"X13\",\"X11\",\"PoS\",\"Scrypt\",\"Scrypt\",\"X11\",\"PoS\",\"X11\",\"SHA-256\",\"Scrypt\",\"X11\",\"Scrypt\",\"Scrypt\",\"X11\",\"CryptoNight\",\"Scrypt\",\"Scrypt\",\"Scrypt\",\"Scrypt\",\"Quark\",\"QuBit\",\"Scrypt\",\"CryptoNight\",\"Lyra2RE\",\"Scrypt\",\"SHA-256\",\"X11\",\"Scrypt\",\"X11\",\"Scrypt\",\"CryptoNight-V7\",\"Scrypt\",\"Scrypt\",\"Scrypt\",\"X13\",\"X11\",\"Equihash\",\"Scrypt\",\"Scrypt\",\"Lyra2RE\",\"Scrypt\",\"Dagger-Hashimoto\",\"X11\",\"Blake2S\",\"X11\",\"Scrypt\",\"PoS\",\"X11\",\"NIST5\",\"PoS\",\"X11\",\"Scrypt\",\"Scrypt\",\"Scrypt\",\"SHA-256\",\"X11\",\"Scrypt\",\"Scrypt\",\"SHA-256\",\"PoS\",\"Scrypt\",\"X15\",\"SHA-256\",\"Scrypt\",\"POS 3.0\",\"CryptoNight-V7\",\"536\",\"Argon2d\",\"Blake2b\",\"Cloverhash\",\"CryptoNight\",\"NIST5\",\"X11\",\"NIST5\",\"Skein\",\"Scrypt\",\"X13\",\"Scrypt\",\"X11\",\"X11\",\"Scrypt\",\"CryptoNight\",\"X13\",\"Time Travel\",\"Scrypt\",\"Keccak\",\"SkunkHash v2 Raptor\",\"X11\",\"Skein\",\"SHA-256\",\"X11\",\"Scrypt\",\"VeChainThor Authority\",\"Scrypt\",\"PoS\",\"Scrypt\",\"Scrypt\",\"Scrypt\",\"Scrypt\",\"Scrypt\",\"Scrypt\",\"Scrypt\",\"CryptoNight\",\"SHA-512\",\"Ouroboros\",\"X11\",\"Equihash\",\"NeoScrypt\",\"X11\",\"Scrypt\",\"NeoScrypt\",\"Lyra2REv2\",\"Equihash\",\"Scrypt\",\"SHA-256\",\"NIST5\",\"PHI1612\",\"Dagger\",\"Scrypt\",\"Quark\",\"Scrypt\",\"POS 2.0\",\"Scrypt\",\"SHA-256\",\"X11\",\"NeoScrypt\",\"Ethash\",\"NeoScrypt\",\"X11\",\"DPoS\",\"NIST5\",\"X13\",\"Multiple\",\"Scrypt\",\"CryptoNight\",\"CryptoNight\",\"Ethash\",\"NIST5\",\"Quark\",\"X11\",\"CryptoNight-V7\",\"Scrypt\",\"Scrypt\",\"Scrypt\",\"X11\",\"BLAKE256\",\"X11\",\"NeoScrypt\",\"Quark\",\"NeoScrypt\",\"Scrypt\",\"Scrypt\",\"Scrypt\",\"X11\",\"X11\",\"SHA-256\",\"C11\",\"POS 3.0\",\"Ethash\",\"Scrypt\",\"CryptoNight\",\"SkunkHash\",\"Scrypt\",\"CryptoNight\",\"Scrypt\",\"Dagger\",\"Lyra2REv2\",\"X13\",\"Proof-of-BibleHash\",\"SHA-256 + Hive\",\"Scrypt\",\"Scrypt\",\"X11\",\"C11\",\"Proof-of-Authority\",\"X11\",\"XEVAN\",\"Scrypt\",\"VBFT\",\"Ethash\",\"CryptoNight\",\"Scrypt\",\"IMesh\",\"NIST5\",\"Scrypt\",\"Scrypt\",\"Equihash\",\"Scrypt\",\"Lyra2Z\",\"Green Protocol\",\"PoS\",\"Scrypt\",\"Semux BFT consensus\",\"X11\",\"Quark\",\"PoS\",\"CryptoNight\",\"X16R\",\"Scrypt\",\"NIST5\",\"Lyra2RE\",\"XEVAN\",\"Tribus\",\"Scrypt\",\"Lyra2Z\",\"CryptoNight\",\"CryptoNight Heavy\",\"CryptoNight\",\"Scrypt\",\"Scrypt\",\"Jump Consistent Hash\",\"SHA-256D\",\"CryptoNight\",\"Scrypt\",\"X15\",\"Scrypt\",\"Quark\",\"SHA-256\",\"DPoS\",\"X16R\",\"HMQ1725\",\"X11\",\"X16R\",\"Quark\",\"Quark\",\"Scrypt\",\"Lyra2REv2\",\"Quark\",\"Scrypt\",\"Scrypt\",\"CryptoNight-V7\",\"Cryptonight-GPU\",\"XEVAN\",\"CryptoNight Heavy\",\"X11\",\"X11\",\"Scrypt\",\"PoS\",\"SHA-256\",\"Keccak\",\"X11\",\"X11\",\"Scrypt\",\"SHA-512\",\"X16R\",\"ECC 256K1\",\"Equihash\",\"XEVAN\",\"Lyra2Z\",\"SHA-256\",\"XEVAN\",\"X11\",\"CryptoNight\",\"Quark\",\"Blake\",\"Blake\",\"Equihash\",\"Exosis\",\"Scrypt\",\"Scrypt\",\"Equihash\",\"Quark\",\"Equihash\",\"Quark\",\"Scrypt\",\"QuBit\",\"X11\",\"Scrypt\",\"XEVAN\",\"SHA-256D\",\"X11\",\"SHA-256\",\"X13\",\"SHA-256\",\"X11\",\"DPoS\",\"Scrypt\",\"Scrypt\",\"X11\",\"NeoScrypt\",\"Scrypt\",\"Blake\",\"Scrypt\",\"SHA-256\",\"Scrypt\",\"X11\",\"Scrypt\",\"Scrypt\",\"SHA-256\",\"X11\",\"SHA-256\",\"Scrypt\",\"Scrypt\",\"Scrypt\",\"Groestl\",\"X11\",\"Scrypt\",\"PoS\",\"Scrypt\",\"Scrypt\",\"X11\",\"SHA-256\",\"DPoS\",\"Scrypt\",\"Scrypt\",\"NeoScrypt\",\"Multiple\",\"X13\",\"Equihash+Scrypt\",\"DPoS\",\"Ethash\",\"DPoS\",\"SHA-256\",\"Leased POS\",\"PoS\",\"TRC10\",\"PoS\",\"SHA-256\",\"Scrypt\",\"CryptoNight\",\"Equihash\",\"Scrypt\"],\"Class\":{\"__ndarray__\":\"AQAAAAEAAAAEAAAAAAAAAAAAAAAAAAAAAQAAAAAAAAAAAAAAAAAAAAEAAAAAAAAAAQAAAAEAAAAAAAAAAQAAAAAAAAAAAAAAAQAAAAEAAAAAAAAABAAAAAAAAAAAAAAAAAAAAAEAAAAAAAAAAAAAAAAAAAABAAAAAAAAAAEAAAAAAAAAAAAAAAEAAAABAAAAAAAAAAAAAAAAAAAAAAAAAAAAAAAAAAAAAQAAAAEAAAAAAAAAAAAAAAAAAAAAAAAAAAAAAAEAAAABAAAAAAAAAAEAAAAAAAAAAAAAAAAAAAAAAAAAAQAAAAAAAAAAAAAAAQAAAAAAAAABAAAAAQAAAAEAAAAAAAAAAAAAAAAAAAABAAAAAQAAAAEAAAABAAAAAQAAAAAAAAAAAAAAAAAAAAEAAAABAAAAAAAAAAEAAAAAAAAAAQAAAAEAAAAAAAAAAAAAAAAAAAAAAAAAAQAAAAEAAAAAAAAAAQAAAAAAAAAAAAAAAQAAAAEAAAAAAAAAAQAAAAEAAAAEAAAAAAAAAAEAAAABAAAAAAAAAAEAAAABAAAAAAAAAAEAAAAAAAAAAQAAAAAAAAABAAAAAAAAAAEAAAABAAAAAAAAAAAAAAABAAAAAAAAAAAAAAAAAAAAAQAAAAAAAAAAAAAAAAAAAAAAAAAAAAAAAQAAAAEAAAAAAAAAAAAAAAAAAAABAAAAAAAAAAEAAAAAAAAAAAAAAAEAAAAAAAAAAQAAAAAAAAABAAAAAQAAAAAAAAAAAAAAAQAAAAAAAAAAAAAAAQAAAAEAAAAAAAAAAQAAAAAAAAABAAAAAQAAAAEAAAAAAAAAAAAAAAAAAAAAAAAAAQAAAAEAAAABAAAAAQAAAAEAAAAAAAAAAAAAAAEAAAABAAAAAQAAAAEAAAABAAAAAAAAAAEAAAABAAAAAQAAAAEAAAABAAAAAAAAAAEAAAAAAAAAAQAAAAEAAAAAAAAAAQAAAAAAAAABAAAAAQAAAAAAAAABAAAAAAAAAAEAAAAAAAAAAQAAAAAAAAABAAAAAQAAAAEAAAABAAAAAAAAAAEAAAABAAAAAQAAAAEAAAABAAAAAAAAAAAAAAAEAAAAAQAAAAAAAAAAAAAAAQAAAAEAAAABAAAAAQAAAAEAAAAAAAAAAQAAAAEAAAABAAAAAQAAAAEAAAABAAAAAQAAAAEAAAAAAAAAAQAAAAEAAAABAAAAAQAAAAEAAAABAAAAAAAAAAAAAAAAAAAAAQAAAAEAAAABAAAAAQAAAAAAAAABAAAAAAAAAAEAAAABAAAAAAAAAAEAAAAAAAAAAAAAAAEAAAAAAAAAAAAAAAEAAAAAAAAAAQAAAAEAAAABAAAAAAAAAAEAAAABAAAAAAAAAAEAAAABAAAAAQAAAAEAAAABAAAAAQAAAAEAAAAAAAAAAQAAAAAAAAABAAAAAQAAAAEAAAABAAAAAAAAAAEAAAAAAAAAAQAAAAAAAAAAAAAAAAAAAAAAAAABAAAAAAAAAAEAAAABAAAAAAAAAAEAAAAAAAAAAAAAAAAAAAABAAAAAAAAAAEAAAAAAAAABAAAAAAAAAABAAAAAAAAAAEAAAAAAAAAAQAAAAEAAAADAAAAAAAAAAEAAAAAAAAAAAAAAAAAAAAAAAAAAAAAAAEAAAABAAAAAAAAAAEAAAABAAAAAQAAAAAAAAABAAAAAAAAAAEAAAAAAAAAAQAAAAAAAAABAAAAAQAAAAEAAAABAAAAAAAAAAEAAAABAAAAAAAAAAEAAAABAAAAAQAAAAAAAAAAAAAAAAAAAAAAAAABAAAABAAAAAEAAAABAAAAAAAAAAEAAAAAAAAAAAAAAAAAAAABAAAAAQAAAAAAAAAAAAAAAQAAAAEAAAAAAAAAAQAAAAAAAAAAAAAAAAAAAAEAAAAAAAAAAAAAAAEAAAABAAAAAQAAAAAAAAAAAAAAAAAAAAEAAAABAAAAAQAAAAQAAAAAAAAAAQAAAAAAAAAAAAAAAAAAAAAAAAABAAAAAwAAAAMAAAAAAAAAAAAAAAAAAAABAAAAAQAAAAEAAAABAAAAAQAAAAEAAAAAAAAAAAAAAAAAAAAAAAAAAQAAAAEAAAABAAAAAAAAAAEAAAAAAAAAAQAAAAEAAAABAAAABAAAAAAAAAABAAAAAQAAAAAAAAABAAAAAQAAAAAAAAAAAAAAAQAAAAAAAAABAAAAAAAAAAAAAAAAAAAAAAAAAAEAAAABAAAAAAAAAAEAAAAAAAAAAQAAAAEAAAAEAAAAAQAAAAEAAAABAAAAAAAAAAAAAAAAAAAAAQAAAAEAAAABAAAAAQAAAAEAAAABAAAAAAAAAAEAAAAAAAAAAAAAAAAAAAAEAAAAAQAAAAEAAAABAAAAAQAAAAAAAAABAAAAAQAAAAAAAAABAAAAAQAAAAAAAAAFAAAAAAAAAAEAAAAAAAAAAAAAAAEAAAABAAAAAAAAAAEAAAAAAAAAAAAAAAEAAAAAAAAAAAAAAAEAAAAAAAAAAQAAAAAAAAABAAAAAQAAAAAAAAABAAAAAQAAAAEAAAABAAAAAQAAAAAAAAAAAAAAAAAAAAEAAAAEAAAAAQAAAAAAAAABAAAAAAAAAAEAAAAAAAAAAQAAAAEAAAABAAAAAQAAAAAAAAABAAAAAQAAAAEAAAAAAAAAAQAAAAAAAAABAAAAAAAAAAEAAAABAAAAAQAAAAAAAAAAAAAAAQAAAAEAAAAEAAAAAQAAAAEAAAABAAAAAAAAAAEAAAAAAAAABAAAAAAAAAAEAAAAAQAAAAMAAAABAAAAAgAAAAEAAAAEAAAAAQAAAAAAAAAAAAAAAQAAAA==\",\"dtype\":\"int32\",\"shape\":[532]},\"CoinName\":[\"42 Coin\",\"404Coin\",\"EliteCoin\",\"Bitcoin\",\"Ethereum\",\"Litecoin\",\"Dash\",\"Monero\",\"Ethereum Classic\",\"ZCash\",\"Bitshares\",\"DigiByte\",\"BitcoinDark\",\"PayCoin\",\"ProsperCoin\",\"KoboCoin\",\"Spreadcoin\",\"Argentum\",\"Aurora Coin\",\"BlueCoin\",\"MyriadCoin\",\"MoonCoin\",\"ZetaCoin\",\"SexCoin\",\"Quatloo\",\"EnergyCoin\",\"QuarkCoin\",\"Riecoin\",\"Digitalcoin \",\"BitBar\",\"Catcoin\",\"CryptoBullion\",\"CannaCoin\",\"CryptCoin\",\"CasinoCoin\",\"Diamond\",\"Verge\",\"DevCoin\",\"EarthCoin\",\"E-Gulden\",\"Einsteinium\",\"Emerald\",\"Exclusive Coin\",\"FlutterCoin\",\"Franko\",\"FeatherCoin\",\"GrandCoin\",\"GlobalCoin\",\"GoldCoin\",\"HoboNickels\",\"HyperStake\",\"Infinite Coin\",\"IOCoin\",\"IXcoin\",\"KrugerCoin\",\"LuckyCoin\",\"Litebar \",\"MaxCoin\",\"MegaCoin\",\"MediterraneanCoin\",\"MintCoin\",\"MinCoin\",\"MazaCoin\",\"Nautilus Coin\",\"NavCoin\",\"NobleCoin\",\"Namecoin\",\"NyanCoin\",\"OpalCoin\",\"Orbitcoin\",\"PotCoin\",\"PhoenixCoin\",\"Reddcoin\",\"RonPaulCoin\",\"StableCoin\",\"SmartCoin\",\"SuperCoin\",\"SyncCoin\",\"SysCoin\",\"TeslaCoin\",\"TigerCoin\",\"TittieCoin\",\"TorCoin\",\"TerraCoin\",\"UnbreakableCoin\",\"Unobtanium\",\"UroCoin\",\"UnitaryStatus Dollar\",\"UltraCoin\",\"ViaCoin\",\"VeriCoin\",\"Vertcoin\",\"WorldCoin\",\"X11 Coin\",\"Crypti\",\"JouleCoin\",\"StealthCoin\",\"ZCC Coin\",\"ByteCoin\",\"DigitalNote \",\"BurstCoin\",\"StorjCoin\",\"MonaCoin\",\"Neutron\",\"FairCoin\",\"Gulden\",\"RubyCoin\",\"PesetaCoin\",\"Kore\",\"Wild Beast Coin\",\"Dnotes\",\"Flo\",\"8BIT Coin\",\"Sativa Coin\",\"ArtByte\",\"Folding Coin\",\"Ucoin\",\"Unitus\",\"CypherPunkCoin\",\"OmniCron\",\"Vtorrent\",\"GreenCoin\",\"Cryptonite\",\"MasterCoin\",\"SoonCoin\",\"1Credit\",\"IslaCoin\",\"Nexus\",\"MarsCoin \",\"Crypto\",\"Anarchists Prime\",\"Droidz\",\"BowsCoin\",\"Squall Coin\",\"Song Coin\",\"BitZeny\",\"Diggits\",\"Expanse\",\"Paycon\",\"Siacoin\",\"Emercoin\",\"EverGreenCoin\",\"MindCoin\",\"I0coin\",\"Decred\",\"Revolution VR\",\"HOdlcoin\",\"EDRCoin\",\"Hitcoin\",\"Gamecredits\",\"DubaiCoin\",\"CarpeDiemCoin\",\"PWR Coin\",\"BillaryCoin\",\"GPU Coin\",\"Adzcoin\",\"SoilCoin\",\"YoCoin\",\"SibCoin\",\"EuropeCoin\",\"ZeitCoin\",\"SwingCoin\",\"SafeExchangeCoin\",\"Nebuchadnezzar\",\"Francs\",\"BolivarCoin\",\"Ratecoin\",\"Revenu\",\"Clockcoin\",\"VIP Tokens\",\"BitSend\",\"Omni\",\"Let it Ride\",\"PutinCoin\",\"iBankCoin\",\"Frankywillcoin\",\"MudraCoin\",\"PizzaCoin\",\"Lutetium Coin\",\"Komodo\",\"GoldBlocks\",\"CarterCoin\",\"Karbo\",\"BitTokens\",\"ZayedCoin\",\"MustangCoin\",\"ZoneCoin\",\"Circuits of Value\",\"RootCoin\",\"DopeCoin\",\"BitCurrency\",\"DollarCoin\",\"Swiscoin\",\"Shilling\",\"BuzzCoin\",\"Opair\",\"PesoBit\",\"Halloween Coin\",\"ZCoin\",\"CoffeeCoin\",\"RoyalCoin\",\"GanjaCoin V2\",\"TeamUP\",\"LanaCoin\",\"Elementrem\",\"ZClassic\",\"ARK\",\"InsaneCoin\",\"KiloCoin\",\"ArtexCoin\",\"EmberCoin\",\"XenixCoin\",\"FreeCoin\",\"PLNCoin\",\"AquariusCoin\",\"Kurrent\",\"Creatio\",\"Eternity\",\"Eurocoin\",\"BitcoinFast\",\"Stakenet\",\"BitConnect Coin\",\"MoneyCoin\",\"Enigma\",\"Cannabis Industry Coin\",\"Russiacoin\",\"PandaCoin\",\"GameUnits\",\"GAKHcoin\",\"Allsafe\",\"LiteCreed\",\"OsmiumCoin\",\"Bikercoins\",\"HexxCoin\",\"Klingon Empire Darsek\",\"Internet of People\",\"KushCoin\",\"Printerium\",\"PacCoin\",\"Impeach\",\"Citadel\",\"Zilbercoin\",\"FirstCoin\",\"BeaverCoin\",\"FindCoin\",\"VaultCoin\",\"Zero\",\"OpenChat\",\"Canada eCoin\",\"Zoin\",\"RenosCoin\",\"DubaiCoin\",\"VirtacoinPlus\",\"TajCoin\",\"Impact\",\"EB3coin\",\"Atmos\",\"HappyCoin\",\"Coinonat\",\"MacronCoin\",\"Condensate\",\"Independent Money System\",\"ArgusCoin\",\"LomoCoin\",\"ProCurrency\",\"GoldReserve\",\"BenjiRolls\",\"GrowthCoin\",\"ILCoin\",\"Phreak\",\"Degas Coin\",\"HTML5 Coin\",\"Ultimate Secure Cash\",\"EquiTrader\",\"QTUM\",\"Quantum Resistant Ledger\",\"Espers\",\"Dynamic\",\"Nano\",\"ChanCoin\",\"Dinastycoin\",\"Denarius\",\"DigitalPrice\",\"Virta Unique Coin\",\"Bitcoin Planet\",\"Unify\",\"BritCoin\",\"SocialCoin\",\"ArcticCoin\",\"DAS\",\"Linda\",\"LeviarCoin\",\"DeepOnion\",\"Bitcore\",\"gCn Coin\",\"SmartCash\",\"Signatum\",\"Onix\",\"Cream\",\"Bitcoin Cash\",\"Monoeci\",\"Draftcoin\",\"Vechain\",\"Sojourn Coin\",\"Stakecoin\",\"NewYorkCoin\",\"FrazCoin\",\"Kronecoin\",\"AdCoin\",\"Linx\",\"CoinonatX\",\"Ethereum Dark\",\"Sumokoin\",\"Obsidian\",\"Cardano\",\"Regalcoin\",\"BitcoinZ\",\"TrezarCoin\",\"Elements\",\"TerraNovaCoin\",\"VIVO Coin\",\"Rupee\",\"Bitcoin Gold\",\"WomenCoin\",\"Theresa May Coin\",\"NamoCoin\",\"LUXCoin\",\"Pirl\",\"Xios\",\"Bitcloud 2.0\",\"eBoost\",\"KekCoin\",\"BlackholeCoin\",\"Infinity Economics\",\"Pura\",\"Innova\",\"Ellaism\",\"GoByte\",\"Magnet\",\"Lamden Tau\",\"Electra\",\"Bitcoin Diamond\",\"SHIELD\",\"Cash & Back Coin\",\"UltraNote\",\"BitCoal\",\"DaxxCoin\",\"Bulwark\",\"Kalkulus\",\"AC3\",\"Lethean\",\"GermanCoin\",\"LiteCoin Ultra\",\"PopularCoin\",\"PhantomX\",\"Photon\",\"Sucre\",\"SparksPay\",\"Digiwage\",\"GunCoin\",\"IrishCoin\",\"Trollcoin\",\"Litecoin Plus\",\"Monkey Project\",\"Pioneer Coin\",\"UnitedBitcoin\",\"Interzone\",\"TokenPay\",\"1717 Masonic Commemorative Token\",\"My Big Coin\",\"TurtleCoin\",\"MUNcoin\",\"Unified Society USDEX\",\"Niobio Cash\",\"ShareChain\",\"Travelflex\",\"KREDS\",\"Tokyo Coin\",\"BiblePay\",\"LitecoinCash\",\"BitFlip\",\"LottoCoin\",\"Crypto Improvement Fund\",\"Stipend\",\"Poa Network\",\"Pushi\",\"Ellerium\",\"Velox\",\"Ontology\",\"Callisto Network\",\"BitTube\",\"Poseidon\",\"Aidos Kuneen\",\"Bitspace\",\"Briacoin\",\"Ignition\",\"Bitrolium\",\"MedicCoin\",\"Alpenschillling\",\"Bitcoin Green\",\"Deviant Coin\",\"Abjcoin\",\"Semux\",\"FuturoCoin\",\"Carebit\",\"Zealium\",\"Monero Classic\",\"Proton\",\"iDealCash\",\"Jumpcoin\",\"Infinex\",\"Bitcoin Incognito\",\"KEYCO\",\"HollyWoodCoin\",\"GINcoin\",\"PlatinCoin\",\"Loki\",\"Newton Coin\",\"Swisscoin\",\"Xt3ch\",\"MassGrid\",\"TheVig\",\"PluraCoin\",\"EmaratCoin\",\"Dekado\",\"Lynx\",\"Poseidon Quark\",\"BitcoinWSpectrum\",\"Muse\",\"Motion\",\"PlusOneCoin\",\"Axe\",\"Trivechain\",\"Dystem\",\"Giant\",\"Peony Coin\",\"Absolute Coin\",\"Vitae\",\"HexCoin\",\"TPCash\",\"Webchain\",\"Ryo\",\"Urals Coin\",\"Qwertycoin\",\"ARENON\",\"EUNO\",\"MMOCoin\",\"Ketan\",\"Project Pai\",\"XDNA\",\"PAXEX\",\"Azart\",\"ThunderStake\",\"Kcash\",\"Xchange\",\"Acute Angle Cloud\",\"CrypticCoin\",\"Bettex coin\",\"Actinium\",\"Bitcoin SV\",\"BitMoney\",\"Junson Ming Chan Coin\",\"FREDEnergy\",\"HerbCoin\",\"Universal Molecule\",\"Lithium\",\"PirateCash\",\"Exosis\",\"Block-Logic\",\"Oduwa\",\"Beam\",\"Galilel\",\"Bithereum\",\"Crypto Sports\",\"Credit\",\"SLICE\",\"Dash Platinum\",\"Nasdacoin\",\"Beetle Coin\",\"Titan Coin\",\"Award\",\"BLAST\",\"Bitcoin Rhodium\",\"GlobalToken\",\"Insane Coin\",\"ALAX\",\"LiteDoge\",\"SolarCoin\",\"TruckCoin\",\"UFO Coin\",\"OrangeCoin\",\"BlakeCoin\",\"BitstarCoin\",\"NeosCoin\",\"HyperCoin\",\"PinkCoin\",\"Crypto Escudo\",\"AudioCoin\",\"IncaKoin\",\"Piggy Coin\",\"Crown Coin\",\"Genstake\",\"SmileyCoin\",\"XiaoMiCoin\",\"Groestlcoin\",\"CapriCoin\",\" ClubCoin\",\"Radium\",\"Bata\",\"Pakcoin\",\"Creditbit \",\"OKCash\",\"Lisk\",\"HiCoin\",\"WhiteCoin\",\"FriendshipCoin\",\"JoinCoin\",\"Triangles Coin\",\"Vollar\",\"EOS\",\"Reality Clash\",\"Oxycoin\",\"TigerCash\",\"Waves\",\"Particl\",\"BitTorrent\",\"Nxt\",\"ZEPHYR\",\"Gapcoin\",\"Beldex\",\"Horizen\",\"BitcoinPlus\"],\"ProofType\":[\"PoW/PoS\",\"PoW/PoS\",\"PoW/PoS\",\"PoW\",\"PoW\",\"PoW\",\"PoW/PoS\",\"PoW\",\"PoW\",\"PoW\",\"PoS\",\"PoW\",\"PoW/PoS\",\"PoS\",\"PoW\",\"PoW/PoS\",\"PoW\",\"PoW\",\"PoW/PoS\",\"PoW/PoS\",\"PoW\",\"PoW\",\"PoW\",\"PoW\",\"PoW\",\"PoW/PoS\",\"PoW\",\"PoW\",\"PoW\",\"PoW/PoS\",\"PoW\",\"PoW/PoS\",\"PoW\",\"PoW\",\"PoC\",\"PoW/PoS\",\"PoW\",\"PoW\",\"PoW\",\"PoW\",\"PoW\",\"PoW\",\"PoS\",\"PoS/PoW/PoT\",\"PoW\",\"PoW\",\"PoW\",\"PoW\",\"PoW\",\"PoW/PoS\",\"PoS\",\"PoW\",\"PoW/PoS\",\"PoW\",\"PoW\",\"PoW\",\"PoW\",\"PoW/PoS\",\"PoW\",\"PoW\",\"PoS\",\"PoW\",\"PoW/PoS\",\"PoS\",\"PoW/PoS\",\"PoW\",\"PoW\",\"PoW\",\"PoW/PoS\",\"PoW/PoS\",\"PoW/PoS\",\"PoW/PoS\",\"PoW/PoS\",\"PoW\",\"PoW\",\"PoW\",\"PoS\",\"PoW/PoS\",\"PoW\",\"PoS\",\"PoW\",\"PoS\",\"PoW/PoS\",\"PoW\",\"PoW\",\"PoW\",\"PoW\",\"PoW/PoS\",\"PoW/PoS\",\"PoW\",\"PoST\",\"PoW\",\"PoW\",\"PoW/PoS\",\"PoS\",\"PoW\",\"PoW/PoS\",\"PoW/PoS\",\"PoW\",\"PoW\",\"PoC\",\"PoS\",\"PoW\",\"PoW/PoS\",\"PoW/PoS\",\"PoW\",\"PoS\",\"PoW\",\"PoW/PoS\",\"PoW\",\"PoS\",\"PoW\",\"PoW/PoS\",\"PoW/PoS\",\"PoW\",\"PoW\",\"PoS\",\"PoW\",\"PoW\",\"PoW\",\"PoW/PoS\",\"PoW\",\"PoW\",\"PoW\",\"PoW\",\"PoW\",\"PoW/PoS\",\"PoW/nPoS\",\"PoW\",\"PoW\",\"PoW\",\"PoW/PoS\",\"PoW\",\"PoS/PoW\",\"PoW\",\"PoW\",\"PoS\",\"PoW\",\"PoW/PoS\",\"PoW\",\"PoW/PoS\",\"PoW/PoS\",\"PoW\",\"PoW\",\"PoW/PoS\",\"PoW\",\"PoW\",\"PoW/PoS\",\"PoW/PoS\",\"PoW\",\"PoW/PoS\",\"PoW\",\"PoW/PoS\",\"PoW/PoS\",\"PoS\",\"PoW\",\"PoW\",\"PoW\",\"PoW\",\"PoW/PoS\",\"PoS\",\"PoW/PoS\",\"PoC\",\"PoS\",\"PoW\",\"PoW\",\"PoW/PoS\",\"PoW/PoS\",\"PoW/PoS\",\"PoW/PoS\",\"PoW/PoS\",\"PoW\",\"PoS\",\"PoW/PoS\",\"PoW/PoS\",\"PoW/PoS\",\"PoS\",\"PoW\",\"PoS\",\"dPoW/PoW\",\"PoW/PoS\",\"PoW/PoS\",\"PoW\",\"PoW/PoS\",\"PoW\",\"PoW/PoS\",\"PoW/PoS\",\"PoW\",\"PoW/PoS\",\"PoW\",\"PoS\",\"PoW\",\"PoW/PoW\",\"PoW\",\"PoW/PoS\",\"PoS\",\"PoW/PoS\",\"PoW/PoS\",\"PoW\",\"PoS\",\"PoS\",\"PoW/PoS\",\"PoS\",\"PoW/PoS\",\"PoW\",\"PoW\",\"DPoS\",\"PoW/PoS\",\"PoW\",\"PoW\",\"PoW/PoS\",\"PoW/PoS\",\"PoS\",\"PoW/PoS\",\"PoW/PoS\",\"PoW\",\"PoS\",\"PoW/PoS\",\"PoW/PoS\",\"PoW/PoS\",\"TPoS\",\"PoW/PoS\",\"PoW/PoS\",\"PoW/PoS\",\"PoW\",\"PoW/PoS\",\"PoS\",\"PoW/PoS\",\"PoW/PoS\",\"PoS\",\"PoW/PoS\",\"PoW\",\"PoW\",\"PoW\",\"PoW/PoS\",\"PoW/PoS\",\"PoW/PoS\",\"PoW/PoS\",\"PoW\",\"PoW/PoS\",\"PoW\",\"PoS\",\"PoW/PoS \",\"PoW\",\"PoS\",\"PoW\",\"PoW\",\"PoW/PoS\",\"PoW\",\"PoW\",\"PoS\",\"PoW\",\"PoW/PoS\",\"PoW/PoS\",\"PoW/PoS\",\"PoW\",\"PoS\",\"PoW/PoS\",\"PoW\",\"PoS\",\"PoW/PoS\",\"PoW/PoS\",\"PoW/PoS\",\"PoW/PoS\",\"PoS\",\"PoW/PoS\",\"PoW\",\"PoS\",\"PoW\",\"PoS\",\"PoW/PoS\",\"PoW/PoS\",\"PoS\",\"PoW\",\"PoS\",\"PoW\",\"PoW/PoS\",\"PoW\",\"PoW\",\"PoW\",\"PoW\",\"PoW/PoS\",\"PoW\",\"PoW/PoS\",\"PoW/PoS\",\"PoW\",\"PoW/PoS\",\"PoW\",\"PoW\",\"PoW\",\"PoW/PoS\",\"PoW\",\"PoW/PoS\",\"PoW\",\"PoW\",\"PoW\",\"PoS\",\"PoW\",\"PoW/PoS\",\"PoW\",\"PoW/PoS\",\"PoS\",\"Proof of Authority\",\"PoW\",\"PoS\",\"PoW\",\"PoW\",\"PoW\",\"PoW\",\"PoW\",\"PoW/PoS\",\"PoW/PoS\",\"PoW\",\"PoS\",\"PoS\",\"PoW/PoS\",\"PoW\",\"PoW/PoS\",\"PoW\",\"PoW/PoS\",\"PoW\",\"PoS\",\"PoW\",\"PoW/PoS\",\"PoW/PoS\",\"PoW/PoS\",\"PoW/PoS\",\"PoW\",\"PoW/PoS\",\"PoW/PoS\",\"PoW\",\"PoS\",\"PoW/PoS\",\"PoS\",\"PoW\",\"PoW\",\"PoW\",\"PoW\",\"PoW/PoS\",\"DPoS\",\"PoW/PoS\",\"PoW/PoS\",\"PoW\",\"PoW/PoS\",\"PoW\",\"PoW\",\"PoW\",\"PoS\",\"PoS\",\"PoW\",\"PoW\",\"PoW/PoS\",\"PoW/PoS\",\"PoW\",\"PoW/PoS\",\"PoW\",\"PoW\",\"PoW\",\"PoS\",\"PoW\",\"PoW\",\"PoW/PoS\",\"PoW/PoS\",\"PoS\",\"PoW\",\"PoW\",\"PoW\",\"PoS\",\"PoS\",\"PoW and PoS\",\"PoW\",\"PoW\",\"PoW/PoS\",\"PoW\",\"PoW\",\"PoW\",\"PoW\",\"PoS\",\"POBh\",\"PoW + Hive\",\"PoW\",\"PoW\",\"PoW\",\"PoW/PoS\",\"PoA\",\"PoW/PoS\",\"PoW/PoS\",\"PoS\",\"PoS\",\"PoW\",\"PoW\",\"PoW\",\"PoW\",\"PoW/PoS\",\"PoW/PoS\",\"PoW/PoS\",\"PoW\",\"PoS\",\"PoW\",\"PoS\",\"PoS\",\"PoW/PoS\",\"DPoS\",\"PoW\",\"PoW/PoS\",\"PoS\",\"PoW\",\"PoS\",\"PoW/PoS\",\"PoW\",\"PoW\",\"PoS/PoW\",\"PoW\",\"PoS\",\"PoW\",\"PoW\",\"PoW\",\"PoW\",\"PoW/PoS\",\"PoS\",\"PoW\",\"PoW/PoS\",\"PoW\",\"PoW/PoS\",\"PoS\",\"HPoW\",\"PoS\",\"PoS\",\"PoS\",\"PoW\",\"PoW\",\"PoW\",\"PoW/PoS\",\"PoS\",\"PoW/PoS\",\"PoS\",\"PoW/PoS\",\"PoS\",\"PoW\",\"PoW/PoS\",\"PoW\",\"PoW\",\"PoW\",\"PoW\",\"PoS\",\"PoW/PoS\",\"PoS\",\"PoS\",\"PoW\",\"PoW/PoS\",\"PoS\",\"PoW\",\"PoW/PoS\",\"Zero-Knowledge Proof\",\"PoW\",\"DPOS\",\"PoW\",\"PoS\",\"PoW\",\"PoW\",\"Pos\",\"PoS\",\"PoW\",\"PoW/PoS\",\"PoW\",\"PoW\",\"PoS\",\"PoW\",\"PoW\",\"PoW/PoS\",\"PoW\",\"PoW/PoS\",\"PoW\",\"PoS\",\"PoW/PoS\",\"PoW\",\"PoS\",\"PoW/PoS\",\"PoW/PoS\",\"PoW/PoS\",\"PoW/PoS\",\"PoW\",\"PoW\",\"PoW\",\"PoW/PoS\",\"DPoS\",\"PoW/PoS\",\"PoW\",\"PoW/PoS\",\"PoW\",\"PoW/PoS\",\"PoW\",\"PoW/PoS\",\"PoS\",\"PoW/PoS\",\"PoW/PoS\",\"PoW\",\"PoW/PoS\",\"PoW/PoS\",\"PoW/PoS\",\"PoW\",\"PoW/PoS\",\"PoW\",\"PoW/PoS\",\"PoW\",\"PoW/PoS\",\"PoW/PoS\",\"PoS\",\"PoW\",\"PoW\",\"Proof of Trust\",\"PoW/PoS\",\"DPoS\",\"PoS\",\"PoW/PoS\",\"PoW/PoS\",\"PoW\",\"PoW/PoS\",\"PoW\",\"DPoS\",\"PoW\",\"DPoS\",\"PoS\",\"LPoS\",\"PoS\",\"DPoS\",\"PoS/LPoS\",\"DPoS\",\"PoW/PoS\",\"PoW\",\"PoW\",\"PoS\"],\"TotalCoinSupply\":[\"42\",\"532000000\",\"314159265359\",\"21000000\",\"0\",\"84000000\",\"22000000\",\"0\",\"210000000\",\"21000000\",\"3600570502\",\"21000000000\",\"22000000\",\"12500000\",\"21000000\",\"350000000\",\"20000000\",\"64000000\",\"16768584\",\"0\",\"2000000000\",\"384000000000\",\"169795588\",\"250000000\",\"100000000\",\"0\",\"247000000\",\"84000000\",\"48166000\",\"500000\",\"21000000 \",\"1000000\",\"13140000\",\"18000000\",\"40000000000\",\"4380000\",\"16555000000\",\"21000000000\",\"13500000000\",\"21000000 \",\"299792458\",\"32000000\",\"0\",\"0\",\"11235813\",\"336000000\",\"1420609614\",\"70000000\",\"72245700\",\"120000000\",\"0\",\"90600000000\",\"22000000\",\"21000000\",\"265420800\",\"20000000\",\"1350000\",\"100000000\",\"42000000\",\"200000000\",\"0\",\"10000000\",\"2419200000\",\"16180000\",\"0\",\"15000000000\",\"21000000\",\"337000000\",\"0\",\"3770000\",\"420000000\",\"98000000\",\"0\",\"21000000\",\"250000000\",\"51200000\",\"0\",\"1000\",\"888000000\",\"100000000\",\"47011968\",\"2300000000\",\"10000000\",\"42000000\",\"80000000\",\"250000\",\"0\",\"1600000000\",\"100000000\",\"23000000\",\"0\",\"84000000\",\"265420800\",\"5500000\",\"0\",\"45000000\",\"0\",\"1000000000\",\"184467440735\",\"10000000000\",\"2158812800\",\"500000000\",\"105120000\",\"68000000\",\"0\",\"1680000000\",\"0\",\"166386000\",\"12000000\",\"2628000\",\"500000000\",\"160000000\",\"0\",\"10000000\",\"1000000000\",\"1000000000\",\"20000000\",\"0\",\"0\",\"3371337\",\"20000000\",\"10000000000\",\"1840000000\",\"619478\",\"21000000\",\"92000000000\",\"0\",\"78000000\",\"33000000\",\"65789100\",\"53760000\",\"5060000\",\"21000000\",\"0\",\"210240000\",\"250000000\",\"100000000\",\"16906397\",\"50000000\",\"0\",\"1000000000\",\"26298000\",\"16000000\",\"21000000\",\"21000000\",\"210000000\",\"81962100\",\"22000000\",\"26550000000\",\"84000000\",\"10500000\",\"21626280000 \",\"0\",\"42000000\",\"221052632\",\"84000000\",\"30000000\",\"168351300\",\"24000000\",\"384000000\",\" 99000000000\",\"40000000\",\"2147483647\",\"20000000\",\"20000000\",\"25000000\",\"75000000\",\"222725000\",\"525000000\",\"90000000\",\"139000000\",\"616448\",\"33500000\",\"2000000000\",\"44333333\",\"100000000\",\"200000000\",\"25000000\",\"657000000\",\"200000000\",\"50000000\",\"90000000\",\"10000000\",\"21000000\",\"9736000\",\"3000000\",\"21000000\",\"1200000000\",\"0\",\"200000000\",\"0\",\"10638298\",\"3100000000\",\"30000000\",\"20000000000\",\"74000000\",\"0\",\"1500000000\",\"21400000\",\"39999898\",\"2500124\",\"100000000\",\"301000000\",\"7506000000\",\"26205539\",\"21000000\",\"125000000\",\"30000000\",\"10000000000\",\"500000000\",\"850000000\",\"3853326.77707314\",\"50000000\",\"38540000 \",\"42000000\",\"228000000\",\"20000000\",\"60000000\",\"20000000\",\"33000000\",\"76500000\",\"28000000\",\"650659833\",\"5000000\",\"21000000\",\"144000000\",\"32514916898\",\"13000000\",\"3315789\",\"15000000\",\"78835200\",\"2714286\",\"25000000\",\"9999999\",\"500000000\",\"21000000\",\"9354000\",\"20000000\",\"100000000000\",\"21933333\",\"185000000\",\"55000000\",\"110000000\",\"3360000\",\"14524851.4827\",\"1000000000\",\"17000000\",\"1000000000\",\"100000000 \",\"21000000\",\"34426423\",\"2232901\",\"100000000\",\"36900000\",\"110000000\",\"4000000000\",\"110290030\",\"100000000\",\"48252000\",\"400000000\",\"500000000\",\"21212121\",\"28600000\",\"1000000000\",\"75000000000\",\"40000000\",\"35520400\",\"2000000000\",\"2500000000\",\"30000000\",\"105000000\",\"90000000000\",\"200084200\",\"72000000\",\"100000000\",\"105000000\",\"50000000000\",\"0\",\"340282367\",\"30000000\",\"2000000000\",\"10000000\",\"100000000\",\"120000000\",\"100000000\",\"19276800\",\"30000000\",\" 75000000\",\"60000000\",\"18900000\",\"50000000000\",\"54000000\",\"18898187.6216583\",\"21000000\",\"200000000000\",\"5000000000\",\"137500000\",\"1100000000\",\"100000000\",\"21000000\",\"9507271\",\"17405891.19707116\",\"86712634466\",\"10500000000\",\"61599965\",\"0\",\"20000000\",\"84000000\",\"100000000\",\"100000000\",\"48252000\",\"4200000\",\"88888888\",\"91388946\",\"45000000000\",\"27000000\",\"21000000000\",\"400000000\",\"1800000000\",\"15733333\",\"27000000\",\"24000000\",\"21000000\",\"25000000000\",\"100000000\",\"1200000000\",\"60000000\",\"156306732.71\",\"21000000\",\"200000000\",\"100000000\",\"21000000\",\"14788275.991\",\"9000000000\",\"350000000\",\"45000000\",\"280000000\",\"31800000\",\"144000000\",\"500000000\",\"30000000000\",\"210000000\",\"660000000\",\"210000000\",\"85000000000\",\"12500000\",\"10000000000\",\"27716121\",\"20000000\",\"550000000\",\"999481516\",\"50000000000\",\"150000000\",\"4999999999\",\"50000000\",\" 90000000000\",\"19800000\",\"21000000\",\"120000000\",\"500000000\",\"64000000\",\"900000000\",\"4000000\",\"21000000\",\"23000000\",\"20166000\",\"23000000\",\"25000000\",\"1618033\",\"30000000\",\"1000000000000\",\"16600000\",\"232000000\",\"336000000\",\"10000000000\",\"100000000\",\"1100000000\",\"800000000\",\"5200000000\",\"840000000\",\"40000000\",\"18406979840\",\"500000000\",\"19340594\",\"252460800\",\"25000000\",\"60000000\",\"124000000\",\"1000000000\",\"6500000000\",\"1000000000\",\"21000000\",\"25000000\",\"50000000\",\"3000000\",\"5000000\",\"70000000\",\"500000000\",\"300000000\",\"21000000\",\"88000000\",\"30000000\",\"100000000\",\"100000000\",\"200000000\",\"80000000\",\"18400000\",\"45000000\",\"5121951220\",\"21000000\",\"26280000\",\"21000000\",\"18000000\",\"26000000\",\"10500000\",\"600000518\",\"150000000\",\"184000000000\",\"10200000000\",\"44000000\",\"168000000\",\"100000000\",\"1000000000\",\"84000000\",\"90000000\",\"92000000000\",\"650000000 \",\"100262205\",\"18081806 \",\"22075700\",\"21000000\",\"21000000\",\"82546564\",\"21000000\",\"5151000\",\"16880000000\",\"52500000\",\"100000000\",\"22105263\",\"1000000000\",\"1750000000\",\"88188888\",\"210000000\",\"184470000000\",\"55000000\",\"50000000\",\"260000000\",\"210000000\",\"2100000000\",\"366000000\",\"100000000\",\"25000000\",\"18000000000\",\"1000000000\",\"100000000\",\"1000000000\",\"7600000000\",\"50000000\",\"84000000\",\"21000000\",\"70000000000\",\"0\",\"8080000000\",\"54000000\",\"105120001.44\",\"25228800\",\"105000000\",\"21000000\",\"120000000\",\"21000000\",\"262800000\",\"19035999\",\"30886000\",\"13370000\",\"74800000000\",\"100000000\",\"19700000\",\"84000000\",\"500000000\",\"5000000000\",\"420000000\",\"64000000\",\"2100000\",\"168000000\",\"30000000\",\"1000000000\",\"35000000000\",\"98100000000\",\"0\",\"4000000000\",\"200000000\",\"7000000000\",\"54256119\",\"21000000\",\"0\",\"500000000\",\"1000000000\",\"10500000000\",\"190000000\",\"1000000000\",\"42000000\",\"15000000\",\"50000000000\",\"400000000\",\"105000000\",\"208000000\",\"160000000\",\"9000000\",\"5000000\",\"182000000\",\"16504333\",\"105000000\",\"159918400\",\"10008835635\",\"300000000\",\"60168145\",\"2800000\",\"120000\",\"2100000000\",\"0\",\"24487944\",\"0\",\"1000000000\",\"100000000\",\"8634140\",\"990000000000\",\"1000000000\",\"2000000000\",\"250000000\",\"1400222610\",\"21000000\",\"1000000\"],\"TotalCoinsMined\":{\"__ndarray__\":\"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\",\"dtype\":\"float64\",\"shape\":[532]}},\"selected\":{\"id\":\"1433\"},\"selection_policy\":{\"id\":\"1467\"}},\"id\":\"1432\",\"type\":\"ColumnDataSource\"},{\"attributes\":{\"editor\":{\"id\":\"1445\"},\"field\":\"ProofType\",\"formatter\":{\"id\":\"1444\"},\"title\":\"ProofType\"},\"id\":\"1446\",\"type\":\"TableColumn\"},{\"attributes\":{\"margin\":[5,5,5,5],\"name\":\"HSpacer02364\",\"sizing_mode\":\"stretch_width\"},\"id\":\"1468\",\"type\":\"Spacer\"},{\"attributes\":{},\"id\":\"1467\",\"type\":\"UnionRenderers\"}],\"root_ids\":[\"1430\"]},\"title\":\"Bokeh Application\",\"version\":\"2.0.2\"}};\n  var render_items = [{\"docid\":\"c42ed6da-e0fd-4eb2-8b1c-986c2dbe85c6\",\"root_ids\":[\"1430\"],\"roots\":{\"1430\":\"93e65874-06e6-4932-973b-333558b9eefb\"}}];\n  root.Bokeh.embed.embed_items_notebook(docs_json, render_items);\n  }\nif (root.Bokeh !== undefined) {\n    embed_document(root);\n  } else {\n    var attempts = 0;\n    var timer = setInterval(function(root) {\n      if (root.Bokeh !== undefined) {\n        clearInterval(timer);\n        embed_document(root);\n      } else if (document.readyState == \"complete\") {\n        attempts++;\n        if (attempts > 100) {\n          clearInterval(timer);\n          console.log(\"Bokeh: ERROR: Unable to run BokehJS code because BokehJS library is missing\");\n        }\n      }\n    }, 10, root)\n  }\n})(window);</script>",
      "application/vnd.holoviews_exec.v0+json": "",
      "text/plain": [
       ":Table   [CoinName,Algorithm,ProofType,TotalCoinSupply,TotalCoinsMined,Class]"
      ]
     },
     "metadata": {
      "application/vnd.holoviews_exec.v0+json": {
       "id": "1430"
      }
     },
     "execution_count": 78
    }
   ],
   "source": [
    "# Table with tradable cryptos\n",
    "clustered_df.hvplot.table(columns=[\"CoinName\", \"Algorithm\", \"ProofType\", \"TotalCoinSupply\", \"TotalCoinsMined\", \"Class\"])"
   ]
  },
  {
   "cell_type": "code",
   "execution_count": 79,
   "metadata": {},
   "outputs": [
    {
     "output_type": "stream",
     "name": "stdout",
     "text": [
      "532\n"
     ]
    }
   ],
   "source": [
    "# Print the total number of tradable cryptocurrencies\n",
    "print(len(clustered_df))"
   ]
  },
  {
   "cell_type": "markdown",
   "metadata": {},
   "source": [
    "#### Scatter Plot with Tradable Cryptocurrencies"
   ]
  },
  {
   "cell_type": "code",
   "execution_count": 80,
   "metadata": {},
   "outputs": [],
   "source": [
    "# Scale data to create the scatter plot\n",
    "scaler = MinMaxScaler()\n",
    "normalize_cols = [\"TotalCoinsMined\", \"TotalCoinSupply\"]\n",
    "X = crypto_df[normalize_cols].values\n",
    "X_scaled = scaler.fit_transform(X)\n",
    "tradable = pd.DataFrame(X_scaled, columns=normalize_cols, index=crypto_df.index).reset_index()"
   ]
  },
  {
   "cell_type": "code",
   "execution_count": 83,
   "metadata": {},
   "outputs": [
    {
     "output_type": "display_data",
     "data": {},
     "metadata": {}
    },
    {
     "output_type": "execute_result",
     "data": {
      "text/html": "<div id='1674'>\n\n\n\n\n\n  <div class=\"bk-root\" id=\"546476fc-d838-4350-9a18-73e33f481723\" data-root-id=\"1674\"></div>\n</div>\n<script type=\"application/javascript\">(function(root) {\n  function embed_document(root) {\n  var docs_json = {\"7cf70c7f-f421-400f-8fcc-839f2aaa1682\":{\"roots\":{\"references\":[{\"attributes\":{\"callback\":null,\"renderers\":[{\"id\":\"1715\"}],\"tags\":[\"hv_created\"],\"tooltips\":[[\"TotalCoinsMined\",\"@{TotalCoinsMined}\"],[\"TotalCoinSupply\",\"@{TotalCoinSupply}\"]]},\"id\":\"1678\",\"type\":\"HoverTool\"},{\"attributes\":{\"axis_label\":\"TotalCoinSupply\",\"bounds\":\"auto\",\"formatter\":{\"id\":\"1719\"},\"major_label_orientation\":\"horizontal\",\"ticker\":{\"id\":\"1693\"}},\"id\":\"1692\",\"type\":\"LinearAxis\"},{\"attributes\":{\"text\":\"\",\"text_color\":{\"value\":\"black\"},\"text_font_size\":{\"value\":\"12pt\"}},\"id\":\"1680\",\"type\":\"Title\"},{\"attributes\":{},\"id\":\"1689\",\"type\":\"BasicTicker\"},{\"attributes\":{\"axis\":{\"id\":\"1688\"},\"grid_line_color\":null,\"ticker\":null},\"id\":\"1691\",\"type\":\"Grid\"},{\"attributes\":{},\"id\":\"1684\",\"type\":\"LinearScale\"},{\"attributes\":{},\"id\":\"1686\",\"type\":\"LinearScale\"},{\"attributes\":{\"axis_label\":\"TotalCoinsMined\",\"bounds\":\"auto\",\"formatter\":{\"id\":\"1717\"},\"major_label_orientation\":\"horizontal\",\"ticker\":{\"id\":\"1689\"}},\"id\":\"1688\",\"type\":\"LinearAxis\"},{\"attributes\":{\"axis\":{\"id\":\"1692\"},\"dimension\":1,\"grid_line_color\":null,\"ticker\":null},\"id\":\"1695\",\"type\":\"Grid\"},{\"attributes\":{},\"id\":\"1696\",\"type\":\"SaveTool\"},{\"attributes\":{},\"id\":\"1697\",\"type\":\"PanTool\"},{\"attributes\":{},\"id\":\"1728\",\"type\":\"UnionRenderers\"},{\"attributes\":{\"data\":{\"TotalCoinSupply\":{\"__ndarray__\":\"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\",\"dtype\":\"float64\",\"shape\":[532]},\"TotalCoinsMined\":{\"__ndarray__\":\"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\",\"dtype\":\"float64\",\"shape\":[532]}},\"selected\":{\"id\":\"1710\"},\"selection_policy\":{\"id\":\"1728\"}},\"id\":\"1709\",\"type\":\"ColumnDataSource\"},{\"attributes\":{},\"id\":\"1698\",\"type\":\"WheelZoomTool\"},{\"attributes\":{\"overlay\":{\"id\":\"1701\"}},\"id\":\"1699\",\"type\":\"BoxZoomTool\"},{\"attributes\":{},\"id\":\"1710\",\"type\":\"Selection\"},{\"attributes\":{},\"id\":\"1700\",\"type\":\"ResetTool\"},{\"attributes\":{\"active_drag\":\"auto\",\"active_inspect\":\"auto\",\"active_multi\":null,\"active_scroll\":\"auto\",\"active_tap\":\"auto\",\"tools\":[{\"id\":\"1678\"},{\"id\":\"1696\"},{\"id\":\"1697\"},{\"id\":\"1698\"},{\"id\":\"1699\"},{\"id\":\"1700\"}]},\"id\":\"1702\",\"type\":\"Toolbar\"},{\"attributes\":{\"margin\":[5,5,5,5],\"name\":\"HSpacer02841\",\"sizing_mode\":\"stretch_width\"},\"id\":\"1729\",\"type\":\"Spacer\"},{\"attributes\":{\"data_source\":{\"id\":\"1709\"},\"glyph\":{\"id\":\"1712\"},\"hover_glyph\":null,\"muted_glyph\":{\"id\":\"1714\"},\"nonselection_glyph\":{\"id\":\"1713\"},\"selection_glyph\":null,\"view\":{\"id\":\"1716\"}},\"id\":\"1715\",\"type\":\"GlyphRenderer\"},{\"attributes\":{\"below\":[{\"id\":\"1688\"}],\"center\":[{\"id\":\"1691\"},{\"id\":\"1695\"}],\"left\":[{\"id\":\"1692\"}],\"margin\":null,\"min_border_bottom\":10,\"min_border_left\":10,\"min_border_right\":10,\"min_border_top\":10,\"plot_height\":300,\"plot_width\":700,\"renderers\":[{\"id\":\"1715\"}],\"sizing_mode\":\"fixed\",\"title\":{\"id\":\"1680\"},\"toolbar\":{\"id\":\"1702\"},\"x_range\":{\"id\":\"1676\"},\"x_scale\":{\"id\":\"1684\"},\"y_range\":{\"id\":\"1677\"},\"y_scale\":{\"id\":\"1686\"}},\"id\":\"1679\",\"subtype\":\"Figure\",\"type\":\"Plot\"},{\"attributes\":{\"source\":{\"id\":\"1709\"}},\"id\":\"1716\",\"type\":\"CDSView\"},{\"attributes\":{},\"id\":\"1719\",\"type\":\"BasicTickFormatter\"},{\"attributes\":{\"fill_alpha\":{\"value\":0.1},\"fill_color\":{\"value\":\"#1f77b3\"},\"line_alpha\":{\"value\":0.1},\"line_color\":{\"value\":\"#1f77b3\"},\"size\":{\"units\":\"screen\",\"value\":5.477225575051661},\"x\":{\"field\":\"TotalCoinsMined\"},\"y\":{\"field\":\"TotalCoinSupply\"}},\"id\":\"1713\",\"type\":\"Scatter\"},{\"attributes\":{\"end\":1.042857142857143,\"reset_end\":1.042857142857143,\"reset_start\":-0.04285714285714286,\"start\":-0.04285714285714286,\"tags\":[[[\"TotalCoinsMined\",\"TotalCoinsMined\",null]]]},\"id\":\"1676\",\"type\":\"Range1d\"},{\"attributes\":{\"fill_color\":{\"value\":\"#1f77b3\"},\"line_color\":{\"value\":\"#1f77b3\"},\"size\":{\"units\":\"screen\",\"value\":5.477225575051661},\"x\":{\"field\":\"TotalCoinsMined\"},\"y\":{\"field\":\"TotalCoinSupply\"}},\"id\":\"1712\",\"type\":\"Scatter\"},{\"attributes\":{\"margin\":[5,5,5,5],\"name\":\"HSpacer02840\",\"sizing_mode\":\"stretch_width\"},\"id\":\"1675\",\"type\":\"Spacer\"},{\"attributes\":{\"fill_alpha\":{\"value\":0.2},\"fill_color\":{\"value\":\"#1f77b3\"},\"line_alpha\":{\"value\":0.2},\"line_color\":{\"value\":\"#1f77b3\"},\"size\":{\"units\":\"screen\",\"value\":5.477225575051661},\"x\":{\"field\":\"TotalCoinsMined\"},\"y\":{\"field\":\"TotalCoinSupply\"}},\"id\":\"1714\",\"type\":\"Scatter\"},{\"attributes\":{},\"id\":\"1717\",\"type\":\"BasicTickFormatter\"},{\"attributes\":{\"children\":[{\"id\":\"1675\"},{\"id\":\"1679\"},{\"id\":\"1729\"}],\"margin\":[0,0,0,0],\"name\":\"Row02836\",\"tags\":[\"embedded\"]},\"id\":\"1674\",\"type\":\"Row\"},{\"attributes\":{\"bottom_units\":\"screen\",\"fill_alpha\":0.5,\"fill_color\":\"lightgrey\",\"left_units\":\"screen\",\"level\":\"overlay\",\"line_alpha\":1.0,\"line_color\":\"black\",\"line_dash\":[4,4],\"line_width\":2,\"render_mode\":\"css\",\"right_units\":\"screen\",\"top_units\":\"screen\"},\"id\":\"1701\",\"type\":\"BoxAnnotation\"},{\"attributes\":{\"end\":1.1,\"reset_end\":1.1,\"reset_start\":-0.1,\"start\":-0.1,\"tags\":[[[\"TotalCoinSupply\",\"TotalCoinSupply\",null]]]},\"id\":\"1677\",\"type\":\"Range1d\"},{\"attributes\":{},\"id\":\"1693\",\"type\":\"BasicTicker\"}],\"root_ids\":[\"1674\"]},\"title\":\"Bokeh Application\",\"version\":\"2.0.2\"}};\n  var render_items = [{\"docid\":\"7cf70c7f-f421-400f-8fcc-839f2aaa1682\",\"root_ids\":[\"1674\"],\"roots\":{\"1674\":\"546476fc-d838-4350-9a18-73e33f481723\"}}];\n  root.Bokeh.embed.embed_items_notebook(docs_json, render_items);\n  }\nif (root.Bokeh !== undefined) {\n    embed_document(root);\n  } else {\n    var attempts = 0;\n    var timer = setInterval(function(root) {\n      if (root.Bokeh !== undefined) {\n        clearInterval(timer);\n        embed_document(root);\n      } else if (document.readyState == \"complete\") {\n        attempts++;\n        if (attempts > 100) {\n          clearInterval(timer);\n          console.log(\"Bokeh: ERROR: Unable to run BokehJS code because BokehJS library is missing\");\n        }\n      }\n    }, 10, root)\n  }\n})(window);</script>",
      "application/vnd.holoviews_exec.v0+json": "",
      "text/plain": [
       ":Scatter   [TotalCoinsMined]   (TotalCoinSupply)"
      ]
     },
     "metadata": {
      "application/vnd.holoviews_exec.v0+json": {
       "id": "1674"
      }
     },
     "execution_count": 83
    }
   ],
   "source": [
    "# Plot the scatter with x=\"TotalCoinsMined\" and y=\"TotalCoinSupply\"\n",
    "tradable.hvplot.scatter(x = \"TotalCoinsMined\", y = \"TotalCoinSupply\", hover_cols=[\"CoinName\"])"
   ]
  },
  {
   "cell_type": "code",
   "execution_count": null,
   "metadata": {},
   "outputs": [],
   "source": []
  }
 ],
 "metadata": {
  "file_extension": ".py",
  "kernelspec": {
   "display_name": "Python 3",
   "language": "python",
   "name": "python3"
  },
  "language_info": {
   "codemirror_mode": {
    "name": "ipython",
    "version": 3
   },
   "file_extension": ".py",
   "mimetype": "text/x-python",
   "name": "python",
   "nbconvert_exporter": "python",
   "pygments_lexer": "ipython3",
   "version": "3.8.5"
  },
  "mimetype": "text/x-python",
  "name": "python",
  "npconvert_exporter": "python",
  "pygments_lexer": "ipython3",
  "version": 3
 },
 "nbformat": 4,
 "nbformat_minor": 4
}