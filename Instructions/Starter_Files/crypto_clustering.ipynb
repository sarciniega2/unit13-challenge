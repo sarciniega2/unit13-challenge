{
 "cells": [
  {
   "cell_type": "markdown",
   "metadata": {},
   "source": [
    "# Clustering Crypto"
   ]
  },
  {
   "cell_type": "code",
   "execution_count": 90,
   "metadata": {},
   "outputs": [],
   "source": [
    "# Initial imports\n",
    "import requests\n",
    "import pandas as pd\n",
    "from pathlib import Path\n",
    "import matplotlib.pyplot as plt\n",
    "import hvplot.pandas\n",
    "import plotly.express as px\n",
    "from sklearn.preprocessing import StandardScaler, MinMaxScaler\n",
    "from sklearn.decomposition import PCA\n",
    "from sklearn.cluster import KMeans"
   ]
  },
  {
   "cell_type": "markdown",
   "metadata": {},
   "source": [
    "### Fetching Cryptocurrency Data"
   ]
  },
  {
   "cell_type": "code",
   "execution_count": 91,
   "metadata": {},
   "outputs": [],
   "source": [
    "# Use the following endpoint to fetch json data\n",
    "url = \"https://min-api.cryptocompare.com/data/all/coinlist\""
   ]
  },
  {
   "cell_type": "code",
   "execution_count": 92,
   "metadata": {},
   "outputs": [],
   "source": [
    "# Create a DataFrame \n",
    "# HINT: You will need to use the 'Data' key from the json response, then transpose the DataFrame."
   ]
  },
  {
   "cell_type": "code",
   "execution_count": 107,
   "metadata": {},
   "outputs": [
    {
     "output_type": "error",
     "ename": "ValueError",
     "evalue": "Index Symbol invalid",
     "traceback": [
      "\u001b[0;31m---------------------------------------------------------------------------\u001b[0m",
      "\u001b[0;31mValueError\u001b[0m                                Traceback (most recent call last)",
      "\u001b[0;32m<ipython-input-107-1f0f722fd1ac>\u001b[0m in \u001b[0;36m<module>\u001b[0;34m\u001b[0m\n\u001b[1;32m      2\u001b[0m \u001b[0;31m# file_path = Path(\"Resources/crypto_data.csv\")\u001b[0m\u001b[0;34m\u001b[0m\u001b[0;34m\u001b[0m\u001b[0;34m\u001b[0m\u001b[0m\n\u001b[1;32m      3\u001b[0m \u001b[0mfile_path\u001b[0m \u001b[0;34m=\u001b[0m \u001b[0mPath\u001b[0m\u001b[0;34m(\u001b[0m\u001b[0;34m\"Resources/crypto_data.csv\"\u001b[0m\u001b[0;34m)\u001b[0m\u001b[0;34m\u001b[0m\u001b[0;34m\u001b[0m\u001b[0m\n\u001b[0;32m----> 4\u001b[0;31m \u001b[0mcrypto_df\u001b[0m \u001b[0;34m=\u001b[0m \u001b[0mpd\u001b[0m\u001b[0;34m.\u001b[0m\u001b[0mread_csv\u001b[0m\u001b[0;34m(\u001b[0m\u001b[0mfile_path\u001b[0m\u001b[0;34m,\u001b[0m \u001b[0mindex_col\u001b[0m\u001b[0;34m=\u001b[0m\u001b[0;34m\"Symbol\"\u001b[0m\u001b[0;34m)\u001b[0m\u001b[0;34m\u001b[0m\u001b[0;34m\u001b[0m\u001b[0m\n\u001b[0m\u001b[1;32m      5\u001b[0m \u001b[0mcrypto_df\u001b[0m\u001b[0;34m.\u001b[0m\u001b[0mhead\u001b[0m\u001b[0;34m(\u001b[0m\u001b[0;36m10\u001b[0m\u001b[0;34m)\u001b[0m\u001b[0;34m\u001b[0m\u001b[0;34m\u001b[0m\u001b[0m\n\u001b[1;32m      6\u001b[0m \u001b[0;31m# Create a DataFrame\u001b[0m\u001b[0;34m\u001b[0m\u001b[0;34m\u001b[0m\u001b[0;34m\u001b[0m\u001b[0m\n",
      "\u001b[0;32m~/opt/anaconda3/lib/python3.8/site-packages/pandas/io/parsers.py\u001b[0m in \u001b[0;36mparser_f\u001b[0;34m(filepath_or_buffer, sep, delimiter, header, names, index_col, usecols, squeeze, prefix, mangle_dupe_cols, dtype, engine, converters, true_values, false_values, skipinitialspace, skiprows, skipfooter, nrows, na_values, keep_default_na, na_filter, verbose, skip_blank_lines, parse_dates, infer_datetime_format, keep_date_col, date_parser, dayfirst, cache_dates, iterator, chunksize, compression, thousands, decimal, lineterminator, quotechar, quoting, doublequote, escapechar, comment, encoding, dialect, error_bad_lines, warn_bad_lines, delim_whitespace, low_memory, memory_map, float_precision)\u001b[0m\n\u001b[1;32m    674\u001b[0m         )\n\u001b[1;32m    675\u001b[0m \u001b[0;34m\u001b[0m\u001b[0m\n\u001b[0;32m--> 676\u001b[0;31m         \u001b[0;32mreturn\u001b[0m \u001b[0m_read\u001b[0m\u001b[0;34m(\u001b[0m\u001b[0mfilepath_or_buffer\u001b[0m\u001b[0;34m,\u001b[0m \u001b[0mkwds\u001b[0m\u001b[0;34m)\u001b[0m\u001b[0;34m\u001b[0m\u001b[0;34m\u001b[0m\u001b[0m\n\u001b[0m\u001b[1;32m    677\u001b[0m \u001b[0;34m\u001b[0m\u001b[0m\n\u001b[1;32m    678\u001b[0m     \u001b[0mparser_f\u001b[0m\u001b[0;34m.\u001b[0m\u001b[0m__name__\u001b[0m \u001b[0;34m=\u001b[0m \u001b[0mname\u001b[0m\u001b[0;34m\u001b[0m\u001b[0;34m\u001b[0m\u001b[0m\n",
      "\u001b[0;32m~/opt/anaconda3/lib/python3.8/site-packages/pandas/io/parsers.py\u001b[0m in \u001b[0;36m_read\u001b[0;34m(filepath_or_buffer, kwds)\u001b[0m\n\u001b[1;32m    452\u001b[0m \u001b[0;34m\u001b[0m\u001b[0m\n\u001b[1;32m    453\u001b[0m     \u001b[0;32mtry\u001b[0m\u001b[0;34m:\u001b[0m\u001b[0;34m\u001b[0m\u001b[0;34m\u001b[0m\u001b[0m\n\u001b[0;32m--> 454\u001b[0;31m         \u001b[0mdata\u001b[0m \u001b[0;34m=\u001b[0m \u001b[0mparser\u001b[0m\u001b[0;34m.\u001b[0m\u001b[0mread\u001b[0m\u001b[0;34m(\u001b[0m\u001b[0mnrows\u001b[0m\u001b[0;34m)\u001b[0m\u001b[0;34m\u001b[0m\u001b[0;34m\u001b[0m\u001b[0m\n\u001b[0m\u001b[1;32m    455\u001b[0m     \u001b[0;32mfinally\u001b[0m\u001b[0;34m:\u001b[0m\u001b[0;34m\u001b[0m\u001b[0;34m\u001b[0m\u001b[0m\n\u001b[1;32m    456\u001b[0m         \u001b[0mparser\u001b[0m\u001b[0;34m.\u001b[0m\u001b[0mclose\u001b[0m\u001b[0;34m(\u001b[0m\u001b[0;34m)\u001b[0m\u001b[0;34m\u001b[0m\u001b[0;34m\u001b[0m\u001b[0m\n",
      "\u001b[0;32m~/opt/anaconda3/lib/python3.8/site-packages/pandas/io/parsers.py\u001b[0m in \u001b[0;36mread\u001b[0;34m(self, nrows)\u001b[0m\n\u001b[1;32m   1131\u001b[0m     \u001b[0;32mdef\u001b[0m \u001b[0mread\u001b[0m\u001b[0;34m(\u001b[0m\u001b[0mself\u001b[0m\u001b[0;34m,\u001b[0m \u001b[0mnrows\u001b[0m\u001b[0;34m=\u001b[0m\u001b[0;32mNone\u001b[0m\u001b[0;34m)\u001b[0m\u001b[0;34m:\u001b[0m\u001b[0;34m\u001b[0m\u001b[0;34m\u001b[0m\u001b[0m\n\u001b[1;32m   1132\u001b[0m         \u001b[0mnrows\u001b[0m \u001b[0;34m=\u001b[0m \u001b[0m_validate_integer\u001b[0m\u001b[0;34m(\u001b[0m\u001b[0;34m\"nrows\"\u001b[0m\u001b[0;34m,\u001b[0m \u001b[0mnrows\u001b[0m\u001b[0;34m)\u001b[0m\u001b[0;34m\u001b[0m\u001b[0;34m\u001b[0m\u001b[0m\n\u001b[0;32m-> 1133\u001b[0;31m         \u001b[0mret\u001b[0m \u001b[0;34m=\u001b[0m \u001b[0mself\u001b[0m\u001b[0;34m.\u001b[0m\u001b[0m_engine\u001b[0m\u001b[0;34m.\u001b[0m\u001b[0mread\u001b[0m\u001b[0;34m(\u001b[0m\u001b[0mnrows\u001b[0m\u001b[0;34m)\u001b[0m\u001b[0;34m\u001b[0m\u001b[0;34m\u001b[0m\u001b[0m\n\u001b[0m\u001b[1;32m   1134\u001b[0m \u001b[0;34m\u001b[0m\u001b[0m\n\u001b[1;32m   1135\u001b[0m         \u001b[0;31m# May alter columns / col_dict\u001b[0m\u001b[0;34m\u001b[0m\u001b[0;34m\u001b[0m\u001b[0;34m\u001b[0m\u001b[0m\n",
      "\u001b[0;32m~/opt/anaconda3/lib/python3.8/site-packages/pandas/io/parsers.py\u001b[0m in \u001b[0;36mread\u001b[0;34m(self, nrows)\u001b[0m\n\u001b[1;32m   2111\u001b[0m \u001b[0;34m\u001b[0m\u001b[0m\n\u001b[1;32m   2112\u001b[0m             \u001b[0mnames\u001b[0m\u001b[0;34m,\u001b[0m \u001b[0mdata\u001b[0m \u001b[0;34m=\u001b[0m \u001b[0mself\u001b[0m\u001b[0;34m.\u001b[0m\u001b[0m_do_date_conversions\u001b[0m\u001b[0;34m(\u001b[0m\u001b[0mnames\u001b[0m\u001b[0;34m,\u001b[0m \u001b[0mdata\u001b[0m\u001b[0;34m)\u001b[0m\u001b[0;34m\u001b[0m\u001b[0;34m\u001b[0m\u001b[0m\n\u001b[0;32m-> 2113\u001b[0;31m             \u001b[0mindex\u001b[0m\u001b[0;34m,\u001b[0m \u001b[0mnames\u001b[0m \u001b[0;34m=\u001b[0m \u001b[0mself\u001b[0m\u001b[0;34m.\u001b[0m\u001b[0m_make_index\u001b[0m\u001b[0;34m(\u001b[0m\u001b[0mdata\u001b[0m\u001b[0;34m,\u001b[0m \u001b[0malldata\u001b[0m\u001b[0;34m,\u001b[0m \u001b[0mnames\u001b[0m\u001b[0;34m)\u001b[0m\u001b[0;34m\u001b[0m\u001b[0;34m\u001b[0m\u001b[0m\n\u001b[0m\u001b[1;32m   2114\u001b[0m \u001b[0;34m\u001b[0m\u001b[0m\n\u001b[1;32m   2115\u001b[0m         \u001b[0;31m# maybe create a mi on the columns\u001b[0m\u001b[0;34m\u001b[0m\u001b[0;34m\u001b[0m\u001b[0;34m\u001b[0m\u001b[0m\n",
      "\u001b[0;32m~/opt/anaconda3/lib/python3.8/site-packages/pandas/io/parsers.py\u001b[0m in \u001b[0;36m_make_index\u001b[0;34m(self, data, alldata, columns, indexnamerow)\u001b[0m\n\u001b[1;32m   1554\u001b[0m \u001b[0;34m\u001b[0m\u001b[0m\n\u001b[1;32m   1555\u001b[0m         \u001b[0;32melif\u001b[0m \u001b[0;32mnot\u001b[0m \u001b[0mself\u001b[0m\u001b[0;34m.\u001b[0m\u001b[0m_has_complex_date_col\u001b[0m\u001b[0;34m:\u001b[0m\u001b[0;34m\u001b[0m\u001b[0;34m\u001b[0m\u001b[0m\n\u001b[0;32m-> 1556\u001b[0;31m             \u001b[0mindex\u001b[0m \u001b[0;34m=\u001b[0m \u001b[0mself\u001b[0m\u001b[0;34m.\u001b[0m\u001b[0m_get_simple_index\u001b[0m\u001b[0;34m(\u001b[0m\u001b[0malldata\u001b[0m\u001b[0;34m,\u001b[0m \u001b[0mcolumns\u001b[0m\u001b[0;34m)\u001b[0m\u001b[0;34m\u001b[0m\u001b[0;34m\u001b[0m\u001b[0m\n\u001b[0m\u001b[1;32m   1557\u001b[0m             \u001b[0mindex\u001b[0m \u001b[0;34m=\u001b[0m \u001b[0mself\u001b[0m\u001b[0;34m.\u001b[0m\u001b[0m_agg_index\u001b[0m\u001b[0;34m(\u001b[0m\u001b[0mindex\u001b[0m\u001b[0;34m)\u001b[0m\u001b[0;34m\u001b[0m\u001b[0;34m\u001b[0m\u001b[0m\n\u001b[1;32m   1558\u001b[0m         \u001b[0;32melif\u001b[0m \u001b[0mself\u001b[0m\u001b[0;34m.\u001b[0m\u001b[0m_has_complex_date_col\u001b[0m\u001b[0;34m:\u001b[0m\u001b[0;34m\u001b[0m\u001b[0;34m\u001b[0m\u001b[0m\n",
      "\u001b[0;32m~/opt/anaconda3/lib/python3.8/site-packages/pandas/io/parsers.py\u001b[0m in \u001b[0;36m_get_simple_index\u001b[0;34m(self, data, columns)\u001b[0m\n\u001b[1;32m   1586\u001b[0m         \u001b[0mindex\u001b[0m \u001b[0;34m=\u001b[0m \u001b[0;34m[\u001b[0m\u001b[0;34m]\u001b[0m\u001b[0;34m\u001b[0m\u001b[0;34m\u001b[0m\u001b[0m\n\u001b[1;32m   1587\u001b[0m         \u001b[0;32mfor\u001b[0m \u001b[0midx\u001b[0m \u001b[0;32min\u001b[0m \u001b[0mself\u001b[0m\u001b[0;34m.\u001b[0m\u001b[0mindex_col\u001b[0m\u001b[0;34m:\u001b[0m\u001b[0;34m\u001b[0m\u001b[0;34m\u001b[0m\u001b[0m\n\u001b[0;32m-> 1588\u001b[0;31m             \u001b[0mi\u001b[0m \u001b[0;34m=\u001b[0m \u001b[0mix\u001b[0m\u001b[0;34m(\u001b[0m\u001b[0midx\u001b[0m\u001b[0;34m)\u001b[0m\u001b[0;34m\u001b[0m\u001b[0;34m\u001b[0m\u001b[0m\n\u001b[0m\u001b[1;32m   1589\u001b[0m             \u001b[0mto_remove\u001b[0m\u001b[0;34m.\u001b[0m\u001b[0mappend\u001b[0m\u001b[0;34m(\u001b[0m\u001b[0mi\u001b[0m\u001b[0;34m)\u001b[0m\u001b[0;34m\u001b[0m\u001b[0;34m\u001b[0m\u001b[0m\n\u001b[1;32m   1590\u001b[0m             \u001b[0mindex\u001b[0m\u001b[0;34m.\u001b[0m\u001b[0mappend\u001b[0m\u001b[0;34m(\u001b[0m\u001b[0mdata\u001b[0m\u001b[0;34m[\u001b[0m\u001b[0mi\u001b[0m\u001b[0;34m]\u001b[0m\u001b[0;34m)\u001b[0m\u001b[0;34m\u001b[0m\u001b[0;34m\u001b[0m\u001b[0m\n",
      "\u001b[0;32m~/opt/anaconda3/lib/python3.8/site-packages/pandas/io/parsers.py\u001b[0m in \u001b[0;36mix\u001b[0;34m(col)\u001b[0m\n\u001b[1;32m   1581\u001b[0m             \u001b[0;32mif\u001b[0m \u001b[0;32mnot\u001b[0m \u001b[0misinstance\u001b[0m\u001b[0;34m(\u001b[0m\u001b[0mcol\u001b[0m\u001b[0;34m,\u001b[0m \u001b[0mstr\u001b[0m\u001b[0;34m)\u001b[0m\u001b[0;34m:\u001b[0m\u001b[0;34m\u001b[0m\u001b[0;34m\u001b[0m\u001b[0m\n\u001b[1;32m   1582\u001b[0m                 \u001b[0;32mreturn\u001b[0m \u001b[0mcol\u001b[0m\u001b[0;34m\u001b[0m\u001b[0;34m\u001b[0m\u001b[0m\n\u001b[0;32m-> 1583\u001b[0;31m             \u001b[0;32mraise\u001b[0m \u001b[0mValueError\u001b[0m\u001b[0;34m(\u001b[0m\u001b[0;34mf\"Index {col} invalid\"\u001b[0m\u001b[0;34m)\u001b[0m\u001b[0;34m\u001b[0m\u001b[0;34m\u001b[0m\u001b[0m\n\u001b[0m\u001b[1;32m   1584\u001b[0m \u001b[0;34m\u001b[0m\u001b[0m\n\u001b[1;32m   1585\u001b[0m         \u001b[0mto_remove\u001b[0m \u001b[0;34m=\u001b[0m \u001b[0;34m[\u001b[0m\u001b[0;34m]\u001b[0m\u001b[0;34m\u001b[0m\u001b[0;34m\u001b[0m\u001b[0m\n",
      "\u001b[0;31mValueError\u001b[0m: Index Symbol invalid"
     ]
    }
   ],
   "source": [
    "# Alternatively, use the provided csv file:\n",
    "# file_path = Path(\"Resources/crypto_data.csv\")\n",
    "file_path = Path(\"Resources/crypto_data.csv\")\n",
    "crypto_df = pd.read_csv(file_path, index_col=\"Symbol\")\n",
    "crypto_df.head(10)\n",
    "# Create a DataFrame"
   ]
  },
  {
   "cell_type": "markdown",
   "metadata": {},
   "source": [
    "### Data Preprocessing"
   ]
  },
  {
   "cell_type": "code",
   "execution_count": 94,
   "metadata": {},
   "outputs": [
    {
     "output_type": "execute_result",
     "data": {
      "text/plain": [
       "  Unnamed: 0   CoinName Algorithm  IsTrading ProofType  TotalCoinsMined  \\\n",
       "0         42    42 Coin    Scrypt       True   PoW/PoS     4.199995e+01   \n",
       "1        365    365Coin       X11       True   PoW/PoS              NaN   \n",
       "2        404    404Coin    Scrypt       True   PoW/PoS     1.055185e+09   \n",
       "3        611  SixEleven   SHA-256       True       PoW              NaN   \n",
       "4        808        808   SHA-256       True   PoW/PoS     0.000000e+00   \n",
       "5       1337  EliteCoin       X13       True   PoW/PoS     2.927942e+10   \n",
       "6       2015  2015 coin       X11       True   PoW/PoS              NaN   \n",
       "7        BTC    Bitcoin   SHA-256       True       PoW     1.792718e+07   \n",
       "8        ETH   Ethereum    Ethash       True       PoW     1.076842e+08   \n",
       "9        LTC   Litecoin    Scrypt       True       PoW     6.303924e+07   \n",
       "\n",
       "  TotalCoinSupply  \n",
       "0              42  \n",
       "1      2300000000  \n",
       "2       532000000  \n",
       "3          611000  \n",
       "4               0  \n",
       "5    314159265359  \n",
       "6               0  \n",
       "7        21000000  \n",
       "8               0  \n",
       "9        84000000  "
      ],
      "text/html": "<div>\n<style scoped>\n    .dataframe tbody tr th:only-of-type {\n        vertical-align: middle;\n    }\n\n    .dataframe tbody tr th {\n        vertical-align: top;\n    }\n\n    .dataframe thead th {\n        text-align: right;\n    }\n</style>\n<table border=\"1\" class=\"dataframe\">\n  <thead>\n    <tr style=\"text-align: right;\">\n      <th></th>\n      <th>Unnamed: 0</th>\n      <th>CoinName</th>\n      <th>Algorithm</th>\n      <th>IsTrading</th>\n      <th>ProofType</th>\n      <th>TotalCoinsMined</th>\n      <th>TotalCoinSupply</th>\n    </tr>\n  </thead>\n  <tbody>\n    <tr>\n      <th>0</th>\n      <td>42</td>\n      <td>42 Coin</td>\n      <td>Scrypt</td>\n      <td>True</td>\n      <td>PoW/PoS</td>\n      <td>4.199995e+01</td>\n      <td>42</td>\n    </tr>\n    <tr>\n      <th>1</th>\n      <td>365</td>\n      <td>365Coin</td>\n      <td>X11</td>\n      <td>True</td>\n      <td>PoW/PoS</td>\n      <td>NaN</td>\n      <td>2300000000</td>\n    </tr>\n    <tr>\n      <th>2</th>\n      <td>404</td>\n      <td>404Coin</td>\n      <td>Scrypt</td>\n      <td>True</td>\n      <td>PoW/PoS</td>\n      <td>1.055185e+09</td>\n      <td>532000000</td>\n    </tr>\n    <tr>\n      <th>3</th>\n      <td>611</td>\n      <td>SixEleven</td>\n      <td>SHA-256</td>\n      <td>True</td>\n      <td>PoW</td>\n      <td>NaN</td>\n      <td>611000</td>\n    </tr>\n    <tr>\n      <th>4</th>\n      <td>808</td>\n      <td>808</td>\n      <td>SHA-256</td>\n      <td>True</td>\n      <td>PoW/PoS</td>\n      <td>0.000000e+00</td>\n      <td>0</td>\n    </tr>\n    <tr>\n      <th>5</th>\n      <td>1337</td>\n      <td>EliteCoin</td>\n      <td>X13</td>\n      <td>True</td>\n      <td>PoW/PoS</td>\n      <td>2.927942e+10</td>\n      <td>314159265359</td>\n    </tr>\n    <tr>\n      <th>6</th>\n      <td>2015</td>\n      <td>2015 coin</td>\n      <td>X11</td>\n      <td>True</td>\n      <td>PoW/PoS</td>\n      <td>NaN</td>\n      <td>0</td>\n    </tr>\n    <tr>\n      <th>7</th>\n      <td>BTC</td>\n      <td>Bitcoin</td>\n      <td>SHA-256</td>\n      <td>True</td>\n      <td>PoW</td>\n      <td>1.792718e+07</td>\n      <td>21000000</td>\n    </tr>\n    <tr>\n      <th>8</th>\n      <td>ETH</td>\n      <td>Ethereum</td>\n      <td>Ethash</td>\n      <td>True</td>\n      <td>PoW</td>\n      <td>1.076842e+08</td>\n      <td>0</td>\n    </tr>\n    <tr>\n      <th>9</th>\n      <td>LTC</td>\n      <td>Litecoin</td>\n      <td>Scrypt</td>\n      <td>True</td>\n      <td>PoW</td>\n      <td>6.303924e+07</td>\n      <td>84000000</td>\n    </tr>\n  </tbody>\n</table>\n</div>"
     },
     "metadata": {},
     "execution_count": 94
    }
   ],
   "source": [
    "# Keep only necessary columns:\n",
    "# 'CoinName','Algorithm','IsTrading','ProofType','TotalCoinsMined','TotalCoinSupply'\n",
    "#crypto_df = crypto_df[[\" \", \"CoinName\", \"Algorithm\", \"IsTrading\", \"ProofType\", \"TotalCoinsMined\", \"TotalCoinSupply\"]]\n",
    "\n",
    "crypto_df.head(10)"
   ]
  },
  {
   "cell_type": "code",
   "execution_count": 95,
   "metadata": {},
   "outputs": [
    {
     "output_type": "execute_result",
     "data": {
      "text/plain": [
       "     Unnamed: 0     CoinName    Algorithm  IsTrading ProofType  \\\n",
       "0            42      42 Coin       Scrypt       True   PoW/PoS   \n",
       "1           365      365Coin          X11       True   PoW/PoS   \n",
       "2           404      404Coin       Scrypt       True   PoW/PoS   \n",
       "3           611    SixEleven      SHA-256       True       PoW   \n",
       "4           808          808      SHA-256       True   PoW/PoS   \n",
       "...         ...          ...          ...        ...       ...   \n",
       "1243       SERO   Super Zero       Ethash       True       PoW   \n",
       "1244        UOS          UOS      SHA-256       True      DPoI   \n",
       "1245        BDX       Beldex  CryptoNight       True       PoW   \n",
       "1246        ZEN      Horizen     Equihash       True       PoW   \n",
       "1247        XBC  BitcoinPlus       Scrypt       True       PoS   \n",
       "\n",
       "      TotalCoinsMined TotalCoinSupply  \n",
       "0        4.199995e+01              42  \n",
       "1                 NaN      2300000000  \n",
       "2        1.055185e+09       532000000  \n",
       "3                 NaN          611000  \n",
       "4        0.000000e+00               0  \n",
       "...               ...             ...  \n",
       "1243              NaN      1000000000  \n",
       "1244              NaN      1000000000  \n",
       "1245     9.802226e+08      1400222610  \n",
       "1246     7.296538e+06        21000000  \n",
       "1247     1.283270e+05         1000000  \n",
       "\n",
       "[1144 rows x 7 columns]"
      ],
      "text/html": "<div>\n<style scoped>\n    .dataframe tbody tr th:only-of-type {\n        vertical-align: middle;\n    }\n\n    .dataframe tbody tr th {\n        vertical-align: top;\n    }\n\n    .dataframe thead th {\n        text-align: right;\n    }\n</style>\n<table border=\"1\" class=\"dataframe\">\n  <thead>\n    <tr style=\"text-align: right;\">\n      <th></th>\n      <th>Unnamed: 0</th>\n      <th>CoinName</th>\n      <th>Algorithm</th>\n      <th>IsTrading</th>\n      <th>ProofType</th>\n      <th>TotalCoinsMined</th>\n      <th>TotalCoinSupply</th>\n    </tr>\n  </thead>\n  <tbody>\n    <tr>\n      <th>0</th>\n      <td>42</td>\n      <td>42 Coin</td>\n      <td>Scrypt</td>\n      <td>True</td>\n      <td>PoW/PoS</td>\n      <td>4.199995e+01</td>\n      <td>42</td>\n    </tr>\n    <tr>\n      <th>1</th>\n      <td>365</td>\n      <td>365Coin</td>\n      <td>X11</td>\n      <td>True</td>\n      <td>PoW/PoS</td>\n      <td>NaN</td>\n      <td>2300000000</td>\n    </tr>\n    <tr>\n      <th>2</th>\n      <td>404</td>\n      <td>404Coin</td>\n      <td>Scrypt</td>\n      <td>True</td>\n      <td>PoW/PoS</td>\n      <td>1.055185e+09</td>\n      <td>532000000</td>\n    </tr>\n    <tr>\n      <th>3</th>\n      <td>611</td>\n      <td>SixEleven</td>\n      <td>SHA-256</td>\n      <td>True</td>\n      <td>PoW</td>\n      <td>NaN</td>\n      <td>611000</td>\n    </tr>\n    <tr>\n      <th>4</th>\n      <td>808</td>\n      <td>808</td>\n      <td>SHA-256</td>\n      <td>True</td>\n      <td>PoW/PoS</td>\n      <td>0.000000e+00</td>\n      <td>0</td>\n    </tr>\n    <tr>\n      <th>...</th>\n      <td>...</td>\n      <td>...</td>\n      <td>...</td>\n      <td>...</td>\n      <td>...</td>\n      <td>...</td>\n      <td>...</td>\n    </tr>\n    <tr>\n      <th>1243</th>\n      <td>SERO</td>\n      <td>Super Zero</td>\n      <td>Ethash</td>\n      <td>True</td>\n      <td>PoW</td>\n      <td>NaN</td>\n      <td>1000000000</td>\n    </tr>\n    <tr>\n      <th>1244</th>\n      <td>UOS</td>\n      <td>UOS</td>\n      <td>SHA-256</td>\n      <td>True</td>\n      <td>DPoI</td>\n      <td>NaN</td>\n      <td>1000000000</td>\n    </tr>\n    <tr>\n      <th>1245</th>\n      <td>BDX</td>\n      <td>Beldex</td>\n      <td>CryptoNight</td>\n      <td>True</td>\n      <td>PoW</td>\n      <td>9.802226e+08</td>\n      <td>1400222610</td>\n    </tr>\n    <tr>\n      <th>1246</th>\n      <td>ZEN</td>\n      <td>Horizen</td>\n      <td>Equihash</td>\n      <td>True</td>\n      <td>PoW</td>\n      <td>7.296538e+06</td>\n      <td>21000000</td>\n    </tr>\n    <tr>\n      <th>1247</th>\n      <td>XBC</td>\n      <td>BitcoinPlus</td>\n      <td>Scrypt</td>\n      <td>True</td>\n      <td>PoS</td>\n      <td>1.283270e+05</td>\n      <td>1000000</td>\n    </tr>\n  </tbody>\n</table>\n<p>1144 rows × 7 columns</p>\n</div>"
     },
     "metadata": {},
     "execution_count": 95
    }
   ],
   "source": [
    "# Keep only cryptocurrencies that are trading\n",
    "crypto_df = crypto_df[crypto_df[\"IsTrading\"]== True]\n",
    "crypto_df"
   ]
  },
  {
   "cell_type": "code",
   "execution_count": 96,
   "metadata": {},
   "outputs": [
    {
     "output_type": "execute_result",
     "data": {
      "text/plain": [
       "     Unnamed: 0     CoinName    Algorithm  IsTrading ProofType  \\\n",
       "0            42      42 Coin       Scrypt       True   PoW/PoS   \n",
       "1           365      365Coin          X11       True   PoW/PoS   \n",
       "2           404      404Coin       Scrypt       True   PoW/PoS   \n",
       "3           611    SixEleven      SHA-256       True       PoW   \n",
       "4           808          808      SHA-256       True   PoW/PoS   \n",
       "...         ...          ...          ...        ...       ...   \n",
       "1243       SERO   Super Zero       Ethash       True       PoW   \n",
       "1244        UOS          UOS      SHA-256       True      DPoI   \n",
       "1245        BDX       Beldex  CryptoNight       True       PoW   \n",
       "1246        ZEN      Horizen     Equihash       True       PoW   \n",
       "1247        XBC  BitcoinPlus       Scrypt       True       PoS   \n",
       "\n",
       "      TotalCoinsMined TotalCoinSupply  \n",
       "0        4.199995e+01              42  \n",
       "1                 NaN      2300000000  \n",
       "2        1.055185e+09       532000000  \n",
       "3                 NaN          611000  \n",
       "4        0.000000e+00               0  \n",
       "...               ...             ...  \n",
       "1243              NaN      1000000000  \n",
       "1244              NaN      1000000000  \n",
       "1245     9.802226e+08      1400222610  \n",
       "1246     7.296538e+06        21000000  \n",
       "1247     1.283270e+05         1000000  \n",
       "\n",
       "[1144 rows x 7 columns]"
      ],
      "text/html": "<div>\n<style scoped>\n    .dataframe tbody tr th:only-of-type {\n        vertical-align: middle;\n    }\n\n    .dataframe tbody tr th {\n        vertical-align: top;\n    }\n\n    .dataframe thead th {\n        text-align: right;\n    }\n</style>\n<table border=\"1\" class=\"dataframe\">\n  <thead>\n    <tr style=\"text-align: right;\">\n      <th></th>\n      <th>Unnamed: 0</th>\n      <th>CoinName</th>\n      <th>Algorithm</th>\n      <th>IsTrading</th>\n      <th>ProofType</th>\n      <th>TotalCoinsMined</th>\n      <th>TotalCoinSupply</th>\n    </tr>\n  </thead>\n  <tbody>\n    <tr>\n      <th>0</th>\n      <td>42</td>\n      <td>42 Coin</td>\n      <td>Scrypt</td>\n      <td>True</td>\n      <td>PoW/PoS</td>\n      <td>4.199995e+01</td>\n      <td>42</td>\n    </tr>\n    <tr>\n      <th>1</th>\n      <td>365</td>\n      <td>365Coin</td>\n      <td>X11</td>\n      <td>True</td>\n      <td>PoW/PoS</td>\n      <td>NaN</td>\n      <td>2300000000</td>\n    </tr>\n    <tr>\n      <th>2</th>\n      <td>404</td>\n      <td>404Coin</td>\n      <td>Scrypt</td>\n      <td>True</td>\n      <td>PoW/PoS</td>\n      <td>1.055185e+09</td>\n      <td>532000000</td>\n    </tr>\n    <tr>\n      <th>3</th>\n      <td>611</td>\n      <td>SixEleven</td>\n      <td>SHA-256</td>\n      <td>True</td>\n      <td>PoW</td>\n      <td>NaN</td>\n      <td>611000</td>\n    </tr>\n    <tr>\n      <th>4</th>\n      <td>808</td>\n      <td>808</td>\n      <td>SHA-256</td>\n      <td>True</td>\n      <td>PoW/PoS</td>\n      <td>0.000000e+00</td>\n      <td>0</td>\n    </tr>\n    <tr>\n      <th>...</th>\n      <td>...</td>\n      <td>...</td>\n      <td>...</td>\n      <td>...</td>\n      <td>...</td>\n      <td>...</td>\n      <td>...</td>\n    </tr>\n    <tr>\n      <th>1243</th>\n      <td>SERO</td>\n      <td>Super Zero</td>\n      <td>Ethash</td>\n      <td>True</td>\n      <td>PoW</td>\n      <td>NaN</td>\n      <td>1000000000</td>\n    </tr>\n    <tr>\n      <th>1244</th>\n      <td>UOS</td>\n      <td>UOS</td>\n      <td>SHA-256</td>\n      <td>True</td>\n      <td>DPoI</td>\n      <td>NaN</td>\n      <td>1000000000</td>\n    </tr>\n    <tr>\n      <th>1245</th>\n      <td>BDX</td>\n      <td>Beldex</td>\n      <td>CryptoNight</td>\n      <td>True</td>\n      <td>PoW</td>\n      <td>9.802226e+08</td>\n      <td>1400222610</td>\n    </tr>\n    <tr>\n      <th>1246</th>\n      <td>ZEN</td>\n      <td>Horizen</td>\n      <td>Equihash</td>\n      <td>True</td>\n      <td>PoW</td>\n      <td>7.296538e+06</td>\n      <td>21000000</td>\n    </tr>\n    <tr>\n      <th>1247</th>\n      <td>XBC</td>\n      <td>BitcoinPlus</td>\n      <td>Scrypt</td>\n      <td>True</td>\n      <td>PoS</td>\n      <td>1.283270e+05</td>\n      <td>1000000</td>\n    </tr>\n  </tbody>\n</table>\n<p>1144 rows × 7 columns</p>\n</div>"
     },
     "metadata": {},
     "execution_count": 96
    }
   ],
   "source": [
    "# Keep only cryptocurrencies with a working algorithm\n",
    "#crypto_df.drop([crypto_df[\"Algorithm\"]== \"NA\"])\n",
    "crypto_df"
   ]
  },
  {
   "cell_type": "code",
   "execution_count": 97,
   "metadata": {},
   "outputs": [
    {
     "output_type": "execute_result",
     "data": {
      "text/plain": [
       "     Unnamed: 0     CoinName    Algorithm ProofType  TotalCoinsMined  \\\n",
       "0            42      42 Coin       Scrypt   PoW/PoS     4.199995e+01   \n",
       "1           365      365Coin          X11   PoW/PoS              NaN   \n",
       "2           404      404Coin       Scrypt   PoW/PoS     1.055185e+09   \n",
       "3           611    SixEleven      SHA-256       PoW              NaN   \n",
       "4           808          808      SHA-256   PoW/PoS     0.000000e+00   \n",
       "...         ...          ...          ...       ...              ...   \n",
       "1243       SERO   Super Zero       Ethash       PoW              NaN   \n",
       "1244        UOS          UOS      SHA-256      DPoI              NaN   \n",
       "1245        BDX       Beldex  CryptoNight       PoW     9.802226e+08   \n",
       "1246        ZEN      Horizen     Equihash       PoW     7.296538e+06   \n",
       "1247        XBC  BitcoinPlus       Scrypt       PoS     1.283270e+05   \n",
       "\n",
       "     TotalCoinSupply  \n",
       "0                 42  \n",
       "1         2300000000  \n",
       "2          532000000  \n",
       "3             611000  \n",
       "4                  0  \n",
       "...              ...  \n",
       "1243      1000000000  \n",
       "1244      1000000000  \n",
       "1245      1400222610  \n",
       "1246        21000000  \n",
       "1247         1000000  \n",
       "\n",
       "[1144 rows x 6 columns]"
      ],
      "text/html": "<div>\n<style scoped>\n    .dataframe tbody tr th:only-of-type {\n        vertical-align: middle;\n    }\n\n    .dataframe tbody tr th {\n        vertical-align: top;\n    }\n\n    .dataframe thead th {\n        text-align: right;\n    }\n</style>\n<table border=\"1\" class=\"dataframe\">\n  <thead>\n    <tr style=\"text-align: right;\">\n      <th></th>\n      <th>Unnamed: 0</th>\n      <th>CoinName</th>\n      <th>Algorithm</th>\n      <th>ProofType</th>\n      <th>TotalCoinsMined</th>\n      <th>TotalCoinSupply</th>\n    </tr>\n  </thead>\n  <tbody>\n    <tr>\n      <th>0</th>\n      <td>42</td>\n      <td>42 Coin</td>\n      <td>Scrypt</td>\n      <td>PoW/PoS</td>\n      <td>4.199995e+01</td>\n      <td>42</td>\n    </tr>\n    <tr>\n      <th>1</th>\n      <td>365</td>\n      <td>365Coin</td>\n      <td>X11</td>\n      <td>PoW/PoS</td>\n      <td>NaN</td>\n      <td>2300000000</td>\n    </tr>\n    <tr>\n      <th>2</th>\n      <td>404</td>\n      <td>404Coin</td>\n      <td>Scrypt</td>\n      <td>PoW/PoS</td>\n      <td>1.055185e+09</td>\n      <td>532000000</td>\n    </tr>\n    <tr>\n      <th>3</th>\n      <td>611</td>\n      <td>SixEleven</td>\n      <td>SHA-256</td>\n      <td>PoW</td>\n      <td>NaN</td>\n      <td>611000</td>\n    </tr>\n    <tr>\n      <th>4</th>\n      <td>808</td>\n      <td>808</td>\n      <td>SHA-256</td>\n      <td>PoW/PoS</td>\n      <td>0.000000e+00</td>\n      <td>0</td>\n    </tr>\n    <tr>\n      <th>...</th>\n      <td>...</td>\n      <td>...</td>\n      <td>...</td>\n      <td>...</td>\n      <td>...</td>\n      <td>...</td>\n    </tr>\n    <tr>\n      <th>1243</th>\n      <td>SERO</td>\n      <td>Super Zero</td>\n      <td>Ethash</td>\n      <td>PoW</td>\n      <td>NaN</td>\n      <td>1000000000</td>\n    </tr>\n    <tr>\n      <th>1244</th>\n      <td>UOS</td>\n      <td>UOS</td>\n      <td>SHA-256</td>\n      <td>DPoI</td>\n      <td>NaN</td>\n      <td>1000000000</td>\n    </tr>\n    <tr>\n      <th>1245</th>\n      <td>BDX</td>\n      <td>Beldex</td>\n      <td>CryptoNight</td>\n      <td>PoW</td>\n      <td>9.802226e+08</td>\n      <td>1400222610</td>\n    </tr>\n    <tr>\n      <th>1246</th>\n      <td>ZEN</td>\n      <td>Horizen</td>\n      <td>Equihash</td>\n      <td>PoW</td>\n      <td>7.296538e+06</td>\n      <td>21000000</td>\n    </tr>\n    <tr>\n      <th>1247</th>\n      <td>XBC</td>\n      <td>BitcoinPlus</td>\n      <td>Scrypt</td>\n      <td>PoS</td>\n      <td>1.283270e+05</td>\n      <td>1000000</td>\n    </tr>\n  </tbody>\n</table>\n<p>1144 rows × 6 columns</p>\n</div>"
     },
     "metadata": {},
     "execution_count": 97
    }
   ],
   "source": [
    "# Remove the \"IsTrading\" column\n",
    "crypto_df = crypto_df.drop([\"IsTrading\"], axis=1)\n",
    "crypto_df"
   ]
  },
  {
   "cell_type": "code",
   "execution_count": 98,
   "metadata": {},
   "outputs": [
    {
     "output_type": "execute_result",
     "data": {
      "text/plain": [
       "     Unnamed: 0     CoinName    Algorithm ProofType  TotalCoinsMined  \\\n",
       "0            42      42 Coin       Scrypt   PoW/PoS     4.199995e+01   \n",
       "2           404      404Coin       Scrypt   PoW/PoS     1.055185e+09   \n",
       "4           808          808      SHA-256   PoW/PoS     0.000000e+00   \n",
       "5          1337    EliteCoin          X13   PoW/PoS     2.927942e+10   \n",
       "7           BTC      Bitcoin      SHA-256       PoW     1.792718e+07   \n",
       "...         ...          ...          ...       ...              ...   \n",
       "1238       ZEPH       ZEPHYR      SHA-256      DPoS     2.000000e+09   \n",
       "1242        GAP      Gapcoin       Scrypt   PoW/PoS     1.493105e+07   \n",
       "1245        BDX       Beldex  CryptoNight       PoW     9.802226e+08   \n",
       "1246        ZEN      Horizen     Equihash       PoW     7.296538e+06   \n",
       "1247        XBC  BitcoinPlus       Scrypt       PoS     1.283270e+05   \n",
       "\n",
       "     TotalCoinSupply  \n",
       "0                 42  \n",
       "2          532000000  \n",
       "4                  0  \n",
       "5       314159265359  \n",
       "7           21000000  \n",
       "...              ...  \n",
       "1238      2000000000  \n",
       "1242       250000000  \n",
       "1245      1400222610  \n",
       "1246        21000000  \n",
       "1247         1000000  \n",
       "\n",
       "[685 rows x 6 columns]"
      ],
      "text/html": "<div>\n<style scoped>\n    .dataframe tbody tr th:only-of-type {\n        vertical-align: middle;\n    }\n\n    .dataframe tbody tr th {\n        vertical-align: top;\n    }\n\n    .dataframe thead th {\n        text-align: right;\n    }\n</style>\n<table border=\"1\" class=\"dataframe\">\n  <thead>\n    <tr style=\"text-align: right;\">\n      <th></th>\n      <th>Unnamed: 0</th>\n      <th>CoinName</th>\n      <th>Algorithm</th>\n      <th>ProofType</th>\n      <th>TotalCoinsMined</th>\n      <th>TotalCoinSupply</th>\n    </tr>\n  </thead>\n  <tbody>\n    <tr>\n      <th>0</th>\n      <td>42</td>\n      <td>42 Coin</td>\n      <td>Scrypt</td>\n      <td>PoW/PoS</td>\n      <td>4.199995e+01</td>\n      <td>42</td>\n    </tr>\n    <tr>\n      <th>2</th>\n      <td>404</td>\n      <td>404Coin</td>\n      <td>Scrypt</td>\n      <td>PoW/PoS</td>\n      <td>1.055185e+09</td>\n      <td>532000000</td>\n    </tr>\n    <tr>\n      <th>4</th>\n      <td>808</td>\n      <td>808</td>\n      <td>SHA-256</td>\n      <td>PoW/PoS</td>\n      <td>0.000000e+00</td>\n      <td>0</td>\n    </tr>\n    <tr>\n      <th>5</th>\n      <td>1337</td>\n      <td>EliteCoin</td>\n      <td>X13</td>\n      <td>PoW/PoS</td>\n      <td>2.927942e+10</td>\n      <td>314159265359</td>\n    </tr>\n    <tr>\n      <th>7</th>\n      <td>BTC</td>\n      <td>Bitcoin</td>\n      <td>SHA-256</td>\n      <td>PoW</td>\n      <td>1.792718e+07</td>\n      <td>21000000</td>\n    </tr>\n    <tr>\n      <th>...</th>\n      <td>...</td>\n      <td>...</td>\n      <td>...</td>\n      <td>...</td>\n      <td>...</td>\n      <td>...</td>\n    </tr>\n    <tr>\n      <th>1238</th>\n      <td>ZEPH</td>\n      <td>ZEPHYR</td>\n      <td>SHA-256</td>\n      <td>DPoS</td>\n      <td>2.000000e+09</td>\n      <td>2000000000</td>\n    </tr>\n    <tr>\n      <th>1242</th>\n      <td>GAP</td>\n      <td>Gapcoin</td>\n      <td>Scrypt</td>\n      <td>PoW/PoS</td>\n      <td>1.493105e+07</td>\n      <td>250000000</td>\n    </tr>\n    <tr>\n      <th>1245</th>\n      <td>BDX</td>\n      <td>Beldex</td>\n      <td>CryptoNight</td>\n      <td>PoW</td>\n      <td>9.802226e+08</td>\n      <td>1400222610</td>\n    </tr>\n    <tr>\n      <th>1246</th>\n      <td>ZEN</td>\n      <td>Horizen</td>\n      <td>Equihash</td>\n      <td>PoW</td>\n      <td>7.296538e+06</td>\n      <td>21000000</td>\n    </tr>\n    <tr>\n      <th>1247</th>\n      <td>XBC</td>\n      <td>BitcoinPlus</td>\n      <td>Scrypt</td>\n      <td>PoS</td>\n      <td>1.283270e+05</td>\n      <td>1000000</td>\n    </tr>\n  </tbody>\n</table>\n<p>685 rows × 6 columns</p>\n</div>"
     },
     "metadata": {},
     "execution_count": 98
    }
   ],
   "source": [
    "# Remove rows with at least 1 null value\n",
    "crypto_df = crypto_df.dropna()\n",
    "crypto_df"
   ]
  },
  {
   "cell_type": "code",
   "execution_count": 99,
   "metadata": {},
   "outputs": [
    {
     "output_type": "execute_result",
     "data": {
      "text/plain": [
       "   Unnamed: 0          CoinName       Algorithm ProofType  TotalCoinsMined  \\\n",
       "0          42           42 Coin          Scrypt   PoW/PoS     4.199995e+01   \n",
       "2         404           404Coin          Scrypt   PoW/PoS     1.055185e+09   \n",
       "5        1337         EliteCoin             X13   PoW/PoS     2.927942e+10   \n",
       "7         BTC           Bitcoin         SHA-256       PoW     1.792718e+07   \n",
       "8         ETH          Ethereum          Ethash       PoW     1.076842e+08   \n",
       "9         LTC          Litecoin          Scrypt       PoW     6.303924e+07   \n",
       "10       DASH              Dash             X11   PoW/PoS     9.031294e+06   \n",
       "11        XMR            Monero  CryptoNight-V7       PoW     1.720114e+07   \n",
       "12        ETC  Ethereum Classic          Ethash       PoW     1.133597e+08   \n",
       "13        ZEC             ZCash        Equihash       PoW     7.383056e+06   \n",
       "\n",
       "   TotalCoinSupply  \n",
       "0               42  \n",
       "2        532000000  \n",
       "5     314159265359  \n",
       "7         21000000  \n",
       "8                0  \n",
       "9         84000000  \n",
       "10        22000000  \n",
       "11               0  \n",
       "12       210000000  \n",
       "13        21000000  "
      ],
      "text/html": "<div>\n<style scoped>\n    .dataframe tbody tr th:only-of-type {\n        vertical-align: middle;\n    }\n\n    .dataframe tbody tr th {\n        vertical-align: top;\n    }\n\n    .dataframe thead th {\n        text-align: right;\n    }\n</style>\n<table border=\"1\" class=\"dataframe\">\n  <thead>\n    <tr style=\"text-align: right;\">\n      <th></th>\n      <th>Unnamed: 0</th>\n      <th>CoinName</th>\n      <th>Algorithm</th>\n      <th>ProofType</th>\n      <th>TotalCoinsMined</th>\n      <th>TotalCoinSupply</th>\n    </tr>\n  </thead>\n  <tbody>\n    <tr>\n      <th>0</th>\n      <td>42</td>\n      <td>42 Coin</td>\n      <td>Scrypt</td>\n      <td>PoW/PoS</td>\n      <td>4.199995e+01</td>\n      <td>42</td>\n    </tr>\n    <tr>\n      <th>2</th>\n      <td>404</td>\n      <td>404Coin</td>\n      <td>Scrypt</td>\n      <td>PoW/PoS</td>\n      <td>1.055185e+09</td>\n      <td>532000000</td>\n    </tr>\n    <tr>\n      <th>5</th>\n      <td>1337</td>\n      <td>EliteCoin</td>\n      <td>X13</td>\n      <td>PoW/PoS</td>\n      <td>2.927942e+10</td>\n      <td>314159265359</td>\n    </tr>\n    <tr>\n      <th>7</th>\n      <td>BTC</td>\n      <td>Bitcoin</td>\n      <td>SHA-256</td>\n      <td>PoW</td>\n      <td>1.792718e+07</td>\n      <td>21000000</td>\n    </tr>\n    <tr>\n      <th>8</th>\n      <td>ETH</td>\n      <td>Ethereum</td>\n      <td>Ethash</td>\n      <td>PoW</td>\n      <td>1.076842e+08</td>\n      <td>0</td>\n    </tr>\n    <tr>\n      <th>9</th>\n      <td>LTC</td>\n      <td>Litecoin</td>\n      <td>Scrypt</td>\n      <td>PoW</td>\n      <td>6.303924e+07</td>\n      <td>84000000</td>\n    </tr>\n    <tr>\n      <th>10</th>\n      <td>DASH</td>\n      <td>Dash</td>\n      <td>X11</td>\n      <td>PoW/PoS</td>\n      <td>9.031294e+06</td>\n      <td>22000000</td>\n    </tr>\n    <tr>\n      <th>11</th>\n      <td>XMR</td>\n      <td>Monero</td>\n      <td>CryptoNight-V7</td>\n      <td>PoW</td>\n      <td>1.720114e+07</td>\n      <td>0</td>\n    </tr>\n    <tr>\n      <th>12</th>\n      <td>ETC</td>\n      <td>Ethereum Classic</td>\n      <td>Ethash</td>\n      <td>PoW</td>\n      <td>1.133597e+08</td>\n      <td>210000000</td>\n    </tr>\n    <tr>\n      <th>13</th>\n      <td>ZEC</td>\n      <td>ZCash</td>\n      <td>Equihash</td>\n      <td>PoW</td>\n      <td>7.383056e+06</td>\n      <td>21000000</td>\n    </tr>\n  </tbody>\n</table>\n</div>"
     },
     "metadata": {},
     "execution_count": 99
    }
   ],
   "source": [
    "# Remove rows with cryptocurrencies having no coins mined\n",
    "crypto_df = crypto_df[crypto_df[\"TotalCoinsMined\"] > 0]\n",
    "crypto_df.head(10)"
   ]
  },
  {
   "cell_type": "code",
   "execution_count": 100,
   "metadata": {},
   "outputs": [],
   "source": [
    "# Drop rows where there are 'N/A' text values\n",
    "#crypto_df.drop([crypto_df[\"Algorithm\"]== \"NA\"])"
   ]
  },
  {
   "cell_type": "code",
   "execution_count": 101,
   "metadata": {},
   "outputs": [
    {
     "output_type": "execute_result",
     "data": {
      "text/plain": [
       "         CoinName\n",
       "0         42 Coin\n",
       "2         404Coin\n",
       "5       EliteCoin\n",
       "7         Bitcoin\n",
       "8        Ethereum\n",
       "...           ...\n",
       "1238       ZEPHYR\n",
       "1242      Gapcoin\n",
       "1245       Beldex\n",
       "1246      Horizen\n",
       "1247  BitcoinPlus\n",
       "\n",
       "[532 rows x 1 columns]"
      ],
      "text/html": "<div>\n<style scoped>\n    .dataframe tbody tr th:only-of-type {\n        vertical-align: middle;\n    }\n\n    .dataframe tbody tr th {\n        vertical-align: top;\n    }\n\n    .dataframe thead th {\n        text-align: right;\n    }\n</style>\n<table border=\"1\" class=\"dataframe\">\n  <thead>\n    <tr style=\"text-align: right;\">\n      <th></th>\n      <th>CoinName</th>\n    </tr>\n  </thead>\n  <tbody>\n    <tr>\n      <th>0</th>\n      <td>42 Coin</td>\n    </tr>\n    <tr>\n      <th>2</th>\n      <td>404Coin</td>\n    </tr>\n    <tr>\n      <th>5</th>\n      <td>EliteCoin</td>\n    </tr>\n    <tr>\n      <th>7</th>\n      <td>Bitcoin</td>\n    </tr>\n    <tr>\n      <th>8</th>\n      <td>Ethereum</td>\n    </tr>\n    <tr>\n      <th>...</th>\n      <td>...</td>\n    </tr>\n    <tr>\n      <th>1238</th>\n      <td>ZEPHYR</td>\n    </tr>\n    <tr>\n      <th>1242</th>\n      <td>Gapcoin</td>\n    </tr>\n    <tr>\n      <th>1245</th>\n      <td>Beldex</td>\n    </tr>\n    <tr>\n      <th>1246</th>\n      <td>Horizen</td>\n    </tr>\n    <tr>\n      <th>1247</th>\n      <td>BitcoinPlus</td>\n    </tr>\n  </tbody>\n</table>\n<p>532 rows × 1 columns</p>\n</div>"
     },
     "metadata": {},
     "execution_count": 101
    }
   ],
   "source": [
    "# Store the 'CoinName'column in its own DataFrame prior to dropping it from crypto_df\n",
    "coin_name = crypto_df[\"CoinName\"].to_frame()\n",
    "coin_name"
   ]
  },
  {
   "cell_type": "code",
   "execution_count": 102,
   "metadata": {},
   "outputs": [
    {
     "output_type": "execute_result",
     "data": {
      "text/plain": [
       "     Unnamed: 0    Algorithm ProofType  TotalCoinsMined TotalCoinSupply\n",
       "0            42       Scrypt   PoW/PoS     4.199995e+01              42\n",
       "2           404       Scrypt   PoW/PoS     1.055185e+09       532000000\n",
       "5          1337          X13   PoW/PoS     2.927942e+10    314159265359\n",
       "7           BTC      SHA-256       PoW     1.792718e+07        21000000\n",
       "8           ETH       Ethash       PoW     1.076842e+08               0\n",
       "...         ...          ...       ...              ...             ...\n",
       "1238       ZEPH      SHA-256      DPoS     2.000000e+09      2000000000\n",
       "1242        GAP       Scrypt   PoW/PoS     1.493105e+07       250000000\n",
       "1245        BDX  CryptoNight       PoW     9.802226e+08      1400222610\n",
       "1246        ZEN     Equihash       PoW     7.296538e+06        21000000\n",
       "1247        XBC       Scrypt       PoS     1.283270e+05         1000000\n",
       "\n",
       "[532 rows x 5 columns]"
      ],
      "text/html": "<div>\n<style scoped>\n    .dataframe tbody tr th:only-of-type {\n        vertical-align: middle;\n    }\n\n    .dataframe tbody tr th {\n        vertical-align: top;\n    }\n\n    .dataframe thead th {\n        text-align: right;\n    }\n</style>\n<table border=\"1\" class=\"dataframe\">\n  <thead>\n    <tr style=\"text-align: right;\">\n      <th></th>\n      <th>Unnamed: 0</th>\n      <th>Algorithm</th>\n      <th>ProofType</th>\n      <th>TotalCoinsMined</th>\n      <th>TotalCoinSupply</th>\n    </tr>\n  </thead>\n  <tbody>\n    <tr>\n      <th>0</th>\n      <td>42</td>\n      <td>Scrypt</td>\n      <td>PoW/PoS</td>\n      <td>4.199995e+01</td>\n      <td>42</td>\n    </tr>\n    <tr>\n      <th>2</th>\n      <td>404</td>\n      <td>Scrypt</td>\n      <td>PoW/PoS</td>\n      <td>1.055185e+09</td>\n      <td>532000000</td>\n    </tr>\n    <tr>\n      <th>5</th>\n      <td>1337</td>\n      <td>X13</td>\n      <td>PoW/PoS</td>\n      <td>2.927942e+10</td>\n      <td>314159265359</td>\n    </tr>\n    <tr>\n      <th>7</th>\n      <td>BTC</td>\n      <td>SHA-256</td>\n      <td>PoW</td>\n      <td>1.792718e+07</td>\n      <td>21000000</td>\n    </tr>\n    <tr>\n      <th>8</th>\n      <td>ETH</td>\n      <td>Ethash</td>\n      <td>PoW</td>\n      <td>1.076842e+08</td>\n      <td>0</td>\n    </tr>\n    <tr>\n      <th>...</th>\n      <td>...</td>\n      <td>...</td>\n      <td>...</td>\n      <td>...</td>\n      <td>...</td>\n    </tr>\n    <tr>\n      <th>1238</th>\n      <td>ZEPH</td>\n      <td>SHA-256</td>\n      <td>DPoS</td>\n      <td>2.000000e+09</td>\n      <td>2000000000</td>\n    </tr>\n    <tr>\n      <th>1242</th>\n      <td>GAP</td>\n      <td>Scrypt</td>\n      <td>PoW/PoS</td>\n      <td>1.493105e+07</td>\n      <td>250000000</td>\n    </tr>\n    <tr>\n      <th>1245</th>\n      <td>BDX</td>\n      <td>CryptoNight</td>\n      <td>PoW</td>\n      <td>9.802226e+08</td>\n      <td>1400222610</td>\n    </tr>\n    <tr>\n      <th>1246</th>\n      <td>ZEN</td>\n      <td>Equihash</td>\n      <td>PoW</td>\n      <td>7.296538e+06</td>\n      <td>21000000</td>\n    </tr>\n    <tr>\n      <th>1247</th>\n      <td>XBC</td>\n      <td>Scrypt</td>\n      <td>PoS</td>\n      <td>1.283270e+05</td>\n      <td>1000000</td>\n    </tr>\n  </tbody>\n</table>\n<p>532 rows × 5 columns</p>\n</div>"
     },
     "metadata": {},
     "execution_count": 102
    }
   ],
   "source": [
    "# Drop the 'CoinName' column since it's not going to be used on the clustering algorithm\n",
    "crypto_df = crypto_df.drop([\"CoinName\"], axis=1)\n",
    "crypto_df"
   ]
  },
  {
   "cell_type": "code",
   "execution_count": 103,
   "metadata": {},
   "outputs": [
    {
     "output_type": "execute_result",
     "data": {
      "text/plain": [
       "     Unnamed: 0  TotalCoinsMined TotalCoinSupply  \\\n",
       "0            42     4.199995e+01              42   \n",
       "2           404     1.055185e+09       532000000   \n",
       "5          1337     2.927942e+10    314159265359   \n",
       "7           BTC     1.792718e+07        21000000   \n",
       "8           ETH     1.076842e+08               0   \n",
       "...         ...              ...             ...   \n",
       "1238       ZEPH     2.000000e+09      2000000000   \n",
       "1242        GAP     1.493105e+07       250000000   \n",
       "1245        BDX     9.802226e+08      1400222610   \n",
       "1246        ZEN     7.296538e+06        21000000   \n",
       "1247        XBC     1.283270e+05         1000000   \n",
       "\n",
       "      Algorithm_1GB AES Pattern Search  Algorithm_536  Algorithm_Argon2d  \\\n",
       "0                                    0              0                  0   \n",
       "2                                    0              0                  0   \n",
       "5                                    0              0                  0   \n",
       "7                                    0              0                  0   \n",
       "8                                    0              0                  0   \n",
       "...                                ...            ...                ...   \n",
       "1238                                 0              0                  0   \n",
       "1242                                 0              0                  0   \n",
       "1245                                 0              0                  0   \n",
       "1246                                 0              0                  0   \n",
       "1247                                 0              0                  0   \n",
       "\n",
       "      Algorithm_BLAKE256  Algorithm_Blake  Algorithm_Blake2S  \\\n",
       "0                      0                0                  0   \n",
       "2                      0                0                  0   \n",
       "5                      0                0                  0   \n",
       "7                      0                0                  0   \n",
       "8                      0                0                  0   \n",
       "...                  ...              ...                ...   \n",
       "1238                   0                0                  0   \n",
       "1242                   0                0                  0   \n",
       "1245                   0                0                  0   \n",
       "1246                   0                0                  0   \n",
       "1247                   0                0                  0   \n",
       "\n",
       "      Algorithm_Blake2b  ...  ProofType_PoW/PoS  ProofType_PoW/PoS   \\\n",
       "0                     0  ...                  1                   0   \n",
       "2                     0  ...                  1                   0   \n",
       "5                     0  ...                  1                   0   \n",
       "7                     0  ...                  0                   0   \n",
       "8                     0  ...                  0                   0   \n",
       "...                 ...  ...                ...                 ...   \n",
       "1238                  0  ...                  0                   0   \n",
       "1242                  0  ...                  1                   0   \n",
       "1245                  0  ...                  0                   0   \n",
       "1246                  0  ...                  0                   0   \n",
       "1247                  0  ...                  0                   0   \n",
       "\n",
       "      ProofType_PoW/PoW  ProofType_PoW/nPoS  ProofType_Pos  \\\n",
       "0                     0                   0              0   \n",
       "2                     0                   0              0   \n",
       "5                     0                   0              0   \n",
       "7                     0                   0              0   \n",
       "8                     0                   0              0   \n",
       "...                 ...                 ...            ...   \n",
       "1238                  0                   0              0   \n",
       "1242                  0                   0              0   \n",
       "1245                  0                   0              0   \n",
       "1246                  0                   0              0   \n",
       "1247                  0                   0              0   \n",
       "\n",
       "      ProofType_Proof of Authority  ProofType_Proof of Trust  ProofType_TPoS  \\\n",
       "0                                0                         0               0   \n",
       "2                                0                         0               0   \n",
       "5                                0                         0               0   \n",
       "7                                0                         0               0   \n",
       "8                                0                         0               0   \n",
       "...                            ...                       ...             ...   \n",
       "1238                             0                         0               0   \n",
       "1242                             0                         0               0   \n",
       "1245                             0                         0               0   \n",
       "1246                             0                         0               0   \n",
       "1247                             0                         0               0   \n",
       "\n",
       "      ProofType_Zero-Knowledge Proof  ProofType_dPoW/PoW  \n",
       "0                                  0                   0  \n",
       "2                                  0                   0  \n",
       "5                                  0                   0  \n",
       "7                                  0                   0  \n",
       "8                                  0                   0  \n",
       "...                              ...                 ...  \n",
       "1238                               0                   0  \n",
       "1242                               0                   0  \n",
       "1245                               0                   0  \n",
       "1246                               0                   0  \n",
       "1247                               0                   0  \n",
       "\n",
       "[532 rows x 99 columns]"
      ],
      "text/html": "<div>\n<style scoped>\n    .dataframe tbody tr th:only-of-type {\n        vertical-align: middle;\n    }\n\n    .dataframe tbody tr th {\n        vertical-align: top;\n    }\n\n    .dataframe thead th {\n        text-align: right;\n    }\n</style>\n<table border=\"1\" class=\"dataframe\">\n  <thead>\n    <tr style=\"text-align: right;\">\n      <th></th>\n      <th>Unnamed: 0</th>\n      <th>TotalCoinsMined</th>\n      <th>TotalCoinSupply</th>\n      <th>Algorithm_1GB AES Pattern Search</th>\n      <th>Algorithm_536</th>\n      <th>Algorithm_Argon2d</th>\n      <th>Algorithm_BLAKE256</th>\n      <th>Algorithm_Blake</th>\n      <th>Algorithm_Blake2S</th>\n      <th>Algorithm_Blake2b</th>\n      <th>...</th>\n      <th>ProofType_PoW/PoS</th>\n      <th>ProofType_PoW/PoS</th>\n      <th>ProofType_PoW/PoW</th>\n      <th>ProofType_PoW/nPoS</th>\n      <th>ProofType_Pos</th>\n      <th>ProofType_Proof of Authority</th>\n      <th>ProofType_Proof of Trust</th>\n      <th>ProofType_TPoS</th>\n      <th>ProofType_Zero-Knowledge Proof</th>\n      <th>ProofType_dPoW/PoW</th>\n    </tr>\n  </thead>\n  <tbody>\n    <tr>\n      <th>0</th>\n      <td>42</td>\n      <td>4.199995e+01</td>\n      <td>42</td>\n      <td>0</td>\n      <td>0</td>\n      <td>0</td>\n      <td>0</td>\n      <td>0</td>\n      <td>0</td>\n      <td>0</td>\n      <td>...</td>\n      <td>1</td>\n      <td>0</td>\n      <td>0</td>\n      <td>0</td>\n      <td>0</td>\n      <td>0</td>\n      <td>0</td>\n      <td>0</td>\n      <td>0</td>\n      <td>0</td>\n    </tr>\n    <tr>\n      <th>2</th>\n      <td>404</td>\n      <td>1.055185e+09</td>\n      <td>532000000</td>\n      <td>0</td>\n      <td>0</td>\n      <td>0</td>\n      <td>0</td>\n      <td>0</td>\n      <td>0</td>\n      <td>0</td>\n      <td>...</td>\n      <td>1</td>\n      <td>0</td>\n      <td>0</td>\n      <td>0</td>\n      <td>0</td>\n      <td>0</td>\n      <td>0</td>\n      <td>0</td>\n      <td>0</td>\n      <td>0</td>\n    </tr>\n    <tr>\n      <th>5</th>\n      <td>1337</td>\n      <td>2.927942e+10</td>\n      <td>314159265359</td>\n      <td>0</td>\n      <td>0</td>\n      <td>0</td>\n      <td>0</td>\n      <td>0</td>\n      <td>0</td>\n      <td>0</td>\n      <td>...</td>\n      <td>1</td>\n      <td>0</td>\n      <td>0</td>\n      <td>0</td>\n      <td>0</td>\n      <td>0</td>\n      <td>0</td>\n      <td>0</td>\n      <td>0</td>\n      <td>0</td>\n    </tr>\n    <tr>\n      <th>7</th>\n      <td>BTC</td>\n      <td>1.792718e+07</td>\n      <td>21000000</td>\n      <td>0</td>\n      <td>0</td>\n      <td>0</td>\n      <td>0</td>\n      <td>0</td>\n      <td>0</td>\n      <td>0</td>\n      <td>...</td>\n      <td>0</td>\n      <td>0</td>\n      <td>0</td>\n      <td>0</td>\n      <td>0</td>\n      <td>0</td>\n      <td>0</td>\n      <td>0</td>\n      <td>0</td>\n      <td>0</td>\n    </tr>\n    <tr>\n      <th>8</th>\n      <td>ETH</td>\n      <td>1.076842e+08</td>\n      <td>0</td>\n      <td>0</td>\n      <td>0</td>\n      <td>0</td>\n      <td>0</td>\n      <td>0</td>\n      <td>0</td>\n      <td>0</td>\n      <td>...</td>\n      <td>0</td>\n      <td>0</td>\n      <td>0</td>\n      <td>0</td>\n      <td>0</td>\n      <td>0</td>\n      <td>0</td>\n      <td>0</td>\n      <td>0</td>\n      <td>0</td>\n    </tr>\n    <tr>\n      <th>...</th>\n      <td>...</td>\n      <td>...</td>\n      <td>...</td>\n      <td>...</td>\n      <td>...</td>\n      <td>...</td>\n      <td>...</td>\n      <td>...</td>\n      <td>...</td>\n      <td>...</td>\n      <td>...</td>\n      <td>...</td>\n      <td>...</td>\n      <td>...</td>\n      <td>...</td>\n      <td>...</td>\n      <td>...</td>\n      <td>...</td>\n      <td>...</td>\n      <td>...</td>\n      <td>...</td>\n    </tr>\n    <tr>\n      <th>1238</th>\n      <td>ZEPH</td>\n      <td>2.000000e+09</td>\n      <td>2000000000</td>\n      <td>0</td>\n      <td>0</td>\n      <td>0</td>\n      <td>0</td>\n      <td>0</td>\n      <td>0</td>\n      <td>0</td>\n      <td>...</td>\n      <td>0</td>\n      <td>0</td>\n      <td>0</td>\n      <td>0</td>\n      <td>0</td>\n      <td>0</td>\n      <td>0</td>\n      <td>0</td>\n      <td>0</td>\n      <td>0</td>\n    </tr>\n    <tr>\n      <th>1242</th>\n      <td>GAP</td>\n      <td>1.493105e+07</td>\n      <td>250000000</td>\n      <td>0</td>\n      <td>0</td>\n      <td>0</td>\n      <td>0</td>\n      <td>0</td>\n      <td>0</td>\n      <td>0</td>\n      <td>...</td>\n      <td>1</td>\n      <td>0</td>\n      <td>0</td>\n      <td>0</td>\n      <td>0</td>\n      <td>0</td>\n      <td>0</td>\n      <td>0</td>\n      <td>0</td>\n      <td>0</td>\n    </tr>\n    <tr>\n      <th>1245</th>\n      <td>BDX</td>\n      <td>9.802226e+08</td>\n      <td>1400222610</td>\n      <td>0</td>\n      <td>0</td>\n      <td>0</td>\n      <td>0</td>\n      <td>0</td>\n      <td>0</td>\n      <td>0</td>\n      <td>...</td>\n      <td>0</td>\n      <td>0</td>\n      <td>0</td>\n      <td>0</td>\n      <td>0</td>\n      <td>0</td>\n      <td>0</td>\n      <td>0</td>\n      <td>0</td>\n      <td>0</td>\n    </tr>\n    <tr>\n      <th>1246</th>\n      <td>ZEN</td>\n      <td>7.296538e+06</td>\n      <td>21000000</td>\n      <td>0</td>\n      <td>0</td>\n      <td>0</td>\n      <td>0</td>\n      <td>0</td>\n      <td>0</td>\n      <td>0</td>\n      <td>...</td>\n      <td>0</td>\n      <td>0</td>\n      <td>0</td>\n      <td>0</td>\n      <td>0</td>\n      <td>0</td>\n      <td>0</td>\n      <td>0</td>\n      <td>0</td>\n      <td>0</td>\n    </tr>\n    <tr>\n      <th>1247</th>\n      <td>XBC</td>\n      <td>1.283270e+05</td>\n      <td>1000000</td>\n      <td>0</td>\n      <td>0</td>\n      <td>0</td>\n      <td>0</td>\n      <td>0</td>\n      <td>0</td>\n      <td>0</td>\n      <td>...</td>\n      <td>0</td>\n      <td>0</td>\n      <td>0</td>\n      <td>0</td>\n      <td>0</td>\n      <td>0</td>\n      <td>0</td>\n      <td>0</td>\n      <td>0</td>\n      <td>0</td>\n    </tr>\n  </tbody>\n</table>\n<p>532 rows × 99 columns</p>\n</div>"
     },
     "metadata": {},
     "execution_count": 103
    }
   ],
   "source": [
    "# Create dummy variables for text features\n",
    "X = pd.get_dummies(crypto_df, columns=[\"Algorithm\", \"ProofType\"])\n",
    "X"
   ]
  },
  {
   "cell_type": "code",
   "execution_count": 105,
   "metadata": {},
   "outputs": [
    {
     "output_type": "error",
     "ename": "ValueError",
     "evalue": "could not convert string to float: 'BTC'",
     "traceback": [
      "\u001b[0;31m---------------------------------------------------------------------------\u001b[0m",
      "\u001b[0;31mValueError\u001b[0m                                Traceback (most recent call last)",
      "\u001b[0;32m<ipython-input-105-ac7767139780>\u001b[0m in \u001b[0;36m<module>\u001b[0;34m\u001b[0m\n\u001b[1;32m      1\u001b[0m \u001b[0;31m# Standardize data\u001b[0m\u001b[0;34m\u001b[0m\u001b[0;34m\u001b[0m\u001b[0;34m\u001b[0m\u001b[0m\n\u001b[0;32m----> 2\u001b[0;31m \u001b[0mX_scaled\u001b[0m \u001b[0;34m=\u001b[0m \u001b[0mStandardScaler\u001b[0m\u001b[0;34m(\u001b[0m\u001b[0;34m)\u001b[0m\u001b[0;34m.\u001b[0m\u001b[0mfit_transform\u001b[0m\u001b[0;34m(\u001b[0m\u001b[0mX\u001b[0m\u001b[0;34m)\u001b[0m\u001b[0;34m\u001b[0m\u001b[0;34m\u001b[0m\u001b[0m\n\u001b[0m",
      "\u001b[0;32m~/opt/anaconda3/lib/python3.8/site-packages/sklearn/base.py\u001b[0m in \u001b[0;36mfit_transform\u001b[0;34m(self, X, y, **fit_params)\u001b[0m\n\u001b[1;32m    697\u001b[0m         \u001b[0;32mif\u001b[0m \u001b[0my\u001b[0m \u001b[0;32mis\u001b[0m \u001b[0;32mNone\u001b[0m\u001b[0;34m:\u001b[0m\u001b[0;34m\u001b[0m\u001b[0;34m\u001b[0m\u001b[0m\n\u001b[1;32m    698\u001b[0m             \u001b[0;31m# fit method of arity 1 (unsupervised transformation)\u001b[0m\u001b[0;34m\u001b[0m\u001b[0;34m\u001b[0m\u001b[0;34m\u001b[0m\u001b[0m\n\u001b[0;32m--> 699\u001b[0;31m             \u001b[0;32mreturn\u001b[0m \u001b[0mself\u001b[0m\u001b[0;34m.\u001b[0m\u001b[0mfit\u001b[0m\u001b[0;34m(\u001b[0m\u001b[0mX\u001b[0m\u001b[0;34m,\u001b[0m \u001b[0;34m**\u001b[0m\u001b[0mfit_params\u001b[0m\u001b[0;34m)\u001b[0m\u001b[0;34m.\u001b[0m\u001b[0mtransform\u001b[0m\u001b[0;34m(\u001b[0m\u001b[0mX\u001b[0m\u001b[0;34m)\u001b[0m\u001b[0;34m\u001b[0m\u001b[0;34m\u001b[0m\u001b[0m\n\u001b[0m\u001b[1;32m    700\u001b[0m         \u001b[0;32melse\u001b[0m\u001b[0;34m:\u001b[0m\u001b[0;34m\u001b[0m\u001b[0;34m\u001b[0m\u001b[0m\n\u001b[1;32m    701\u001b[0m             \u001b[0;31m# fit method of arity 2 (supervised transformation)\u001b[0m\u001b[0;34m\u001b[0m\u001b[0;34m\u001b[0m\u001b[0;34m\u001b[0m\u001b[0m\n",
      "\u001b[0;32m~/opt/anaconda3/lib/python3.8/site-packages/sklearn/preprocessing/_data.py\u001b[0m in \u001b[0;36mfit\u001b[0;34m(self, X, y, sample_weight)\u001b[0m\n\u001b[1;32m    728\u001b[0m         \u001b[0;31m# Reset internal state before fitting\u001b[0m\u001b[0;34m\u001b[0m\u001b[0;34m\u001b[0m\u001b[0;34m\u001b[0m\u001b[0m\n\u001b[1;32m    729\u001b[0m         \u001b[0mself\u001b[0m\u001b[0;34m.\u001b[0m\u001b[0m_reset\u001b[0m\u001b[0;34m(\u001b[0m\u001b[0;34m)\u001b[0m\u001b[0;34m\u001b[0m\u001b[0;34m\u001b[0m\u001b[0m\n\u001b[0;32m--> 730\u001b[0;31m         \u001b[0;32mreturn\u001b[0m \u001b[0mself\u001b[0m\u001b[0;34m.\u001b[0m\u001b[0mpartial_fit\u001b[0m\u001b[0;34m(\u001b[0m\u001b[0mX\u001b[0m\u001b[0;34m,\u001b[0m \u001b[0my\u001b[0m\u001b[0;34m,\u001b[0m \u001b[0msample_weight\u001b[0m\u001b[0;34m)\u001b[0m\u001b[0;34m\u001b[0m\u001b[0;34m\u001b[0m\u001b[0m\n\u001b[0m\u001b[1;32m    731\u001b[0m \u001b[0;34m\u001b[0m\u001b[0m\n\u001b[1;32m    732\u001b[0m     \u001b[0;32mdef\u001b[0m \u001b[0mpartial_fit\u001b[0m\u001b[0;34m(\u001b[0m\u001b[0mself\u001b[0m\u001b[0;34m,\u001b[0m \u001b[0mX\u001b[0m\u001b[0;34m,\u001b[0m \u001b[0my\u001b[0m\u001b[0;34m=\u001b[0m\u001b[0;32mNone\u001b[0m\u001b[0;34m,\u001b[0m \u001b[0msample_weight\u001b[0m\u001b[0;34m=\u001b[0m\u001b[0;32mNone\u001b[0m\u001b[0;34m)\u001b[0m\u001b[0;34m:\u001b[0m\u001b[0;34m\u001b[0m\u001b[0;34m\u001b[0m\u001b[0m\n",
      "\u001b[0;32m~/opt/anaconda3/lib/python3.8/site-packages/sklearn/preprocessing/_data.py\u001b[0m in \u001b[0;36mpartial_fit\u001b[0;34m(self, X, y, sample_weight)\u001b[0m\n\u001b[1;32m    764\u001b[0m         \"\"\"\n\u001b[1;32m    765\u001b[0m         \u001b[0mfirst_call\u001b[0m \u001b[0;34m=\u001b[0m \u001b[0;32mnot\u001b[0m \u001b[0mhasattr\u001b[0m\u001b[0;34m(\u001b[0m\u001b[0mself\u001b[0m\u001b[0;34m,\u001b[0m \u001b[0;34m\"n_samples_seen_\"\u001b[0m\u001b[0;34m)\u001b[0m\u001b[0;34m\u001b[0m\u001b[0;34m\u001b[0m\u001b[0m\n\u001b[0;32m--> 766\u001b[0;31m         X = self._validate_data(X, accept_sparse=('csr', 'csc'),\n\u001b[0m\u001b[1;32m    767\u001b[0m                                 \u001b[0mestimator\u001b[0m\u001b[0;34m=\u001b[0m\u001b[0mself\u001b[0m\u001b[0;34m,\u001b[0m \u001b[0mdtype\u001b[0m\u001b[0;34m=\u001b[0m\u001b[0mFLOAT_DTYPES\u001b[0m\u001b[0;34m,\u001b[0m\u001b[0;34m\u001b[0m\u001b[0;34m\u001b[0m\u001b[0m\n\u001b[1;32m    768\u001b[0m                                 force_all_finite='allow-nan', reset=first_call)\n",
      "\u001b[0;32m~/opt/anaconda3/lib/python3.8/site-packages/sklearn/base.py\u001b[0m in \u001b[0;36m_validate_data\u001b[0;34m(self, X, y, reset, validate_separately, **check_params)\u001b[0m\n\u001b[1;32m    419\u001b[0m             \u001b[0mout\u001b[0m \u001b[0;34m=\u001b[0m \u001b[0mX\u001b[0m\u001b[0;34m\u001b[0m\u001b[0;34m\u001b[0m\u001b[0m\n\u001b[1;32m    420\u001b[0m         \u001b[0;32melif\u001b[0m \u001b[0misinstance\u001b[0m\u001b[0;34m(\u001b[0m\u001b[0my\u001b[0m\u001b[0;34m,\u001b[0m \u001b[0mstr\u001b[0m\u001b[0;34m)\u001b[0m \u001b[0;32mand\u001b[0m \u001b[0my\u001b[0m \u001b[0;34m==\u001b[0m \u001b[0;34m'no_validation'\u001b[0m\u001b[0;34m:\u001b[0m\u001b[0;34m\u001b[0m\u001b[0;34m\u001b[0m\u001b[0m\n\u001b[0;32m--> 421\u001b[0;31m             \u001b[0mX\u001b[0m \u001b[0;34m=\u001b[0m \u001b[0mcheck_array\u001b[0m\u001b[0;34m(\u001b[0m\u001b[0mX\u001b[0m\u001b[0;34m,\u001b[0m \u001b[0;34m**\u001b[0m\u001b[0mcheck_params\u001b[0m\u001b[0;34m)\u001b[0m\u001b[0;34m\u001b[0m\u001b[0;34m\u001b[0m\u001b[0m\n\u001b[0m\u001b[1;32m    422\u001b[0m             \u001b[0mout\u001b[0m \u001b[0;34m=\u001b[0m \u001b[0mX\u001b[0m\u001b[0;34m\u001b[0m\u001b[0;34m\u001b[0m\u001b[0m\n\u001b[1;32m    423\u001b[0m         \u001b[0;32melse\u001b[0m\u001b[0;34m:\u001b[0m\u001b[0;34m\u001b[0m\u001b[0;34m\u001b[0m\u001b[0m\n",
      "\u001b[0;32m~/opt/anaconda3/lib/python3.8/site-packages/sklearn/utils/validation.py\u001b[0m in \u001b[0;36minner_f\u001b[0;34m(*args, **kwargs)\u001b[0m\n\u001b[1;32m     61\u001b[0m             \u001b[0mextra_args\u001b[0m \u001b[0;34m=\u001b[0m \u001b[0mlen\u001b[0m\u001b[0;34m(\u001b[0m\u001b[0margs\u001b[0m\u001b[0;34m)\u001b[0m \u001b[0;34m-\u001b[0m \u001b[0mlen\u001b[0m\u001b[0;34m(\u001b[0m\u001b[0mall_args\u001b[0m\u001b[0;34m)\u001b[0m\u001b[0;34m\u001b[0m\u001b[0;34m\u001b[0m\u001b[0m\n\u001b[1;32m     62\u001b[0m             \u001b[0;32mif\u001b[0m \u001b[0mextra_args\u001b[0m \u001b[0;34m<=\u001b[0m \u001b[0;36m0\u001b[0m\u001b[0;34m:\u001b[0m\u001b[0;34m\u001b[0m\u001b[0;34m\u001b[0m\u001b[0m\n\u001b[0;32m---> 63\u001b[0;31m                 \u001b[0;32mreturn\u001b[0m \u001b[0mf\u001b[0m\u001b[0;34m(\u001b[0m\u001b[0;34m*\u001b[0m\u001b[0margs\u001b[0m\u001b[0;34m,\u001b[0m \u001b[0;34m**\u001b[0m\u001b[0mkwargs\u001b[0m\u001b[0;34m)\u001b[0m\u001b[0;34m\u001b[0m\u001b[0;34m\u001b[0m\u001b[0m\n\u001b[0m\u001b[1;32m     64\u001b[0m \u001b[0;34m\u001b[0m\u001b[0m\n\u001b[1;32m     65\u001b[0m             \u001b[0;31m# extra_args > 0\u001b[0m\u001b[0;34m\u001b[0m\u001b[0;34m\u001b[0m\u001b[0;34m\u001b[0m\u001b[0m\n",
      "\u001b[0;32m~/opt/anaconda3/lib/python3.8/site-packages/sklearn/utils/validation.py\u001b[0m in \u001b[0;36mcheck_array\u001b[0;34m(array, accept_sparse, accept_large_sparse, dtype, order, copy, force_all_finite, ensure_2d, allow_nd, ensure_min_samples, ensure_min_features, estimator)\u001b[0m\n\u001b[1;32m    614\u001b[0m                     \u001b[0marray\u001b[0m \u001b[0;34m=\u001b[0m \u001b[0marray\u001b[0m\u001b[0;34m.\u001b[0m\u001b[0mastype\u001b[0m\u001b[0;34m(\u001b[0m\u001b[0mdtype\u001b[0m\u001b[0;34m,\u001b[0m \u001b[0mcasting\u001b[0m\u001b[0;34m=\u001b[0m\u001b[0;34m\"unsafe\"\u001b[0m\u001b[0;34m,\u001b[0m \u001b[0mcopy\u001b[0m\u001b[0;34m=\u001b[0m\u001b[0;32mFalse\u001b[0m\u001b[0;34m)\u001b[0m\u001b[0;34m\u001b[0m\u001b[0;34m\u001b[0m\u001b[0m\n\u001b[1;32m    615\u001b[0m                 \u001b[0;32melse\u001b[0m\u001b[0;34m:\u001b[0m\u001b[0;34m\u001b[0m\u001b[0;34m\u001b[0m\u001b[0m\n\u001b[0;32m--> 616\u001b[0;31m                     \u001b[0marray\u001b[0m \u001b[0;34m=\u001b[0m \u001b[0mnp\u001b[0m\u001b[0;34m.\u001b[0m\u001b[0masarray\u001b[0m\u001b[0;34m(\u001b[0m\u001b[0marray\u001b[0m\u001b[0;34m,\u001b[0m \u001b[0morder\u001b[0m\u001b[0;34m=\u001b[0m\u001b[0morder\u001b[0m\u001b[0;34m,\u001b[0m \u001b[0mdtype\u001b[0m\u001b[0;34m=\u001b[0m\u001b[0mdtype\u001b[0m\u001b[0;34m)\u001b[0m\u001b[0;34m\u001b[0m\u001b[0;34m\u001b[0m\u001b[0m\n\u001b[0m\u001b[1;32m    617\u001b[0m             \u001b[0;32mexcept\u001b[0m \u001b[0mComplexWarning\u001b[0m \u001b[0;32mas\u001b[0m \u001b[0mcomplex_warning\u001b[0m\u001b[0;34m:\u001b[0m\u001b[0;34m\u001b[0m\u001b[0;34m\u001b[0m\u001b[0m\n\u001b[1;32m    618\u001b[0m                 raise ValueError(\"Complex data not supported\\n\"\n",
      "\u001b[0;32m~/opt/anaconda3/lib/python3.8/site-packages/numpy/core/_asarray.py\u001b[0m in \u001b[0;36masarray\u001b[0;34m(a, dtype, order)\u001b[0m\n\u001b[1;32m     81\u001b[0m \u001b[0;34m\u001b[0m\u001b[0m\n\u001b[1;32m     82\u001b[0m     \"\"\"\n\u001b[0;32m---> 83\u001b[0;31m     \u001b[0;32mreturn\u001b[0m \u001b[0marray\u001b[0m\u001b[0;34m(\u001b[0m\u001b[0ma\u001b[0m\u001b[0;34m,\u001b[0m \u001b[0mdtype\u001b[0m\u001b[0;34m,\u001b[0m \u001b[0mcopy\u001b[0m\u001b[0;34m=\u001b[0m\u001b[0;32mFalse\u001b[0m\u001b[0;34m,\u001b[0m \u001b[0morder\u001b[0m\u001b[0;34m=\u001b[0m\u001b[0morder\u001b[0m\u001b[0;34m)\u001b[0m\u001b[0;34m\u001b[0m\u001b[0;34m\u001b[0m\u001b[0m\n\u001b[0m\u001b[1;32m     84\u001b[0m \u001b[0;34m\u001b[0m\u001b[0m\n\u001b[1;32m     85\u001b[0m \u001b[0;34m\u001b[0m\u001b[0m\n",
      "\u001b[0;31mValueError\u001b[0m: could not convert string to float: 'BTC'"
     ]
    }
   ],
   "source": [
    "# Standardize data\n",
    "X_scaled = StandardScaler().fit_transform(X)"
   ]
  },
  {
   "cell_type": "markdown",
   "metadata": {},
   "source": [
    "### Reducing Dimensions Using PCA"
   ]
  },
  {
   "cell_type": "code",
   "execution_count": 71,
   "metadata": {},
   "outputs": [],
   "source": [
    "# Use PCA to reduce dimensions to 3 principal components\n",
    "pca = PCA(n_components=3)\n",
    "crypto_pca = pca.fit_transform(X_scaled)\n",
    "#refer back to 06_Stu_PCA.ipynb (AWS Section)"
   ]
  },
  {
   "cell_type": "code",
   "execution_count": 72,
   "metadata": {},
   "outputs": [
    {
     "output_type": "execute_result",
     "data": {
      "text/plain": [
       "       PC 1      PC 2      PC 3\n",
       "0 -0.342932  0.992067 -0.566360\n",
       "2 -0.326267  0.991984 -0.566460\n",
       "5  2.308849  1.632127 -0.648858\n",
       "7 -0.141418 -1.273432  0.173169\n",
       "8 -0.153502 -1.981737  0.455363"
      ],
      "text/html": "<div>\n<style scoped>\n    .dataframe tbody tr th:only-of-type {\n        vertical-align: middle;\n    }\n\n    .dataframe tbody tr th {\n        vertical-align: top;\n    }\n\n    .dataframe thead th {\n        text-align: right;\n    }\n</style>\n<table border=\"1\" class=\"dataframe\">\n  <thead>\n    <tr style=\"text-align: right;\">\n      <th></th>\n      <th>PC 1</th>\n      <th>PC 2</th>\n      <th>PC 3</th>\n    </tr>\n  </thead>\n  <tbody>\n    <tr>\n      <th>0</th>\n      <td>-0.342932</td>\n      <td>0.992067</td>\n      <td>-0.566360</td>\n    </tr>\n    <tr>\n      <th>2</th>\n      <td>-0.326267</td>\n      <td>0.991984</td>\n      <td>-0.566460</td>\n    </tr>\n    <tr>\n      <th>5</th>\n      <td>2.308849</td>\n      <td>1.632127</td>\n      <td>-0.648858</td>\n    </tr>\n    <tr>\n      <th>7</th>\n      <td>-0.141418</td>\n      <td>-1.273432</td>\n      <td>0.173169</td>\n    </tr>\n    <tr>\n      <th>8</th>\n      <td>-0.153502</td>\n      <td>-1.981737</td>\n      <td>0.455363</td>\n    </tr>\n  </tbody>\n</table>\n</div>"
     },
     "metadata": {},
     "execution_count": 72
    }
   ],
   "source": [
    "# Create a DataFrame with the principal components data\n",
    "pcs_df = pd.DataFrame(\n",
    "    data=crypto_pca, columns=[\"PC 1\", \"PC 2\", \"PC 3\"], index=crypto_df.index\n",
    ")\n",
    "pcs_df.head()"
   ]
  },
  {
   "cell_type": "markdown",
   "metadata": {},
   "source": [
    "### Clustering Crytocurrencies Using K-Means\n",
    "\n",
    "#### Find the Best Value for `k` Using the Elbow Curve"
   ]
  },
  {
   "cell_type": "code",
   "execution_count": 73,
   "metadata": {},
   "outputs": [
    {
     "output_type": "display_data",
     "data": {},
     "metadata": {}
    },
    {
     "output_type": "execute_result",
     "data": {
      "text/html": "<div id='1377'>\n\n\n\n\n\n  <div class=\"bk-root\" id=\"4731da1c-a684-4d91-a240-27c8348eae5f\" data-root-id=\"1377\"></div>\n</div>\n<script type=\"application/javascript\">(function(root) {\n  function embed_document(root) {\n  var docs_json = {\"6f3a2e02-a675-4648-9ba8-f83f68d87375\":{\"roots\":{\"references\":[{\"attributes\":{\"end\":10.0,\"reset_end\":10.0,\"reset_start\":1.0,\"start\":1.0,\"tags\":[[[\"k\",\"k\",null]]]},\"id\":\"1379\",\"type\":\"Range1d\"},{\"attributes\":{\"bottom_units\":\"screen\",\"fill_alpha\":0.5,\"fill_color\":\"lightgrey\",\"left_units\":\"screen\",\"level\":\"overlay\",\"line_alpha\":1.0,\"line_color\":\"black\",\"line_dash\":[4,4],\"line_width\":2,\"render_mode\":\"css\",\"right_units\":\"screen\",\"top_units\":\"screen\"},\"id\":\"1404\",\"type\":\"BoxAnnotation\"},{\"attributes\":{\"ticks\":[1,2,3,4,5,6,7,8,9,10]},\"id\":\"1420\",\"type\":\"FixedTicker\"},{\"attributes\":{},\"id\":\"1421\",\"type\":\"BasicTickFormatter\"},{\"attributes\":{\"text\":\"Elbow Curve\",\"text_color\":{\"value\":\"black\"},\"text_font_size\":{\"value\":\"12pt\"}},\"id\":\"1383\",\"type\":\"Title\"},{\"attributes\":{\"source\":{\"id\":\"1412\"}},\"id\":\"1419\",\"type\":\"CDSView\"},{\"attributes\":{\"callback\":null,\"renderers\":[{\"id\":\"1418\"}],\"tags\":[\"hv_created\"],\"tooltips\":[[\"k\",\"@{k}\"],[\"inertia\",\"@{inertia}\"]]},\"id\":\"1381\",\"type\":\"HoverTool\"},{\"attributes\":{},\"id\":\"1387\",\"type\":\"LinearScale\"},{\"attributes\":{\"margin\":[5,5,5,5],\"name\":\"HSpacer02237\",\"sizing_mode\":\"stretch_width\"},\"id\":\"1378\",\"type\":\"Spacer\"},{\"attributes\":{},\"id\":\"1396\",\"type\":\"BasicTicker\"},{\"attributes\":{\"axis\":{\"id\":\"1391\"},\"grid_line_color\":null,\"ticker\":null},\"id\":\"1394\",\"type\":\"Grid\"},{\"attributes\":{\"end\":3995.559740111608,\"reset_end\":3995.559740111608,\"reset_start\":-265.3427658728565,\"start\":-265.3427658728565,\"tags\":[[[\"inertia\",\"inertia\",null]]]},\"id\":\"1380\",\"type\":\"Range1d\"},{\"attributes\":{},\"id\":\"1425\",\"type\":\"BasicTickFormatter\"},{\"attributes\":{\"axis_label\":\"inertia\",\"bounds\":\"auto\",\"formatter\":{\"id\":\"1425\"},\"major_label_orientation\":\"horizontal\",\"ticker\":{\"id\":\"1396\"}},\"id\":\"1395\",\"type\":\"LinearAxis\"},{\"attributes\":{\"below\":[{\"id\":\"1391\"}],\"center\":[{\"id\":\"1394\"},{\"id\":\"1398\"}],\"left\":[{\"id\":\"1395\"}],\"margin\":null,\"min_border_bottom\":10,\"min_border_left\":10,\"min_border_right\":10,\"min_border_top\":10,\"plot_height\":300,\"plot_width\":700,\"renderers\":[{\"id\":\"1418\"}],\"sizing_mode\":\"fixed\",\"title\":{\"id\":\"1383\"},\"toolbar\":{\"id\":\"1405\"},\"x_range\":{\"id\":\"1379\"},\"x_scale\":{\"id\":\"1387\"},\"y_range\":{\"id\":\"1380\"},\"y_scale\":{\"id\":\"1389\"}},\"id\":\"1382\",\"subtype\":\"Figure\",\"type\":\"Plot\"},{\"attributes\":{},\"id\":\"1389\",\"type\":\"LinearScale\"},{\"attributes\":{\"axis_label\":\"k\",\"bounds\":\"auto\",\"formatter\":{\"id\":\"1421\"},\"major_label_orientation\":\"horizontal\",\"ticker\":{\"id\":\"1420\"}},\"id\":\"1391\",\"type\":\"LinearAxis\"},{\"attributes\":{\"axis\":{\"id\":\"1395\"},\"dimension\":1,\"grid_line_color\":null,\"ticker\":null},\"id\":\"1398\",\"type\":\"Grid\"},{\"attributes\":{},\"id\":\"1399\",\"type\":\"SaveTool\"},{\"attributes\":{\"line_alpha\":0.2,\"line_color\":\"#1f77b3\",\"line_width\":2,\"x\":{\"field\":\"k\"},\"y\":{\"field\":\"inertia\"}},\"id\":\"1417\",\"type\":\"Line\"},{\"attributes\":{},\"id\":\"1400\",\"type\":\"PanTool\"},{\"attributes\":{},\"id\":\"1401\",\"type\":\"WheelZoomTool\"},{\"attributes\":{\"active_drag\":\"auto\",\"active_inspect\":\"auto\",\"active_multi\":null,\"active_scroll\":\"auto\",\"active_tap\":\"auto\",\"tools\":[{\"id\":\"1381\"},{\"id\":\"1399\"},{\"id\":\"1400\"},{\"id\":\"1401\"},{\"id\":\"1402\"},{\"id\":\"1403\"}]},\"id\":\"1405\",\"type\":\"Toolbar\"},{\"attributes\":{\"data\":{\"inertia\":{\"__ndarray__\":\"R997FPhwrEAu1Ah2P1ejQJpegUqYK5dAs870Wz90f0CoKEAr9v5zQDwcDDDmBnBAOCDLUL0GaUDOHqAFd0tiQAl2+Tb0/1xA4fduWOBuVkA=\",\"dtype\":\"float64\",\"shape\":[10]},\"k\":[1,2,3,4,5,6,7,8,9,10]},\"selected\":{\"id\":\"1413\"},\"selection_policy\":{\"id\":\"1432\"}},\"id\":\"1412\",\"type\":\"ColumnDataSource\"},{\"attributes\":{\"overlay\":{\"id\":\"1404\"}},\"id\":\"1402\",\"type\":\"BoxZoomTool\"},{\"attributes\":{},\"id\":\"1403\",\"type\":\"ResetTool\"},{\"attributes\":{\"line_alpha\":0.1,\"line_color\":\"#1f77b3\",\"line_width\":2,\"x\":{\"field\":\"k\"},\"y\":{\"field\":\"inertia\"}},\"id\":\"1416\",\"type\":\"Line\"},{\"attributes\":{\"line_color\":\"#1f77b3\",\"line_width\":2,\"x\":{\"field\":\"k\"},\"y\":{\"field\":\"inertia\"}},\"id\":\"1415\",\"type\":\"Line\"},{\"attributes\":{\"margin\":[5,5,5,5],\"name\":\"HSpacer02238\",\"sizing_mode\":\"stretch_width\"},\"id\":\"1434\",\"type\":\"Spacer\"},{\"attributes\":{},\"id\":\"1413\",\"type\":\"Selection\"},{\"attributes\":{},\"id\":\"1432\",\"type\":\"UnionRenderers\"},{\"attributes\":{\"children\":[{\"id\":\"1378\"},{\"id\":\"1382\"},{\"id\":\"1434\"}],\"margin\":[0,0,0,0],\"name\":\"Row02233\",\"tags\":[\"embedded\"]},\"id\":\"1377\",\"type\":\"Row\"},{\"attributes\":{\"data_source\":{\"id\":\"1412\"},\"glyph\":{\"id\":\"1415\"},\"hover_glyph\":null,\"muted_glyph\":{\"id\":\"1417\"},\"nonselection_glyph\":{\"id\":\"1416\"},\"selection_glyph\":null,\"view\":{\"id\":\"1419\"}},\"id\":\"1418\",\"type\":\"GlyphRenderer\"}],\"root_ids\":[\"1377\"]},\"title\":\"Bokeh Application\",\"version\":\"2.0.2\"}};\n  var render_items = [{\"docid\":\"6f3a2e02-a675-4648-9ba8-f83f68d87375\",\"root_ids\":[\"1377\"],\"roots\":{\"1377\":\"4731da1c-a684-4d91-a240-27c8348eae5f\"}}];\n  root.Bokeh.embed.embed_items_notebook(docs_json, render_items);\n  }\nif (root.Bokeh !== undefined) {\n    embed_document(root);\n  } else {\n    var attempts = 0;\n    var timer = setInterval(function(root) {\n      if (root.Bokeh !== undefined) {\n        clearInterval(timer);\n        embed_document(root);\n      } else if (document.readyState == \"complete\") {\n        attempts++;\n        if (attempts > 100) {\n          clearInterval(timer);\n          console.log(\"Bokeh: ERROR: Unable to run BokehJS code because BokehJS library is missing\");\n        }\n      }\n    }, 10, root)\n  }\n})(window);</script>",
      "application/vnd.holoviews_exec.v0+json": "",
      "text/plain": [
       ":Curve   [k]   (inertia)"
      ]
     },
     "metadata": {
      "application/vnd.holoviews_exec.v0+json": {
       "id": "1377"
      }
     },
     "execution_count": 73
    }
   ],
   "source": [
    "inertia = []\n",
    "k = list(range(1, 11))\n",
    "\n",
    "# Calculate the inertia for the range of k values\n",
    "for i in k:\n",
    "    km = KMeans(n_clusters=i, random_state=0)\n",
    "    km.fit(pcs_df)\n",
    "    inertia.append(km.inertia_)\n",
    "\n",
    "# Create the Elbow Curve using hvPlot\n",
    "elbow_data = {\"k\": k, \"inertia\": inertia}\n",
    "df_elbow = pd.DataFrame(elbow_data)\n",
    "df_elbow.hvplot.line(x=\"k\", y=\"inertia\", xticks=k, title=\"Elbow Curve\")\n"
   ]
  },
  {
   "cell_type": "markdown",
   "metadata": {},
   "source": [
    "Running K-Means with `k=<your best value for k here>`"
   ]
  },
  {
   "cell_type": "code",
   "execution_count": 74,
   "metadata": {},
   "outputs": [],
   "source": [
    "# Initialize the K-Means model\n",
    "def get_clusters(k, data):\n",
    "    model = KMeans(n_clusters=k, random_state=0)\n",
    "# Fit the model\n",
    "    model.fit(data)\n",
    "# Predict clusters\n",
    "    predictions = model.predict(data)\n",
    "# Create a new DataFrame including predicted clusters and cryptocurrencies features\n",
    "    data[\"class\"] = model.labels_\n",
    "    return data"
   ]
  },
  {
   "cell_type": "code",
   "execution_count": 81,
   "metadata": {},
   "outputs": [
    {
     "output_type": "execute_result",
     "data": {
      "text/plain": [
       "       PC 1      PC 2      PC 3  class\n",
       "0 -0.342932  0.992067 -0.566360      2\n",
       "2 -0.326267  0.991984 -0.566460      2\n",
       "5  2.308849  1.632127 -0.648858      4\n",
       "7 -0.141418 -1.273432  0.173169      0\n",
       "8 -0.153502 -1.981737  0.455363      5"
      ],
      "text/html": "<div>\n<style scoped>\n    .dataframe tbody tr th:only-of-type {\n        vertical-align: middle;\n    }\n\n    .dataframe tbody tr th {\n        vertical-align: top;\n    }\n\n    .dataframe thead th {\n        text-align: right;\n    }\n</style>\n<table border=\"1\" class=\"dataframe\">\n  <thead>\n    <tr style=\"text-align: right;\">\n      <th></th>\n      <th>PC 1</th>\n      <th>PC 2</th>\n      <th>PC 3</th>\n      <th>class</th>\n    </tr>\n  </thead>\n  <tbody>\n    <tr>\n      <th>0</th>\n      <td>-0.342932</td>\n      <td>0.992067</td>\n      <td>-0.566360</td>\n      <td>2</td>\n    </tr>\n    <tr>\n      <th>2</th>\n      <td>-0.326267</td>\n      <td>0.991984</td>\n      <td>-0.566460</td>\n      <td>2</td>\n    </tr>\n    <tr>\n      <th>5</th>\n      <td>2.308849</td>\n      <td>1.632127</td>\n      <td>-0.648858</td>\n      <td>4</td>\n    </tr>\n    <tr>\n      <th>7</th>\n      <td>-0.141418</td>\n      <td>-1.273432</td>\n      <td>0.173169</td>\n      <td>0</td>\n    </tr>\n    <tr>\n      <th>8</th>\n      <td>-0.153502</td>\n      <td>-1.981737</td>\n      <td>0.455363</td>\n      <td>5</td>\n    </tr>\n  </tbody>\n</table>\n</div>"
     },
     "metadata": {},
     "execution_count": 81
    }
   ],
   "source": [
    "four_clusters = get_clusters(6, pcs_df)\n",
    "four_clusters.head()\n"
   ]
  },
  {
   "cell_type": "code",
   "execution_count": 82,
   "metadata": {},
   "outputs": [
    {
     "output_type": "execute_result",
     "data": {
      "text/plain": [
       "         Algorithm ProofType  TotalCoinsMined TotalCoinSupply  \\\n",
       "0           Scrypt   PoW/PoS     4.199995e+01              42   \n",
       "2           Scrypt   PoW/PoS     1.055185e+09       532000000   \n",
       "5              X13   PoW/PoS     2.927942e+10    314159265359   \n",
       "7          SHA-256       PoW     1.792718e+07        21000000   \n",
       "8           Ethash       PoW     1.076842e+08               0   \n",
       "9           Scrypt       PoW     6.303924e+07        84000000   \n",
       "10             X11   PoW/PoS     9.031294e+06        22000000   \n",
       "11  CryptoNight-V7       PoW     1.720114e+07               0   \n",
       "12          Ethash       PoW     1.133597e+08       210000000   \n",
       "13        Equihash       PoW     7.383056e+06        21000000   \n",
       "\n",
       "            CoinName      PC 1      PC 2      PC 3  class  \n",
       "0            42 Coin -0.342932  0.992067 -0.566360      2  \n",
       "2            404Coin -0.326267  0.991984 -0.566460      2  \n",
       "5          EliteCoin  2.308849  1.632127 -0.648858      4  \n",
       "7            Bitcoin -0.141418 -1.273432  0.173169      0  \n",
       "8           Ethereum -0.153502 -1.981737  0.455363      5  \n",
       "9           Litecoin -0.172781 -1.159612 -0.010359      0  \n",
       "10              Dash -0.392038  1.291515 -0.528682      2  \n",
       "11            Monero -0.147878 -2.247444  0.418616      5  \n",
       "12  Ethereum Classic -0.151943 -1.981859  0.455363      5  \n",
       "13             ZCash -0.143867 -2.102003  0.338649      5  "
      ],
      "text/html": "<div>\n<style scoped>\n    .dataframe tbody tr th:only-of-type {\n        vertical-align: middle;\n    }\n\n    .dataframe tbody tr th {\n        vertical-align: top;\n    }\n\n    .dataframe thead th {\n        text-align: right;\n    }\n</style>\n<table border=\"1\" class=\"dataframe\">\n  <thead>\n    <tr style=\"text-align: right;\">\n      <th></th>\n      <th>Algorithm</th>\n      <th>ProofType</th>\n      <th>TotalCoinsMined</th>\n      <th>TotalCoinSupply</th>\n      <th>CoinName</th>\n      <th>PC 1</th>\n      <th>PC 2</th>\n      <th>PC 3</th>\n      <th>class</th>\n    </tr>\n  </thead>\n  <tbody>\n    <tr>\n      <th>0</th>\n      <td>Scrypt</td>\n      <td>PoW/PoS</td>\n      <td>4.199995e+01</td>\n      <td>42</td>\n      <td>42 Coin</td>\n      <td>-0.342932</td>\n      <td>0.992067</td>\n      <td>-0.566360</td>\n      <td>2</td>\n    </tr>\n    <tr>\n      <th>2</th>\n      <td>Scrypt</td>\n      <td>PoW/PoS</td>\n      <td>1.055185e+09</td>\n      <td>532000000</td>\n      <td>404Coin</td>\n      <td>-0.326267</td>\n      <td>0.991984</td>\n      <td>-0.566460</td>\n      <td>2</td>\n    </tr>\n    <tr>\n      <th>5</th>\n      <td>X13</td>\n      <td>PoW/PoS</td>\n      <td>2.927942e+10</td>\n      <td>314159265359</td>\n      <td>EliteCoin</td>\n      <td>2.308849</td>\n      <td>1.632127</td>\n      <td>-0.648858</td>\n      <td>4</td>\n    </tr>\n    <tr>\n      <th>7</th>\n      <td>SHA-256</td>\n      <td>PoW</td>\n      <td>1.792718e+07</td>\n      <td>21000000</td>\n      <td>Bitcoin</td>\n      <td>-0.141418</td>\n      <td>-1.273432</td>\n      <td>0.173169</td>\n      <td>0</td>\n    </tr>\n    <tr>\n      <th>8</th>\n      <td>Ethash</td>\n      <td>PoW</td>\n      <td>1.076842e+08</td>\n      <td>0</td>\n      <td>Ethereum</td>\n      <td>-0.153502</td>\n      <td>-1.981737</td>\n      <td>0.455363</td>\n      <td>5</td>\n    </tr>\n    <tr>\n      <th>9</th>\n      <td>Scrypt</td>\n      <td>PoW</td>\n      <td>6.303924e+07</td>\n      <td>84000000</td>\n      <td>Litecoin</td>\n      <td>-0.172781</td>\n      <td>-1.159612</td>\n      <td>-0.010359</td>\n      <td>0</td>\n    </tr>\n    <tr>\n      <th>10</th>\n      <td>X11</td>\n      <td>PoW/PoS</td>\n      <td>9.031294e+06</td>\n      <td>22000000</td>\n      <td>Dash</td>\n      <td>-0.392038</td>\n      <td>1.291515</td>\n      <td>-0.528682</td>\n      <td>2</td>\n    </tr>\n    <tr>\n      <th>11</th>\n      <td>CryptoNight-V7</td>\n      <td>PoW</td>\n      <td>1.720114e+07</td>\n      <td>0</td>\n      <td>Monero</td>\n      <td>-0.147878</td>\n      <td>-2.247444</td>\n      <td>0.418616</td>\n      <td>5</td>\n    </tr>\n    <tr>\n      <th>12</th>\n      <td>Ethash</td>\n      <td>PoW</td>\n      <td>1.133597e+08</td>\n      <td>210000000</td>\n      <td>Ethereum Classic</td>\n      <td>-0.151943</td>\n      <td>-1.981859</td>\n      <td>0.455363</td>\n      <td>5</td>\n    </tr>\n    <tr>\n      <th>13</th>\n      <td>Equihash</td>\n      <td>PoW</td>\n      <td>7.383056e+06</td>\n      <td>21000000</td>\n      <td>ZCash</td>\n      <td>-0.143867</td>\n      <td>-2.102003</td>\n      <td>0.338649</td>\n      <td>5</td>\n    </tr>\n  </tbody>\n</table>\n</div>"
     },
     "metadata": {},
     "execution_count": 82
    }
   ],
   "source": [
    "clustered_df = pd.concat([crypto_df, coin_name, pcs_df], axis=1)\n",
    "clustered_df.head(10)"
   ]
  },
  {
   "cell_type": "markdown",
   "metadata": {},
   "source": [
    "### Visualizing Results\n",
    "\n",
    "#### 3D-Scatter with Clusters"
   ]
  },
  {
   "cell_type": "code",
   "execution_count": 86,
   "metadata": {},
   "outputs": [
    {
     "output_type": "display_data",
     "data": {
      "application/vnd.plotly.v1+json": {
       "config": {
        "plotlyServerURL": "https://plot.ly"
       },
       "data": [
        {
         "hovertemplate": "PC 1=%{x}<br>PC 2=%{y}<br>PC 3=%{z}<br>class=%{marker.color}<extra></extra>",
         "legendgroup": "",
         "marker": {
          "color": [
           2,
           2,
           4,
           0,
           5,
           0,
           2,
           5,
           5,
           5,
           2,
           5,
           2,
           2,
           0,
           2,
           0,
           0,
           2,
           2,
           5,
           5,
           0,
           0,
           0,
           2,
           0,
           0,
           0,
           2,
           0,
           2,
           0,
           0,
           2,
           2,
           5,
           0,
           0,
           0,
           0,
           0,
           2,
           2,
           0,
           0,
           0,
           0,
           0,
           2,
           2,
           0,
           2,
           0,
           0,
           0,
           0,
           2,
           0,
           5,
           2,
           0,
           2,
           2,
           2,
           0,
           0,
           0,
           2,
           2,
           2,
           2,
           2,
           0,
           0,
           0,
           2,
           2,
           0,
           2,
           0,
           2,
           2,
           0,
           0,
           0,
           0,
           2,
           2,
           0,
           2,
           0,
           0,
           2,
           2,
           0,
           2,
           2,
           5,
           5,
           2,
           2,
           0,
           2,
           2,
           0,
           2,
           0,
           2,
           0,
           2,
           0,
           2,
           2,
           0,
           5,
           2,
           5,
           0,
           0,
           2,
           0,
           5,
           0,
           0,
           0,
           2,
           2,
           0,
           5,
           0,
           2,
           0,
           2,
           0,
           0,
           2,
           5,
           2,
           5,
           2,
           2,
           0,
           0,
           2,
           0,
           5,
           2,
           2,
           0,
           2,
           0,
           2,
           2,
           2,
           0,
           5,
           0,
           5,
           2,
           2,
           2,
           2,
           2,
           0,
           0,
           2,
           2,
           2,
           2,
           2,
           0,
           2,
           2,
           2,
           2,
           2,
           0,
           2,
           5,
           2,
           2,
           5,
           2,
           0,
           2,
           2,
           5,
           2,
           0,
           2,
           0,
           2,
           0,
           2,
           2,
           2,
           2,
           5,
           2,
           2,
           2,
           2,
           2,
           5,
           5,
           4,
           2,
           0,
           0,
           2,
           2,
           2,
           2,
           2,
           0,
           2,
           2,
           2,
           2,
           2,
           2,
           2,
           2,
           5,
           2,
           2,
           2,
           2,
           2,
           2,
           0,
           5,
           5,
           2,
           2,
           2,
           2,
           0,
           2,
           5,
           2,
           2,
           0,
           2,
           0,
           5,
           2,
           0,
           5,
           2,
           5,
           2,
           2,
           2,
           0,
           2,
           2,
           0,
           2,
           2,
           2,
           2,
           2,
           2,
           2,
           0,
           2,
           0,
           2,
           2,
           2,
           2,
           0,
           2,
           5,
           2,
           5,
           5,
           5,
           5,
           2,
           0,
           2,
           2,
           0,
           2,
           0,
           0,
           0,
           2,
           5,
           2,
           5,
           5,
           0,
           2,
           0,
           2,
           0,
           2,
           2,
           4,
           0,
           2,
           0,
           0,
           0,
           0,
           0,
           2,
           2,
           5,
           2,
           2,
           2,
           5,
           2,
           0,
           2,
           0,
           2,
           5,
           2,
           2,
           2,
           2,
           5,
           2,
           2,
           0,
           2,
           2,
           2,
           0,
           0,
           5,
           0,
           2,
           4,
           2,
           2,
           5,
           2,
           5,
           5,
           5,
           2,
           2,
           0,
           5,
           2,
           2,
           0,
           2,
           0,
           0,
           0,
           2,
           0,
           0,
           2,
           2,
           2,
           0,
           0,
           0,
           2,
           2,
           2,
           4,
           5,
           2,
           5,
           0,
           5,
           0,
           2,
           3,
           3,
           0,
           0,
           0,
           2,
           3,
           2,
           2,
           2,
           2,
           5,
           5,
           0,
           5,
           2,
           2,
           2,
           5,
           2,
           5,
           2,
           2,
           2,
           4,
           0,
           2,
           2,
           5,
           2,
           2,
           0,
           5,
           2,
           5,
           2,
           5,
           5,
           5,
           5,
           2,
           2,
           5,
           2,
           5,
           2,
           2,
           4,
           2,
           2,
           2,
           0,
           5,
           0,
           2,
           2,
           2,
           2,
           2,
           2,
           0,
           2,
           5,
           5,
           0,
           5,
           2,
           2,
           2,
           2,
           0,
           2,
           2,
           0,
           2,
           2,
           0,
           3,
           5,
           2,
           5,
           0,
           2,
           2,
           5,
           2,
           5,
           5,
           0,
           5,
           0,
           2,
           5,
           2,
           5,
           2,
           2,
           0,
           2,
           2,
           2,
           2,
           2,
           0,
           0,
           0,
           2,
           4,
           2,
           0,
           2,
           0,
           2,
           5,
           2,
           2,
           2,
           2,
           0,
           2,
           2,
           2,
           0,
           2,
           0,
           2,
           0,
           2,
           2,
           2,
           0,
           0,
           2,
           2,
           4,
           2,
           2,
           2,
           5,
           2,
           5,
           4,
           5,
           4,
           2,
           3,
           2,
           1,
           2,
           4,
           2,
           5,
           5,
           2
          ],
          "coloraxis": "coloraxis",
          "symbol": "circle"
         },
         "mode": "markers",
         "name": "",
         "scene": "scene",
         "showlegend": false,
         "type": "scatter3d",
         "x": [
          -0.3429315235569558,
          -0.3262670893234709,
          2.308849114009043,
          -0.14141836625414525,
          -0.1535015029459739,
          -0.17278093704336833,
          -0.39203799631792674,
          -0.14787822920082508,
          -0.15194313681588642,
          -0.14386691382080877,
          -0.29070012271328316,
          0.16410943967037622,
          -0.3103993274344348,
          -0.26088174311044965,
          -0.1739273799210999,
          -0.23238421931348366,
          -0.2232415294536664,
          -0.17354383154563058,
          -0.3425910507265794,
          -0.3351679188033489,
          -0.08934574122904694,
          2.54863841958986,
          -0.138502796145154,
          -0.17079871301201036,
          -0.17334780327935692,
          -0.3414279437697778,
          -0.22092264757905491,
          -0.19487970545862737,
          -0.17339662798970526,
          -0.34292745883891357,
          -0.17390964371070444,
          -0.34291173786023216,
          -0.1739961171357297,
          -0.22333088486368885,
          0.6486746196883443,
          -0.3647940330184206,
          0.1878575774174617,
          0.23649489495148043,
          0.07477777260979619,
          -0.17374237298950063,
          -0.16934687951253044,
          -0.17368164902589653,
          -0.3397923745414642,
          -0.3013505984493135,
          -0.17405312901630107,
          -0.17046423289728863,
          -0.1532715602277266,
          -0.1728480294440156,
          -0.17312550991380823,
          -0.3409899911162091,
          -0.3223420514122617,
          1.5751587591083258,
          -0.3919326818551237,
          -0.1413797308303684,
          -0.17041438378266616,
          -0.17376881882956904,
          -0.17412369425090352,
          -0.4445363105341552,
          -0.1733828138681418,
          -0.14973796835851794,
          -0.03330833217439496,
          -0.17400493780797427,
          -0.27369968081211915,
          -0.29316497826226834,
          -0.27565269093836964,
          -0.03887937885220984,
          -0.1414573511247892,
          -0.16766775642473186,
          -0.2762749623282376,
          -0.3441148716811052,
          -0.3372328090096881,
          -0.34133301290759444,
          0.015245907111208181,
          -0.17398436651054183,
          -0.17207825186240341,
          -0.17347101725679726,
          -0.3422306543307706,
          -0.3923043120504464,
          -0.12860701933633892,
          -0.24179494592910752,
          -0.14092102789626604,
          -0.3067871789787171,
          -0.3922159333103003,
          -0.14120827352428356,
          -0.1411912213541619,
          -0.14178207530414355,
          -0.2235048176610436,
          -0.3181595896552052,
          -0.34160869220631623,
          -0.1737008184590994,
          -0.3169486801747724,
          -0.1920070956445624,
          -0.17080341338010424,
          -0.39218041008194277,
          -0.2422628270283368,
          -0.14098833298317384,
          -0.2760558037534539,
          -0.3340327940885107,
          3.8630190466119543,
          0.46139977334348975,
          -0.01181858407598896,
          -0.325896544832376,
          -0.172568194825224,
          -0.30961091913567856,
          -0.36421554207722673,
          -0.1571637105341791,
          -0.293145251149763,
          -0.17128679519246337,
          -0.276350345199477,
          -0.17412590266466724,
          -0.28779827267892333,
          -0.17115182348022445,
          -0.34291359029500207,
          -0.27630252775956887,
          -0.1573729574396873,
          -0.10521467696010789,
          -0.3426755244154971,
          -0.12335844082094331,
          -0.17495498498679204,
          -0.17399896365289005,
          -0.34264792621308543,
          -0.046911779906050936,
          -0.11870869127378571,
          -0.1741347981730709,
          -0.14148513215578384,
          0.47818826725067154,
          -0.3922858390948249,
          -0.4842836658627144,
          -0.22289189620017122,
          -0.150712634012726,
          -0.14122493155995672,
          -0.4040416031805091,
          -0.22317684197771978,
          -0.3386434631554629,
          -0.17225815188052487,
          -0.17145025528661384,
          -0.2915465330310508,
          -0.15456908064589445,
          -0.27582407897716066,
          0.3768710718211756,
          -0.30295437691704213,
          -0.2348262186051973,
          -0.2232122477788112,
          -0.1413808533235742,
          -0.076777114473354,
          -0.17009195747466074,
          -0.1502242167119067,
          -0.3103702384690488,
          -0.06969631313470462,
          -0.17269789308720349,
          -0.31043395022294085,
          0.27717555647858183,
          -0.2349908328790316,
          -0.3425237731457903,
          -0.2914154500441453,
          -0.2223728016302054,
          -0.15012775472590145,
          -0.17294527367975235,
          -0.14604211795270367,
          -0.389454392381121,
          0.8602050124914006,
          -0.3102339650297483,
          -0.08220371264102165,
          -0.3394755975312971,
          -0.17392466559573452,
          -0.22317547840604304,
          -0.39012854804254754,
          -0.30897720987005345,
          -0.3066449235441658,
          -0.3563615540582894,
          -0.39102077293385906,
          -0.1741348566780704,
          -0.3510765892432519,
          -0.3188159940384602,
          -0.3425618724391809,
          -0.341000666301565,
          -0.2255268021786739,
          -0.22332546852567503,
          -0.33016446275515504,
          -0.23762218879353633,
          -0.3917596448905503,
          -0.34176597576049583,
          0.30627574183873274,
          -0.3104148903812512,
          -0.14164098153936397,
          -0.39227502676531345,
          -0.34275107555885415,
          -0.10342729682749661,
          -0.3429078228152462,
          -0.17130102780850656,
          -0.29140523618015796,
          -0.14159960513932893,
          -0.24985991670543964,
          -0.173798187500172,
          0.03873457415432286,
          -0.3384325211242392,
          -0.3425219410716246,
          -0.37843461403550305,
          -0.14546299712463528,
          -0.3377611252071217,
          -0.22695773558423563,
          -0.41876372372181625,
          -0.33750979408144477,
          -0.27583464787212036,
          -0.15431119639732638,
          -0.14388853363801915,
          3.719360177744976,
          -0.3918675035455911,
          -0.10084252792199004,
          -0.2099066480948208,
          0.8559782348299104,
          -0.39222993125071404,
          -0.3388963401113909,
          -0.34244945253327796,
          -0.34260379081627607,
          -0.2211531599351373,
          -0.3394755975312971,
          -0.3918047414403638,
          -0.31027755053022377,
          -0.3424501936519943,
          -0.36944809853901894,
          -0.34259760374626647,
          -0.3381846123079611,
          -0.3922589269440038,
          0.30627011482099326,
          -0.34180811912194786,
          0.35020123370284156,
          -0.3427969138583388,
          -0.3428675011885487,
          -0.34494105717223744,
          -0.3428892106832153,
          -0.17411659033006485,
          0.30640085104409787,
          -0.15125319740114634,
          -0.3390934223898916,
          -0.31039130171703916,
          -0.3921688653622625,
          -0.3426452748350223,
          0.49209991541719117,
          -0.3427722388459694,
          -0.14664261111414373,
          -0.29305170036471,
          -0.2990328310042214,
          -0.17408487283932558,
          -0.22672555516367895,
          -0.21605773181345259,
          -0.1439009135776798,
          -0.3236229437043828,
          -0.17221781458394816,
          -0.150971531731398,
          -0.29279282441791293,
          -0.1406158021231243,
          -0.3914344524887152,
          -0.4203318233990164,
          -0.3901726875734828,
          -0.14500128861498293,
          -0.33772189114021184,
          -0.3913323274926842,
          -0.1887687182509892,
          -0.33212097020989084,
          -0.3872725325310328,
          -0.3427155203864138,
          -0.34271470338081034,
          -0.3358348289699312,
          0.27190551302648175,
          -0.3918109102188196,
          -0.17364716568576846,
          -0.27569025486096965,
          -0.10795960529305947,
          -0.33950988583693786,
          -0.34192605153981853,
          0.8997464460561578,
          -0.2595718479704225,
          -0.1734691755917977,
          -0.3498547558822037,
          -0.1465003994393951,
          0.5975146014255293,
          -0.16783390972733775,
          -0.02348289683467533,
          -0.12688009560924915,
          0.34239849350997026,
          -0.35789743159408693,
          -0.22238118213266478,
          -0.356399407100105,
          -0.4156461315408985,
          -0.17378852432559713,
          -0.2759875716826131,
          -0.1735518255886382,
          -0.22277594792514285,
          -0.2233535100786211,
          0.12210871004574837,
          0.3066651820300266,
          -0.2760583614677405,
          -0.14685424265424685,
          3.2361767665128527,
          -0.11576068299408951,
          -0.3250219580725844,
          -0.21422351687959137,
          -0.41515096750566444,
          -0.1414175303643824,
          -0.3920833502176002,
          -0.2931259450620551,
          4.372705147234393,
          -0.09968967386314748,
          -0.33937611729339484,
          1.5731079110148516,
          -0.17388638375650528,
          -0.17333790034624785,
          -0.17303882320109423,
          -0.1730257524526921,
          -0.34235065481882515,
          -0.34285042832913165,
          0.3068488460320414,
          -0.34877331440655923,
          0.667582099420284,
          -0.3920241557022987,
          0.06847101994992282,
          -0.3391132431793712,
          -0.1777330379912603,
          -0.3428060283182398,
          -0.17515384210839027,
          -0.31209517091370204,
          -0.14374694161062257,
          0.42641069206893467,
          -0.3087373328574144,
          -0.3426616414925823,
          -0.3918443216246436,
          -0.14888658078771516,
          -0.3427563571778499,
          -0.3928367044974102,
          -0.17221602350934512,
          -0.3369217448427331,
          -0.34262674933844944,
          -0.08733970852362054,
          -0.2188970769674049,
          -0.17499921844273092,
          -0.152675966749881,
          -0.175099447969659,
          -0.3908165788673621,
          3.724217024104549,
          0.20167894295256095,
          -0.27272870189338283,
          -0.11358842644817548,
          -0.3400865851518787,
          1.1443942890133962,
          0.30625287484076996,
          -0.07754707137286292,
          -0.30820679260271605,
          -0.3448269448889238,
          -0.2186384430909,
          -0.13561028980401835,
          0.07160647778767956,
          -0.3417650681985369,
          -0.0902592393019976,
          -0.3913978659127783,
          1.0975203182851205,
          -0.2233275045643462,
          -0.17515140569476698,
          -0.3439915043535179,
          -0.1681879648389981,
          -0.1731372502484653,
          -0.32932888406297084,
          -0.34287256222395374,
          -0.3426474501570299,
          -0.2232528996502964,
          -0.1413969258521989,
          -0.19914566184469737,
          -0.3513585418696129,
          -0.2741165779236437,
          -0.31018112297219114,
          8.0459578641541,
          -0.15858905509417992,
          -0.33841715799498184,
          0.31012808469011544,
          0.01893904722135271,
          -0.14838978178302314,
          -0.17756240537175086,
          -0.21851974936512233,
          -0.20209241227911262,
          -0.3613305903425013,
          -0.17371106957954222,
          0.13342065257651628,
          -0.21739264203235226,
          -0.367964502103704,
          -0.437200303260752,
          -0.3921005823625205,
          -0.29745406907530486,
          -0.29228574410992053,
          -0.2984577826396772,
          -0.1057030490252536,
          0.314177887173108,
          -0.17394812727089717,
          -0.16706163203511779,
          -0.3574963141306593,
          -0.3428999206107625,
          -0.3428816278912336,
          -0.14273786041747372,
          -0.28666625642136273,
          -0.14324598287792575,
          -0.33061806440302943,
          -0.33897050952863517,
          -0.34259808685460197,
          3.9217917144776298,
          -0.2224219598572863,
          -0.3915046004571885,
          -0.33915920484153345,
          0.30643542227881104,
          -0.3064684764851531,
          -0.28945789806269506,
          -0.18882821095947683,
          -0.15109840185029455,
          -0.24394563967039062,
          -0.1419069551098128,
          -0.29282011627499327,
          -0.14554739394178612,
          0.31036464702693095,
          0.5813532332671144,
          2.115313367941886,
          -0.14598400159985547,
          -0.2930721819993543,
          -0.145346533869683,
          -0.3411632836911107,
          0.3200429748905205,
          -0.34207201450204644,
          -0.18471570492297487,
          2.2085935717061855,
          -0.3405338535850652,
          -0.2596996820674195,
          1.0200686395580727,
          -0.18725491536250957,
          -0.15376839464664915,
          -0.22330966143286507,
          -0.35525906172680116,
          -0.3449404871129702,
          -0.3945212074231719,
          -0.1737755613487924,
          -0.361477556484582,
          -0.3436598175172904,
          -0.17397271135557554,
          -0.33577491433917095,
          -0.13548950768181764,
          -0.15317983072553823,
          -0.12743067045152126,
          3.1043954329798127,
          -0.3422247832371594,
          -0.39157384276093743,
          -0.29031718031323944,
          -0.33825878716004776,
          -0.10123828329643504,
          -0.34472677351004294,
          -0.342086103957555,
          -0.22328101989783597,
          -0.2023504562790602,
          -0.38394791226439673,
          -0.18668249684712931,
          -0.3405702810989452,
          -0.03847299756994464,
          -0.24799303589543703,
          -0.14494500511375477,
          -0.14141756793471452,
          0.574740009435448,
          -0.13257945087724926,
          0.38621286538538485,
          -0.39381571957728206,
          -0.1380812023748809,
          -0.13847334612409776,
          -0.26252749367219713,
          -0.1447760931836121,
          -0.17286478057390894,
          -0.3426020700397871,
          -0.14180658625337622,
          -0.3942719171274687,
          -0.14357973024517667,
          -0.34505748274108605,
          0.5640726863394944,
          -0.17416577012909165,
          -0.3427017717760401,
          -0.3420848777465078,
          -0.2919087086566551,
          -0.2958737786570279,
          -0.3891378828961268,
          -0.1406935793643131,
          -0.107646188888265,
          -0.13956128180416852,
          -0.39180112138279793,
          3.7364604226668843,
          0.09240507412851322,
          0.5221186602944586,
          -0.38934056449571264,
          -0.10030386257254649,
          -0.34147019020934094,
          -0.08892637032554969,
          -0.3422954127184521,
          -0.2609143674727873,
          -0.3428138504216601,
          -0.38342767424066204,
          -0.15752356315686597,
          -0.2564977827466333,
          -0.09003639854967131,
          -0.37917511749883615,
          -0.14120764389334156,
          -0.3420920859161449,
          0.5418395724434224,
          -0.33515535342905467,
          -0.19444063043862897,
          -0.3883692233530164,
          -0.3405309790552844,
          -0.33975126590841415,
          -0.1740495743827588,
          -0.17200486841229945,
          -0.3786429624865064,
          -0.30891416433858043,
          3.719752064873606,
          -0.10032594515793718,
          -0.3377253459101934,
          -0.3437406363747933,
          -0.12409341950129811,
          -0.27645757180852165,
          -0.1268683848578251,
          3.7296208491310527,
          -0.15434436071776048,
          3.7308651023020953,
          -0.24180835370972525,
          -0.427923234516568,
          -0.33968712670750334,
          34.06810130724786,
          -0.33399991208301333,
          2.474933945573113,
          -0.3409764503314509,
          0.3280140149750732,
          -0.14386797090640002,
          -0.29346873261249834
         ],
         "y": [
          0.9920673035833277,
          0.9919840539691658,
          1.6321273690407307,
          -1.2734319987365408,
          -1.9817371375013546,
          -1.1596120133861034,
          1.291515491262507,
          -2.2474442940166046,
          -1.9818587173818774,
          -2.102003234788444,
          1.5057023282823208,
          -1.8454762002995138,
          0.8782076311366781,
          0.63751128359824,
          -1.1595875388845942,
          1.8556300700016204,
          -0.8601266892564072,
          -1.1596112946461696,
          0.9920614136432322,
          0.9922045175649387,
          -1.8364637365838061,
          -1.3841350382731579,
          -1.2734861297199476,
          -1.1596948572994978,
          -1.1596333938900618,
          0.9920938778825767,
          -0.4821338907483455,
          -1.2017081375608312,
          -1.159597449138235,
          0.9920670203995421,
          -1.1595872254148087,
          0.9920669431986845,
          -1.159583172306099,
          -0.8601268483101894,
          0.17828080328112275,
          0.9499722448111038,
          -1.8419000506487737,
          -1.2816500918248381,
          -1.16476345454487,
          -1.1595842690720521,
          -1.1597045555607277,
          -1.1595910070123356,
          1.546232307961162,
          0.25866599440391536,
          -1.159582827757806,
          -1.611463088144956,
          -1.1602163403331012,
          -1.1596032576809536,
          -1.1596097565578347,
          0.9920164054328362,
          1.0511846524084947,
          -1.1929949607979116,
          1.2915173525903432,
          -1.2734313158940525,
          -1.159699015080731,
          -1.159584026368959,
          -1.159577054943997,
          1.9426436311583337,
          -1.159592826468456,
          -2.012916868135525,
          0.7559613166044937,
          -1.1595810984670736,
          0.8771539924964734,
          0.7513571206664009,
          1.8095355379044622,
          -1.1678373913725957,
          -1.2734326877551498,
          -1.1597013000703582,
          1.8095245398798083,
          0.5403306387594754,
          0.9918697778075077,
          0.9920259652168874,
          0.9983977315860427,
          -1.159588546065586,
          -1.1597174718693652,
          -1.1596009183584137,
          1.0508331412370004,
          1.2915264060393512,
          -1.273821233649599,
          0.07523972137816687,
          -1.2734416800556267,
          1.5287118372469308,
          1.2915208676865764,
          -1.2734431978019725,
          -1.2734698804831706,
          -1.273423692212694,
          -0.8601171404747283,
          0.9913689517770808,
          0.9920196726471631,
          -1.159584954851025,
          0.24556896669455275,
          -1.200665511231104,
          -1.1597058907899043,
          1.2915246910050582,
          0.07530246273505053,
          -1.2734414408934356,
          1.8095284132884975,
          0.9915144728842078,
          -2.3268247142984806,
          -2.2630544047807466,
          0.29580630752017467,
          1.4003062076062,
          -1.1596232508373063,
          0.8781889005488329,
          0.9499855793282137,
          -1.1604693250947489,
          0.7513689588526307,
          -1.1596441087877833,
          1.809514686280427,
          -1.159578001492089,
          0.7511084079134979,
          -1.1596371885552128,
          0.9920676205656274,
          1.8095169516196186,
          -1.1599901506494972,
          -2.1967028712366217,
          1.0508110764655418,
          -1.8356446632921175,
          -1.4215691752717856,
          -1.1595762858206864,
          0.9920581137751552,
          -1.164428821654532,
          -2.2864878079136903,
          -1.1595767324460249,
          -1.2734331787570965,
          -1.213376967089949,
          1.2915267332404794,
          2.018541721307516,
          -0.8601297412275999,
          -2.2344738820028582,
          -1.2734518430729498,
          1.8810062517969208,
          -0.8601262560768209,
          0.9974868760315501,
          -1.159692417572962,
          -1.159706372657774,
          0.7513262039094293,
          -1.9817680112185567,
          1.8094970034484776,
          -2.1777861965235723,
          0.8776447286695487,
          1.8558167731214046,
          -0.8601233313045801,
          -1.2734313357329976,
          1.084236201579659,
          -1.1596539618269999,
          -2.246738669018112,
          0.8782081452550573,
          1.2783748430442656,
          -1.1596105456672088,
          0.878215185442572,
          -1.2813758275395875,
          1.5480006372123796,
          0.9920446857052354,
          0.7512425603639254,
          -0.8601567822007111,
          -2.11149112062877,
          -1.1596748163099027,
          -2.0599011266094394,
          1.291304095190143,
          0.7014526909769153,
          0.878197771828095,
          0.19224259161011906,
          1.5462237045405929,
          -1.1595867808047322,
          -0.8601290724045556,
          1.2915116031872824,
          0.8780902294402495,
          0.8779168027135015,
          1.545791621446058,
          1.291450387164387,
          -1.1595767313284187,
          1.4354216991021576,
          0.9910733077358385,
          0.9920423554225123,
          0.9920304188971114,
          1.5687011741483865,
          -0.8601317233299565,
          1.050579858892071,
          -1.7354150668097603,
          1.2915005278531815,
          0.9920239938863502,
          -2.2587020992582967,
          0.8782080661840284,
          -1.2734279345952877,
          1.2915247940169674,
          0.9920555806067249,
          -1.836144528499827,
          0.9920677225000656,
          -1.1596682298675427,
          0.7513997118775106,
          -1.2734278440367994,
          0.1959207997417439,
          -1.1595916464996003,
          1.8934244068751465,
          1.5462037941019375,
          0.9920745425740705,
          1.2907063794819116,
          -2.173007637498525,
          1.5462398040596808,
          1.5688161298509111,
          2.012106025687934,
          1.5460589081191978,
          1.8967367856875097,
          -1.9817700567569687,
          -2.102003616897097,
          2.198444633637562,
          1.291512823696796,
          -1.1653819937044911,
          -0.8602318598609835,
          1.8289323922424905,
          1.2915249850818893,
          1.5462126391300801,
          0.992048456217542,
          0.9920432714729134,
          -0.8602374816431974,
          1.5462237045405929,
          1.2914926297480012,
          0.8782112036354547,
          0.9920523771110981,
          0.9176508772062998,
          0.9920533223194415,
          0.9916891625026137,
          1.2915236583514622,
          -2.2587100098858355,
          0.9919849032733151,
          0.7396503987056176,
          0.9920604513156127,
          0.9920660805799373,
          1.4288875948236317,
          0.7300336832939103,
          -1.159577898178167,
          -2.258710539681306,
          -2.234443819696103,
          0.9917800847762863,
          0.8782084830900839,
          1.2915221582945393,
          0.9920581606356116,
          -0.9184802298100689,
          0.9920545438006044,
          -2.247553825474224,
          0.7513315563910894,
          0.22247495179877078,
          -1.159577796129181,
          1.5688116945660482,
          -0.8606956275532842,
          -2.102000995272653,
          0.9916984565817355,
          -1.1596134224696593,
          -2.2344466527133418,
          0.7513507412030926,
          -2.2474378562890482,
          1.291470769959992,
          2.137664885070851,
          1.2914859693245753,
          -1.1619018143979292,
          1.546190583976599,
          1.2914725749171898,
          -0.605843606720298,
          1.5460838496126161,
          1.2912602849840025,
          0.9920560583802684,
          0.9920508266363549,
          0.9914826237193951,
          0.5936786263576276,
          1.291506722858512,
          -1.1595928974140193,
          0.7502572447098387,
          -1.274601003532879,
          1.5462159974603211,
          0.992010513103871,
          1.8119782662248802,
          0.6374012298550883,
          -1.1596156560318296,
          1.4353960716779997,
          -2.2474945034750484,
          1.740557646647782,
          -2.2029795925421594,
          -2.1851036894846025,
          -2.2917550565091624,
          -2.2594767784204115,
          1.5458212848962303,
          -0.8601682920277152,
          1.5457696492251363,
          1.9656110801503732,
          -1.1595838610946074,
          1.8095083160158756,
          -1.1596192471085136,
          -0.8601468648433956,
          -0.8601278872844301,
          0.9647810810269043,
          -2.2587264609947932,
          1.8095149483504975,
          -2.34226643544572,
          -1.2413238203821606,
          -1.0774892874885993,
          1.5055200063938652,
          -0.8607342203257332,
          1.9656198316796192,
          -1.2734319839630235,
          1.2915235608504296,
          0.7513569400254213,
          3.114781266999018,
          -1.165716671599222,
          1.546195922333183,
          -1.128695524599652,
          -1.1595861042114988,
          -1.1596218571556183,
          -1.1596279329761041,
          -1.1596277019636942,
          0.9920433058103933,
          0.9920657544413478,
          -2.258747989756424,
          1.5071678366311123,
          1.3368009117751334,
          1.291512185347176,
          -2.1131477062430717,
          0.540137671895361,
          -0.860586362408015,
          0.9920583492680917,
          -1.6113265492745623,
          0.7103033006878862,
          -2.10200111439958,
          0.9879119861894671,
          0.8781816168928648,
          1.5452455350717569,
          1.7703774440409414,
          -2.111558875399642,
          0.9920554872593895,
          1.6694879847202861,
          -1.1596133908142066,
          1.5606925431699157,
          0.9920621889362915,
          0.6341963800078442,
          -0.8602842406711947,
          -1.6113365983796208,
          -1.9819213768995199,
          -1.6113289964255457,
          1.2914504455559785,
          2.1982641834627996,
          1.5344151326533053,
          1.8094380940435801,
          -1.8359406585939613,
          0.9919684626112466,
          -2.304241175225784,
          -2.258704278676811,
          -1.9874957876157326,
          1.3051086695713778,
          1.4288860611097713,
          -0.8604216909510437,
          -2.2479372091496272,
          0.9638885045650555,
          0.9919814035140917,
          -1.1616444102831343,
          1.2915069219348985,
          -1.1135308814225642,
          -0.8601280667591533,
          -1.6113222455721368,
          1.4288298159984278,
          -1.6115393149104145,
          -1.1596041087282516,
          0.9916686204783445,
          0.992065505268262,
          1.0508108625431156,
          -0.8601290205338901,
          -1.2734310275697374,
          -1.196780433001445,
          1.435422751779828,
          -0.07082139516417266,
          0.1915505071800933,
          -2.8320107301343174,
          -2.217387613618954,
          0.9919823457158593,
          -2.2588655077913566,
          -1.163264974124252,
          -2.1115101111759307,
          -1.2011316843578155,
          1.568398952675966,
          3.071416356751664,
          3.5011958750544934,
          -1.159597207846207,
          -1.1672114803945455,
          -0.8603641673191575,
          0.9548653708731984,
          2.5895786855554035,
          1.2915122547961202,
          1.466501174361809,
          0.7512960965276869,
          1.4432252344889072,
          -1.985508042306739,
          -2.2592654425466505,
          -1.159587905573258,
          -2.041696056791455,
          1.5457999699713443,
          0.9920657318430035,
          0.9920646349347815,
          -2.102018075135276,
          0.751128415169034,
          -2.1731662897637505,
          1.4627442318879846,
          1.5461843441985315,
          0.9920518935672346,
          2.1885364740380613,
          -0.8601690127332271,
          1.669511528327328,
          1.5461866900525392,
          -2.258705241963922,
          0.5816324891266869,
          0.9893752637041208,
          -0.6058253063618768,
          -2.2344526443801476,
          1.172486643949937,
          -2.1391868199415143,
          0.7513562425077112,
          -2.173001388962946,
          -2.2590487953714464,
          -2.3369717764210027,
          -2.357381731892332,
          0.9883050640245632,
          0.7513390055743014,
          -2.2787066124612623,
          1.900841218883805,
          -2.259161782985298,
          0.9920228455988289,
          1.615078923773075,
          0.10251002585209001,
          1.4285145698748947,
          0.6374698548001752,
          1.8383939942868142,
          -1.329292893839937,
          -2.2478567365762876,
          -0.8601286035278948,
          0.822321769589114,
          1.4288833442576083,
          1.6695965764297933,
          0.7414920947188666,
          0.9509885456984828,
          1.4288498803691327,
          -1.15958912492723,
          0.9914836826505898,
          -2.2484680227817875,
          -2.305525596689301,
          -0.6852272576099946,
          -2.423266427363752,
          1.0507941891245767,
          1.291503811720053,
          0.751234314389558,
          1.546110290141032,
          -1.2741981681366674,
          1.0763815105644259,
          1.0507646853328076,
          -0.8601309377449001,
          0.9817700096685031,
          1.6677404969945258,
          -1.3293381114961658,
          3.132536417751717,
          -2.1055224027007093,
          1.225804182391877,
          -2.173042935198016,
          -1.2734319846270414,
          1.0026788823755215,
          1.0545385166438666,
          -2.2630198530050065,
          1.6695743572113622,
          -2.1283964743699944,
          -2.1283466738272807,
          -0.19111144870520855,
          -2.1252350394596915,
          -1.1596390590841834,
          0.9920582141302953,
          -2.1021385244010626,
          1.6695911225532722,
          -2.1020051792224446,
          1.4288866945923133,
          0.9549817019184691,
          -1.4216262373757653,
          1.050810825601749,
          0.9920226182538441,
          1.4662867360377652,
          1.8981621419155832,
          1.2912841253313316,
          -1.2734497234485511,
          -0.34212351589090634,
          -1.2735035623362878,
          1.291513996935153,
          2.1981255198535834,
          0.9749077020875802,
          -1.2169321932538977,
          1.2915787880242646,
          -1.6128249053379635,
          0.9919511098439678,
          -2.1324238135499263,
          0.992040018593104,
          0.6375046710868156,
          0.9920693833681664,
          1.2913282390101055,
          -1.1599928124549694,
          0.9861388113745136,
          0.8819830276256845,
          1.2910483452611408,
          -1.2734431866738753,
          0.9920714882310372,
          -1.1824275051547843,
          0.9919206968953096,
          -1.2017152895932282,
          1.2914482532777622,
          0.9919961137370763,
          1.5462266435532732,
          -1.159578336839529,
          -1.1596678876227458,
          0.8685940232511544,
          0.8781749410388595,
          2.1984267640548327,
          0.7476695043042106,
          0.9919462855352587,
          0.5402972042838354,
          -1.8356596416046942,
          1.809521227226996,
          -2.126303059550023,
          2.198714744104843,
          -1.9817694232271559,
          2.1987367350356077,
          0.6371471561466749,
          3.4992874851253477,
          1.5462280369492236,
          1.4243236349416926,
          1.8641883329977376,
          0.9968720367216084,
          0.9919243308589,
          -2.2593051036483836,
          -2.1020032534713753,
          0.7513625315343261
         ],
         "z": [
          -0.566360107848767,
          -0.5664601136370052,
          -0.6488582892744112,
          0.17316894126569224,
          0.45536262369878755,
          -0.01035869539069428,
          -0.5286815906601091,
          0.41861646115133344,
          0.455363420405198,
          0.3386493735860504,
          -0.09062128274150184,
          0.36590522777290974,
          -0.38283647193642595,
          -0.0179363310230865,
          -0.0103534873740836,
          -0.6005684786205135,
          0.027325239395697754,
          -0.01035384135141442,
          -0.566361777480014,
          -0.5664223946664759,
          0.36673540410915856,
          -0.00787892705355096,
          0.1731549731340287,
          -0.010364085796865936,
          -0.010353134181069555,
          -0.5663721709585905,
          0.09082462939155912,
          0.12808919287998421,
          -0.01035602512619886,
          -0.5663601087972098,
          -0.010353629670361015,
          -0.5663602032602916,
          -0.010353433676653609,
          0.02732582962683504,
          -0.2766784709279482,
          -0.42791383768184876,
          0.3654331951302694,
          0.1714655777814732,
          -0.011495201105674957,
          -0.01035497167073402,
          -0.01037258037681286,
          -0.010354762221354443,
          -0.0012759618201671082,
          -0.3623575796421183,
          -0.010353096867347386,
          0.17277409350268438,
          -0.010430569778138882,
          -0.010359043737444245,
          -0.010356675311749958,
          -0.5663680849852402,
          -0.16394413083952344,
          -0.018649879405419765,
          -0.5286824355900983,
          0.17316863129660595,
          -0.010366192637579406,
          -0.010354822828041808,
          -0.010353156799169866,
          -0.7314296767047421,
          -0.010356526450403278,
          0.5833838443937686,
          -0.20354617295663344,
          -0.010353561766167179,
          -0.382979095067722,
          -0.20146033801139762,
          -0.6480188227717244,
          -0.01048834292627196,
          0.17316925403837022,
          -0.010383695490316147,
          -0.6480138303353247,
          -0.38321495877996037,
          -0.5663792294876436,
          -0.5663667262136084,
          -0.5692337383474194,
          -0.01035303017497699,
          -0.010353820153230954,
          -0.01035523616263227,
          -0.1637845660792241,
          -0.5286808472320704,
          0.1731210641550176,
          0.17577498539001093,
          0.1731665985029812,
          -0.29084127266060744,
          -0.5286809230484937,
          0.17316858564360546,
          0.17317085538623717,
          0.17317054517250086,
          0.027326085131376528,
          -0.5664575227484937,
          -0.5663643877988251,
          -0.010355178399021527,
          -0.2288858204586112,
          0.25438993835190493,
          -0.01036307148247776,
          -0.528681493034965,
          0.17577240613606204,
          0.1731670110681033,
          -0.6480155886280308,
          -0.5663681713994088,
          0.37128247975927103,
          0.38752434138937375,
          -0.1387293536892206,
          0.004858494530097488,
          -0.010359064669793581,
          -0.38283988408350705,
          -0.42791875625767073,
          -0.010382916082367733,
          -0.20146152096457612,
          -0.010365465248982235,
          -0.6480124655807935,
          -0.010353058145126073,
          -0.20147275422583655,
          -0.010366952544056313,
          -0.5663602517286344,
          -0.6480129758770794,
          -0.010424301905389744,
          0.352713890852349,
          -0.1637797303143671,
          0.3668816248571953,
          0.22317785919642233,
          -0.010354029491492467,
          -0.5663611165257751,
          -0.010740551013746484,
          0.37117389586943844,
          -0.010353113977408311,
          0.17316947692348553,
          -0.009760305531556277,
          -0.5286809955025294,
          -0.6848809712470956,
          0.027323257608221352,
          0.3527466169266463,
          0.17316946405394346,
          -0.8176884194831041,
          0.02732478374324714,
          -0.044938308114780744,
          -0.010354894841172697,
          -0.010358858522366083,
          -0.20146801433069442,
          0.4553722594810827,
          -0.648014281224074,
          0.4026651878581898,
          -0.38283426519190794,
          -0.6005693867850439,
          0.027324751149882174,
          0.1731686403022843,
          -0.36587131671911416,
          -0.010372289254685743,
          0.37602828557005424,
          -0.38283670531499997,
          -0.5295876878051164,
          -0.010359361646086852,
          -0.3828369224587069,
          0.17117886239618943,
          -0.5679990364997164,
          -0.566360719330151,
          -0.20146139970168053,
          0.027322322796297076,
          0.41996934794184604,
          -0.010352034938224591,
          0.3687594783232779,
          -0.5286793931556307,
          -0.20444506467879067,
          -0.38283665868135336,
          -0.27321189994818684,
          -0.0012772366924737382,
          -0.010353572481198064,
          0.02732502612456235,
          -0.528693553514315,
          -0.3828351695064669,
          -0.3828347381011505,
          -0.5670195886372422,
          -0.5286823421229777,
          -0.010353113699917826,
          0.04344997173239464,
          -0.5664269243508666,
          -0.5663602658917469,
          -0.5663692659447739,
          -0.28311029454384207,
          0.02732622948397295,
          -0.16383976422509328,
          0.27787667130602306,
          -0.5286820506045711,
          -0.5663637592276097,
          0.388136220220488,
          -0.38283641040636496,
          0.17317001393897605,
          -0.5286808922581722,
          -0.5663602256360714,
          0.36679771513745135,
          -0.5663602980006894,
          -0.010363222277510823,
          -0.20147548097336523,
          0.17316973912203262,
          -0.21097429689299196,
          -0.010353953902543948,
          -0.7565245413754298,
          -0.001282185380273565,
          -0.566363393900797,
          -0.5286971274053954,
          0.3545951244739136,
          -0.0012897251752655968,
          -0.28311132199694383,
          -0.6457083160710418,
          -0.0012752123745561564,
          -0.7547920248520941,
          0.4553707794125493,
          0.33864954704021266,
          0.00881772934873435,
          -0.528682451868461,
          -0.01030786869235847,
          0.027248653186643153,
          -0.6570439815454354,
          -0.528681200014653,
          -0.0012799841224295219,
          -0.5663615347216095,
          -0.5663600773544197,
          0.02732165726434587,
          -0.0012772366924737382,
          -0.5286810554954852,
          -0.38283757560391235,
          -0.5663618796254599,
          -0.3153687446836179,
          -0.5663610136168329,
          -0.5663569854881895,
          -0.5286808947652496,
          0.38813696199878356,
          -0.5663600012791034,
          -0.2045638622430489,
          -0.5663603645211501,
          -0.5663604115081883,
          -0.10025825253246852,
          -0.3328310225599385,
          -0.010353127392766902,
          0.3881361664330799,
          0.35274742068614007,
          -0.5663592355039483,
          -0.382836599656438,
          -0.5286813415824538,
          -0.5663611377975812,
          0.027917871060905947,
          -0.5663599967363689,
          0.4186182639837639,
          -0.20145878834968037,
          -0.22546097922586247,
          -0.010353340966548394,
          -0.283112423233494,
          0.02732966801061502,
          0.338649393042386,
          -0.5664516888434495,
          -0.010362199995097032,
          0.3527458575369478,
          -0.20146216822240073,
          0.4695228267607871,
          -0.5286814930843202,
          -0.5054418321187948,
          -0.5286909828261452,
          -0.010333568009755358,
          -0.0012855884529916679,
          -0.5286823124254564,
          -0.011005619192544343,
          -0.0013121768033922776,
          -0.5286895517392607,
          -0.5663604974588532,
          -0.5663600361371298,
          -0.5663537138095476,
          -0.017461863075945782,
          -0.5286822726095811,
          -0.010354815930647578,
          -0.20147490050855824,
          0.1730574999329582,
          -0.00127632829711591,
          -0.5663615249974072,
          -0.6039739172825231,
          -0.017934960451721257,
          -0.010353933668202055,
          0.04344438051963042,
          0.41861205660727036,
          -0.966809135380527,
          0.334415571920089,
          0.4058987477155186,
          0.47469839377756273,
          0.3879724373809857,
          -0.5670123328306387,
          0.027323403317027765,
          -0.5670173850365349,
          -0.696810157159217,
          -0.010354710532797701,
          -0.6480142361401763,
          -0.010353080582653829,
          0.02732403728170968,
          0.027326068144485315,
          -0.5669245762012886,
          0.3881358823038504,
          -0.6480143712800367,
          0.21073905401940837,
          -0.02504776813142954,
          0.13617572858586952,
          0.08249917665042923,
          0.027321285271320606,
          -0.6968141298229035,
          0.17316893455941493,
          -0.5286820179573093,
          -0.20146057353577626,
          -1.6052787099618138,
          -0.010285452809975887,
          -0.0012754002771928248,
          -0.02437114960732848,
          -0.010353879613505384,
          -0.010354226916146436,
          -0.010355613104919859,
          -0.010355717970548047,
          -0.566361712304469,
          -0.5663604924851146,
          0.3881366183047124,
          -0.09037760338214959,
          -0.0322284793272733,
          -0.5286813850508906,
          0.3382744084585124,
          -0.3832299931083616,
          0.027072856113888023,
          -0.5663601182937626,
          0.17279214882479818,
          0.06328641646156519,
          0.3386484110580622,
          -0.5709492252133505,
          -0.38284486623110764,
          -0.5670592053833174,
          -0.6555987438601483,
          0.4199673891386383,
          -0.5663601832620404,
          -0.4651602916585808,
          -0.010362214364753364,
          0.18509247182250796,
          -0.5663616164862192,
          -0.01875946471570151,
          0.0273112831759666,
          0.17279204823596328,
          0.45537373296454403,
          0.17279201641010566,
          -0.5286836637051283,
          0.008802512094540945,
          -0.5696024965477102,
          -0.6480289823549022,
          0.36684503875860186,
          -0.5663696332172864,
          0.3867944994574268,
          0.38813656200640456,
          0.4553865498961735,
          -0.20211185671708204,
          -0.10025885139527109,
          0.02732187423329169,
          0.4185813338506163,
          -0.5665194006030891,
          -0.5663599666916913,
          -0.010709429053295819,
          -0.5286849531300077,
          0.18776697752231944,
          0.02732591650146508,
          0.17279174929591357,
          -0.10025922104294013,
          0.17276621734290024,
          -0.01035710332247853,
          -0.5664122435432574,
          -0.5663603275726041,
          -0.16377989222173683,
          0.027325520608788213,
          0.17316871643350912,
          0.13224582468761792,
          0.04345169550959902,
          0.2642672321750529,
          -0.4515896118003157,
          0.3893709883250942,
          0.40095768507926954,
          -0.5663816336390674,
          0.38812595883807144,
          -0.011268867230283716,
          0.419959837436173,
          0.25433839326351343,
          -0.2831285134275754,
          17.30284689196083,
          8.768610417441133,
          -0.010354019540176795,
          -0.011654928064571163,
          0.027308712751065143,
          -0.42376118427993964,
          12.569054741447246,
          -0.5286808985461373,
          -0.3183060251602006,
          -0.20146056376910637,
          0.045193241459489664,
          0.45539078717558756,
          0.3881355188889354,
          -0.010353320919661763,
          0.40903312534699526,
          -0.5670130177542972,
          -0.5663601714086182,
          -0.566360191509153,
          0.3386434184598634,
          -0.20148183630684205,
          0.3545949813538777,
          0.10446704382928279,
          -0.0012769825158869918,
          -0.5663608830803171,
          -0.013027451185419306,
          0.027323730473635,
          -0.4651709790287666,
          -0.0012759752699277953,
          0.38813547109077834,
          0.003578950488654,
          -0.5664647480726037,
          -0.011006867764014805,
          0.3527472097902529,
          0.16543526698929334,
          0.375092281090089,
          -0.20146248290967791,
          0.3545951112830806,
          0.38814078014486664,
          0.3189286648261953,
          0.3852745873707896,
          -0.5672942340299162,
          -0.20145932066022817,
          0.4110711631123507,
          -0.7547369222424727,
          0.38808846373279415,
          -0.5663616838836038,
          -0.23566936699553112,
          -0.2718680046713068,
          -0.10025339646201428,
          -0.017940256603999567,
          -0.014805068304620155,
          0.1946842369202772,
          0.19774834331779007,
          0.027325849343712277,
          -0.3613252468865118,
          -0.10025787712428917,
          -0.4651591168618202,
          -0.20135019973307325,
          -0.3016136058657145,
          -0.10026314874713554,
          -0.01035305368678262,
          -0.5663541945001088,
          0.41862789537574907,
          0.2191467166874997,
          0.23770058751831583,
          0.3103595261602847,
          -0.16378113001678016,
          -0.5286835412810349,
          -0.20146774448885657,
          -0.001274966315725573,
          0.17297824315901464,
          -0.41964196433064005,
          -0.16377939276726036,
          0.027325872875986274,
          -0.5663480339792516,
          -0.20619921194550428,
          0.1946845794180091,
          18.053870814709587,
          0.33828378639474466,
          0.04659453779355661,
          0.35459493313906715,
          0.1731689348608388,
          0.2928234433043479,
          -0.16546658186297034,
          0.388005966126835,
          -0.465161683316378,
          0.2866485269145641,
          0.28664661352155574,
          0.14754351856902898,
          0.4384009666864363,
          -0.010355742830043712,
          -0.566361421096106,
          0.3386481569968565,
          -0.4651602375580781,
          0.33864769561711305,
          -0.10025742168728341,
          -0.5688998287124113,
          0.2231778604138772,
          -0.16377953873286014,
          -0.5663615806827641,
          -0.3183226498420766,
          -0.7547899581172819,
          -0.5286796525970112,
          0.17316584955751568,
          -0.09200539523365099,
          0.17316335156948803,
          -0.5286829844475436,
          0.008735949375330763,
          -0.5676362204768091,
          -0.00972644100904507,
          -0.52870462521837,
          0.17244324431783464,
          -0.5663591659611957,
          0.2866908161356343,
          -0.566361775265092,
          -0.01793553097284998,
          -0.5663610519341111,
          -0.528720398747168,
          -0.010423093607086372,
          -0.5663885912177237,
          -0.38459378759672036,
          -0.528722851545488,
          0.17316858059212392,
          -0.5663658926419655,
          -0.012930847203227144,
          -0.5663971633627296,
          0.12808700015026078,
          -0.5286992455153601,
          -0.5663692343928856,
          -0.00127572165904525,
          -0.010353520301730947,
          -0.010358715362628503,
          -0.4008630699689244,
          -0.3828431308740441,
          0.008816796660167766,
          -0.202374633272014,
          -0.5663828775356999,
          -0.3832143895308724,
          0.36688769886048583,
          -0.6480123576736107,
          0.4815314235677753,
          0.008727492470662348,
          0.4553709367116051,
          0.008717509921370626,
          -0.01802681672845034,
          11.606577025319176,
          -0.0012762594130326364,
          -0.08229101571349365,
          0.008496742613993193,
          0.00551253391265372,
          -0.566359960684626,
          0.3880498588924909,
          0.3386493820669686,
          -0.20145886236692548
         ]
        }
       ],
       "layout": {
        "coloraxis": {
         "colorbar": {
          "title": {
           "text": "class"
          }
         },
         "colorscale": [
          [
           0,
           "#0d0887"
          ],
          [
           0.1111111111111111,
           "#46039f"
          ],
          [
           0.2222222222222222,
           "#7201a8"
          ],
          [
           0.3333333333333333,
           "#9c179e"
          ],
          [
           0.4444444444444444,
           "#bd3786"
          ],
          [
           0.5555555555555556,
           "#d8576b"
          ],
          [
           0.6666666666666666,
           "#ed7953"
          ],
          [
           0.7777777777777778,
           "#fb9f3a"
          ],
          [
           0.8888888888888888,
           "#fdca26"
          ],
          [
           1,
           "#f0f921"
          ]
         ]
        },
        "legend": {
         "tracegroupgap": 0
        },
        "margin": {
         "t": 60
        },
        "scene": {
         "domain": {
          "x": [
           0,
           1
          ],
          "y": [
           0,
           1
          ]
         },
         "xaxis": {
          "title": {
           "text": "PC 1"
          }
         },
         "yaxis": {
          "title": {
           "text": "PC 2"
          }
         },
         "zaxis": {
          "title": {
           "text": "PC 3"
          }
         }
        },
        "template": {
         "data": {
          "bar": [
           {
            "error_x": {
             "color": "#2a3f5f"
            },
            "error_y": {
             "color": "#2a3f5f"
            },
            "marker": {
             "line": {
              "color": "#E5ECF6",
              "width": 0.5
             }
            },
            "type": "bar"
           }
          ],
          "barpolar": [
           {
            "marker": {
             "line": {
              "color": "#E5ECF6",
              "width": 0.5
             }
            },
            "type": "barpolar"
           }
          ],
          "carpet": [
           {
            "aaxis": {
             "endlinecolor": "#2a3f5f",
             "gridcolor": "white",
             "linecolor": "white",
             "minorgridcolor": "white",
             "startlinecolor": "#2a3f5f"
            },
            "baxis": {
             "endlinecolor": "#2a3f5f",
             "gridcolor": "white",
             "linecolor": "white",
             "minorgridcolor": "white",
             "startlinecolor": "#2a3f5f"
            },
            "type": "carpet"
           }
          ],
          "choropleth": [
           {
            "colorbar": {
             "outlinewidth": 0,
             "ticks": ""
            },
            "type": "choropleth"
           }
          ],
          "contour": [
           {
            "colorbar": {
             "outlinewidth": 0,
             "ticks": ""
            },
            "colorscale": [
             [
              0,
              "#0d0887"
             ],
             [
              0.1111111111111111,
              "#46039f"
             ],
             [
              0.2222222222222222,
              "#7201a8"
             ],
             [
              0.3333333333333333,
              "#9c179e"
             ],
             [
              0.4444444444444444,
              "#bd3786"
             ],
             [
              0.5555555555555556,
              "#d8576b"
             ],
             [
              0.6666666666666666,
              "#ed7953"
             ],
             [
              0.7777777777777778,
              "#fb9f3a"
             ],
             [
              0.8888888888888888,
              "#fdca26"
             ],
             [
              1,
              "#f0f921"
             ]
            ],
            "type": "contour"
           }
          ],
          "contourcarpet": [
           {
            "colorbar": {
             "outlinewidth": 0,
             "ticks": ""
            },
            "type": "contourcarpet"
           }
          ],
          "heatmap": [
           {
            "colorbar": {
             "outlinewidth": 0,
             "ticks": ""
            },
            "colorscale": [
             [
              0,
              "#0d0887"
             ],
             [
              0.1111111111111111,
              "#46039f"
             ],
             [
              0.2222222222222222,
              "#7201a8"
             ],
             [
              0.3333333333333333,
              "#9c179e"
             ],
             [
              0.4444444444444444,
              "#bd3786"
             ],
             [
              0.5555555555555556,
              "#d8576b"
             ],
             [
              0.6666666666666666,
              "#ed7953"
             ],
             [
              0.7777777777777778,
              "#fb9f3a"
             ],
             [
              0.8888888888888888,
              "#fdca26"
             ],
             [
              1,
              "#f0f921"
             ]
            ],
            "type": "heatmap"
           }
          ],
          "heatmapgl": [
           {
            "colorbar": {
             "outlinewidth": 0,
             "ticks": ""
            },
            "colorscale": [
             [
              0,
              "#0d0887"
             ],
             [
              0.1111111111111111,
              "#46039f"
             ],
             [
              0.2222222222222222,
              "#7201a8"
             ],
             [
              0.3333333333333333,
              "#9c179e"
             ],
             [
              0.4444444444444444,
              "#bd3786"
             ],
             [
              0.5555555555555556,
              "#d8576b"
             ],
             [
              0.6666666666666666,
              "#ed7953"
             ],
             [
              0.7777777777777778,
              "#fb9f3a"
             ],
             [
              0.8888888888888888,
              "#fdca26"
             ],
             [
              1,
              "#f0f921"
             ]
            ],
            "type": "heatmapgl"
           }
          ],
          "histogram": [
           {
            "marker": {
             "colorbar": {
              "outlinewidth": 0,
              "ticks": ""
             }
            },
            "type": "histogram"
           }
          ],
          "histogram2d": [
           {
            "colorbar": {
             "outlinewidth": 0,
             "ticks": ""
            },
            "colorscale": [
             [
              0,
              "#0d0887"
             ],
             [
              0.1111111111111111,
              "#46039f"
             ],
             [
              0.2222222222222222,
              "#7201a8"
             ],
             [
              0.3333333333333333,
              "#9c179e"
             ],
             [
              0.4444444444444444,
              "#bd3786"
             ],
             [
              0.5555555555555556,
              "#d8576b"
             ],
             [
              0.6666666666666666,
              "#ed7953"
             ],
             [
              0.7777777777777778,
              "#fb9f3a"
             ],
             [
              0.8888888888888888,
              "#fdca26"
             ],
             [
              1,
              "#f0f921"
             ]
            ],
            "type": "histogram2d"
           }
          ],
          "histogram2dcontour": [
           {
            "colorbar": {
             "outlinewidth": 0,
             "ticks": ""
            },
            "colorscale": [
             [
              0,
              "#0d0887"
             ],
             [
              0.1111111111111111,
              "#46039f"
             ],
             [
              0.2222222222222222,
              "#7201a8"
             ],
             [
              0.3333333333333333,
              "#9c179e"
             ],
             [
              0.4444444444444444,
              "#bd3786"
             ],
             [
              0.5555555555555556,
              "#d8576b"
             ],
             [
              0.6666666666666666,
              "#ed7953"
             ],
             [
              0.7777777777777778,
              "#fb9f3a"
             ],
             [
              0.8888888888888888,
              "#fdca26"
             ],
             [
              1,
              "#f0f921"
             ]
            ],
            "type": "histogram2dcontour"
           }
          ],
          "mesh3d": [
           {
            "colorbar": {
             "outlinewidth": 0,
             "ticks": ""
            },
            "type": "mesh3d"
           }
          ],
          "parcoords": [
           {
            "line": {
             "colorbar": {
              "outlinewidth": 0,
              "ticks": ""
             }
            },
            "type": "parcoords"
           }
          ],
          "pie": [
           {
            "automargin": true,
            "type": "pie"
           }
          ],
          "scatter": [
           {
            "marker": {
             "colorbar": {
              "outlinewidth": 0,
              "ticks": ""
             }
            },
            "type": "scatter"
           }
          ],
          "scatter3d": [
           {
            "line": {
             "colorbar": {
              "outlinewidth": 0,
              "ticks": ""
             }
            },
            "marker": {
             "colorbar": {
              "outlinewidth": 0,
              "ticks": ""
             }
            },
            "type": "scatter3d"
           }
          ],
          "scattercarpet": [
           {
            "marker": {
             "colorbar": {
              "outlinewidth": 0,
              "ticks": ""
             }
            },
            "type": "scattercarpet"
           }
          ],
          "scattergeo": [
           {
            "marker": {
             "colorbar": {
              "outlinewidth": 0,
              "ticks": ""
             }
            },
            "type": "scattergeo"
           }
          ],
          "scattergl": [
           {
            "marker": {
             "colorbar": {
              "outlinewidth": 0,
              "ticks": ""
             }
            },
            "type": "scattergl"
           }
          ],
          "scattermapbox": [
           {
            "marker": {
             "colorbar": {
              "outlinewidth": 0,
              "ticks": ""
             }
            },
            "type": "scattermapbox"
           }
          ],
          "scatterpolar": [
           {
            "marker": {
             "colorbar": {
              "outlinewidth": 0,
              "ticks": ""
             }
            },
            "type": "scatterpolar"
           }
          ],
          "scatterpolargl": [
           {
            "marker": {
             "colorbar": {
              "outlinewidth": 0,
              "ticks": ""
             }
            },
            "type": "scatterpolargl"
           }
          ],
          "scatterternary": [
           {
            "marker": {
             "colorbar": {
              "outlinewidth": 0,
              "ticks": ""
             }
            },
            "type": "scatterternary"
           }
          ],
          "surface": [
           {
            "colorbar": {
             "outlinewidth": 0,
             "ticks": ""
            },
            "colorscale": [
             [
              0,
              "#0d0887"
             ],
             [
              0.1111111111111111,
              "#46039f"
             ],
             [
              0.2222222222222222,
              "#7201a8"
             ],
             [
              0.3333333333333333,
              "#9c179e"
             ],
             [
              0.4444444444444444,
              "#bd3786"
             ],
             [
              0.5555555555555556,
              "#d8576b"
             ],
             [
              0.6666666666666666,
              "#ed7953"
             ],
             [
              0.7777777777777778,
              "#fb9f3a"
             ],
             [
              0.8888888888888888,
              "#fdca26"
             ],
             [
              1,
              "#f0f921"
             ]
            ],
            "type": "surface"
           }
          ],
          "table": [
           {
            "cells": {
             "fill": {
              "color": "#EBF0F8"
             },
             "line": {
              "color": "white"
             }
            },
            "header": {
             "fill": {
              "color": "#C8D4E3"
             },
             "line": {
              "color": "white"
             }
            },
            "type": "table"
           }
          ]
         },
         "layout": {
          "annotationdefaults": {
           "arrowcolor": "#2a3f5f",
           "arrowhead": 0,
           "arrowwidth": 1
          },
          "autotypenumbers": "strict",
          "coloraxis": {
           "colorbar": {
            "outlinewidth": 0,
            "ticks": ""
           }
          },
          "colorscale": {
           "diverging": [
            [
             0,
             "#8e0152"
            ],
            [
             0.1,
             "#c51b7d"
            ],
            [
             0.2,
             "#de77ae"
            ],
            [
             0.3,
             "#f1b6da"
            ],
            [
             0.4,
             "#fde0ef"
            ],
            [
             0.5,
             "#f7f7f7"
            ],
            [
             0.6,
             "#e6f5d0"
            ],
            [
             0.7,
             "#b8e186"
            ],
            [
             0.8,
             "#7fbc41"
            ],
            [
             0.9,
             "#4d9221"
            ],
            [
             1,
             "#276419"
            ]
           ],
           "sequential": [
            [
             0,
             "#0d0887"
            ],
            [
             0.1111111111111111,
             "#46039f"
            ],
            [
             0.2222222222222222,
             "#7201a8"
            ],
            [
             0.3333333333333333,
             "#9c179e"
            ],
            [
             0.4444444444444444,
             "#bd3786"
            ],
            [
             0.5555555555555556,
             "#d8576b"
            ],
            [
             0.6666666666666666,
             "#ed7953"
            ],
            [
             0.7777777777777778,
             "#fb9f3a"
            ],
            [
             0.8888888888888888,
             "#fdca26"
            ],
            [
             1,
             "#f0f921"
            ]
           ],
           "sequentialminus": [
            [
             0,
             "#0d0887"
            ],
            [
             0.1111111111111111,
             "#46039f"
            ],
            [
             0.2222222222222222,
             "#7201a8"
            ],
            [
             0.3333333333333333,
             "#9c179e"
            ],
            [
             0.4444444444444444,
             "#bd3786"
            ],
            [
             0.5555555555555556,
             "#d8576b"
            ],
            [
             0.6666666666666666,
             "#ed7953"
            ],
            [
             0.7777777777777778,
             "#fb9f3a"
            ],
            [
             0.8888888888888888,
             "#fdca26"
            ],
            [
             1,
             "#f0f921"
            ]
           ]
          },
          "colorway": [
           "#636efa",
           "#EF553B",
           "#00cc96",
           "#ab63fa",
           "#FFA15A",
           "#19d3f3",
           "#FF6692",
           "#B6E880",
           "#FF97FF",
           "#FECB52"
          ],
          "font": {
           "color": "#2a3f5f"
          },
          "geo": {
           "bgcolor": "white",
           "lakecolor": "white",
           "landcolor": "#E5ECF6",
           "showlakes": true,
           "showland": true,
           "subunitcolor": "white"
          },
          "hoverlabel": {
           "align": "left"
          },
          "hovermode": "closest",
          "mapbox": {
           "style": "light"
          },
          "paper_bgcolor": "white",
          "plot_bgcolor": "#E5ECF6",
          "polar": {
           "angularaxis": {
            "gridcolor": "white",
            "linecolor": "white",
            "ticks": ""
           },
           "bgcolor": "#E5ECF6",
           "radialaxis": {
            "gridcolor": "white",
            "linecolor": "white",
            "ticks": ""
           }
          },
          "scene": {
           "xaxis": {
            "backgroundcolor": "#E5ECF6",
            "gridcolor": "white",
            "gridwidth": 2,
            "linecolor": "white",
            "showbackground": true,
            "ticks": "",
            "zerolinecolor": "white"
           },
           "yaxis": {
            "backgroundcolor": "#E5ECF6",
            "gridcolor": "white",
            "gridwidth": 2,
            "linecolor": "white",
            "showbackground": true,
            "ticks": "",
            "zerolinecolor": "white"
           },
           "zaxis": {
            "backgroundcolor": "#E5ECF6",
            "gridcolor": "white",
            "gridwidth": 2,
            "linecolor": "white",
            "showbackground": true,
            "ticks": "",
            "zerolinecolor": "white"
           }
          },
          "shapedefaults": {
           "line": {
            "color": "#2a3f5f"
           }
          },
          "ternary": {
           "aaxis": {
            "gridcolor": "white",
            "linecolor": "white",
            "ticks": ""
           },
           "baxis": {
            "gridcolor": "white",
            "linecolor": "white",
            "ticks": ""
           },
           "bgcolor": "#E5ECF6",
           "caxis": {
            "gridcolor": "white",
            "linecolor": "white",
            "ticks": ""
           }
          },
          "title": {
           "x": 0.05
          },
          "xaxis": {
           "automargin": true,
           "gridcolor": "white",
           "linecolor": "white",
           "ticks": "",
           "title": {
            "standoff": 15
           },
           "zerolinecolor": "white",
           "zerolinewidth": 2
          },
          "yaxis": {
           "automargin": true,
           "gridcolor": "white",
           "linecolor": "white",
           "ticks": "",
           "title": {
            "standoff": 15
           },
           "zerolinecolor": "white",
           "zerolinewidth": 2
          }
         }
        },
        "width": 800
       }
      }
     },
     "metadata": {}
    }
   ],
   "source": [
    "# Create a 3D-Scatter with the PCA data and the clusters\n",
    "fig = px.scatter_3d(\n",
    "    clustered_df,\n",
    "    x=\"PC 1\",\n",
    "    y=\"PC 2\",\n",
    "    z=\"PC 3\",\n",
    "    color=\"class\",\n",
    "    width=800,\n",
    ")\n",
    "#fig.update_layout(legend=dict(x=0, y=1))\n",
    "fig.show()"
   ]
  },
  {
   "cell_type": "markdown",
   "metadata": {},
   "source": [
    "#### Table of Tradable Cryptocurrencies"
   ]
  },
  {
   "cell_type": "code",
   "execution_count": 22,
   "metadata": {},
   "outputs": [],
   "source": [
    "# Table with tradable cryptos\n"
   ]
  },
  {
   "cell_type": "code",
   "execution_count": 23,
   "metadata": {},
   "outputs": [],
   "source": [
    "# Print the total number of tradable cryptocurrencies\n"
   ]
  },
  {
   "cell_type": "markdown",
   "metadata": {},
   "source": [
    "#### Scatter Plot with Tradable Cryptocurrencies"
   ]
  },
  {
   "cell_type": "code",
   "execution_count": 24,
   "metadata": {},
   "outputs": [],
   "source": [
    "# Scale data to create the scatter plot\n"
   ]
  },
  {
   "cell_type": "code",
   "execution_count": 25,
   "metadata": {},
   "outputs": [],
   "source": [
    "# Plot the scatter with x=\"TotalCoinsMined\" and y=\"TotalCoinSupply\"\n"
   ]
  }
 ],
 "metadata": {
  "file_extension": ".py",
  "kernelspec": {
   "display_name": "Python 3",
   "language": "python",
   "name": "python3"
  },
  "language_info": {
   "codemirror_mode": {
    "name": "ipython",
    "version": 3
   },
   "file_extension": ".py",
   "mimetype": "text/x-python",
   "name": "python",
   "nbconvert_exporter": "python",
   "pygments_lexer": "ipython3",
   "version": "3.8.5"
  },
  "mimetype": "text/x-python",
  "name": "python",
  "npconvert_exporter": "python",
  "pygments_lexer": "ipython3",
  "version": 3
 },
 "nbformat": 4,
 "nbformat_minor": 4
}